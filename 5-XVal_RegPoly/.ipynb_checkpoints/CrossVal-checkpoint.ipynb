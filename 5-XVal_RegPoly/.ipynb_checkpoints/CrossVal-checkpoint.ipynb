{
 "cells": [
  {
   "cell_type": "markdown",
   "metadata": {},
   "source": [
    "# Régularisation et sélection de modèle"
   ]
  },
  {
   "cell_type": "markdown",
   "metadata": {},
   "source": [
    "## Chargement et observation"
   ]
  },
  {
   "cell_type": "markdown",
   "metadata": {},
   "source": [
    "**Question** Charger le jeu de données diabetes : https://scikit-learn.org/stable/modules/generated/sklearn.datasets.load_diabetes.html#sklearn.datasets.load_diabetes"
   ]
  },
  {
   "cell_type": "code",
   "execution_count": 4,
   "metadata": {},
   "outputs": [],
   "source": [
    "import numpy as np\n",
    "\n",
    "from sklearn import datasets "
   ]
  },
  {
   "cell_type": "code",
   "execution_count": 5,
   "metadata": {},
   "outputs": [],
   "source": [
    "diabetes = datasets.load_diabetes()"
   ]
  },
  {
   "cell_type": "code",
   "execution_count": 6,
   "metadata": {},
   "outputs": [
    {
     "name": "stdout",
     "output_type": "stream",
     "text": [
      ".. _diabetes_dataset:\n",
      "\n",
      "Diabetes dataset\n",
      "----------------\n",
      "\n",
      "Ten baseline variables, age, sex, body mass index, average blood\n",
      "pressure, and six blood serum measurements were obtained for each of n =\n",
      "442 diabetes patients, as well as the response of interest, a\n",
      "quantitative measure of disease progression one year after baseline.\n",
      "\n",
      "**Data Set Characteristics:**\n",
      "\n",
      "  :Number of Instances: 442\n",
      "\n",
      "  :Number of Attributes: First 10 columns are numeric predictive values\n",
      "\n",
      "  :Target: Column 11 is a quantitative measure of disease progression one year after baseline\n",
      "\n",
      "  :Attribute Information:\n",
      "      - Age\n",
      "      - Sex\n",
      "      - Body mass index\n",
      "      - Average blood pressure\n",
      "      - S1\n",
      "      - S2\n",
      "      - S3\n",
      "      - S4\n",
      "      - S5\n",
      "      - S6\n",
      "\n",
      "Note: Each of these 10 feature variables have been mean centered and scaled by the standard deviation times `n_samples` (i.e. the sum of squares of each column totals 1).\n",
      "\n",
      "Source URL:\n",
      "http://www4.stat.ncsu.edu/~boos/var.select/diabetes.html\n",
      "\n",
      "For more information see:\n",
      "Bradley Efron, Trevor Hastie, Iain Johnstone and Robert Tibshirani (2004) \"Least Angle Regression,\" Annals of Statistics (with discussion), 407-499.\n",
      "(http://web.stanford.edu/~hastie/Papers/LARS/LeastAngle_2002.pdf)\n"
     ]
    }
   ],
   "source": [
    "print(diabetes.DESCR)"
   ]
  },
  {
   "cell_type": "markdown",
   "metadata": {},
   "source": [
    "**Question** Construire un `dataframe` à partir des données. Ajouter une colonne `target` pour la cible. Afficher les premières lignes du dataframe et afficher les statistiques descriptives.  "
   ]
  },
  {
   "cell_type": "code",
   "execution_count": 7,
   "metadata": {},
   "outputs": [],
   "source": [
    "import pandas as pd"
   ]
  },
  {
   "cell_type": "code",
   "execution_count": 8,
   "metadata": {},
   "outputs": [],
   "source": [
    "df = pd.DataFrame(diabetes.data,columns=diabetes.feature_names)"
   ]
  },
  {
   "cell_type": "code",
   "execution_count": 9,
   "metadata": {},
   "outputs": [],
   "source": [
    "df['target']=diabetes.target"
   ]
  },
  {
   "cell_type": "code",
   "execution_count": 10,
   "metadata": {},
   "outputs": [
    {
     "data": {
      "text/html": [
       "<div>\n",
       "<style scoped>\n",
       "    .dataframe tbody tr th:only-of-type {\n",
       "        vertical-align: middle;\n",
       "    }\n",
       "\n",
       "    .dataframe tbody tr th {\n",
       "        vertical-align: top;\n",
       "    }\n",
       "\n",
       "    .dataframe thead th {\n",
       "        text-align: right;\n",
       "    }\n",
       "</style>\n",
       "<table border=\"1\" class=\"dataframe\">\n",
       "  <thead>\n",
       "    <tr style=\"text-align: right;\">\n",
       "      <th></th>\n",
       "      <th>age</th>\n",
       "      <th>sex</th>\n",
       "      <th>bmi</th>\n",
       "      <th>bp</th>\n",
       "      <th>s1</th>\n",
       "      <th>s2</th>\n",
       "      <th>s3</th>\n",
       "      <th>s4</th>\n",
       "      <th>s5</th>\n",
       "      <th>s6</th>\n",
       "      <th>target</th>\n",
       "    </tr>\n",
       "  </thead>\n",
       "  <tbody>\n",
       "    <tr>\n",
       "      <th>0</th>\n",
       "      <td>0.038076</td>\n",
       "      <td>0.050680</td>\n",
       "      <td>0.061696</td>\n",
       "      <td>0.021872</td>\n",
       "      <td>-0.044223</td>\n",
       "      <td>-0.034821</td>\n",
       "      <td>-0.043401</td>\n",
       "      <td>-0.002592</td>\n",
       "      <td>0.019908</td>\n",
       "      <td>-0.017646</td>\n",
       "      <td>151.0</td>\n",
       "    </tr>\n",
       "    <tr>\n",
       "      <th>1</th>\n",
       "      <td>-0.001882</td>\n",
       "      <td>-0.044642</td>\n",
       "      <td>-0.051474</td>\n",
       "      <td>-0.026328</td>\n",
       "      <td>-0.008449</td>\n",
       "      <td>-0.019163</td>\n",
       "      <td>0.074412</td>\n",
       "      <td>-0.039493</td>\n",
       "      <td>-0.068330</td>\n",
       "      <td>-0.092204</td>\n",
       "      <td>75.0</td>\n",
       "    </tr>\n",
       "    <tr>\n",
       "      <th>2</th>\n",
       "      <td>0.085299</td>\n",
       "      <td>0.050680</td>\n",
       "      <td>0.044451</td>\n",
       "      <td>-0.005671</td>\n",
       "      <td>-0.045599</td>\n",
       "      <td>-0.034194</td>\n",
       "      <td>-0.032356</td>\n",
       "      <td>-0.002592</td>\n",
       "      <td>0.002864</td>\n",
       "      <td>-0.025930</td>\n",
       "      <td>141.0</td>\n",
       "    </tr>\n",
       "    <tr>\n",
       "      <th>3</th>\n",
       "      <td>-0.089063</td>\n",
       "      <td>-0.044642</td>\n",
       "      <td>-0.011595</td>\n",
       "      <td>-0.036656</td>\n",
       "      <td>0.012191</td>\n",
       "      <td>0.024991</td>\n",
       "      <td>-0.036038</td>\n",
       "      <td>0.034309</td>\n",
       "      <td>0.022692</td>\n",
       "      <td>-0.009362</td>\n",
       "      <td>206.0</td>\n",
       "    </tr>\n",
       "    <tr>\n",
       "      <th>4</th>\n",
       "      <td>0.005383</td>\n",
       "      <td>-0.044642</td>\n",
       "      <td>-0.036385</td>\n",
       "      <td>0.021872</td>\n",
       "      <td>0.003935</td>\n",
       "      <td>0.015596</td>\n",
       "      <td>0.008142</td>\n",
       "      <td>-0.002592</td>\n",
       "      <td>-0.031991</td>\n",
       "      <td>-0.046641</td>\n",
       "      <td>135.0</td>\n",
       "    </tr>\n",
       "  </tbody>\n",
       "</table>\n",
       "</div>"
      ],
      "text/plain": [
       "        age       sex       bmi        bp        s1        s2        s3  \\\n",
       "0  0.038076  0.050680  0.061696  0.021872 -0.044223 -0.034821 -0.043401   \n",
       "1 -0.001882 -0.044642 -0.051474 -0.026328 -0.008449 -0.019163  0.074412   \n",
       "2  0.085299  0.050680  0.044451 -0.005671 -0.045599 -0.034194 -0.032356   \n",
       "3 -0.089063 -0.044642 -0.011595 -0.036656  0.012191  0.024991 -0.036038   \n",
       "4  0.005383 -0.044642 -0.036385  0.021872  0.003935  0.015596  0.008142   \n",
       "\n",
       "         s4        s5        s6  target  \n",
       "0 -0.002592  0.019908 -0.017646   151.0  \n",
       "1 -0.039493 -0.068330 -0.092204    75.0  \n",
       "2 -0.002592  0.002864 -0.025930   141.0  \n",
       "3  0.034309  0.022692 -0.009362   206.0  \n",
       "4 -0.002592 -0.031991 -0.046641   135.0  "
      ]
     },
     "execution_count": 10,
     "metadata": {},
     "output_type": "execute_result"
    }
   ],
   "source": [
    "df.head()"
   ]
  },
  {
   "cell_type": "code",
   "execution_count": 11,
   "metadata": {
    "scrolled": true
   },
   "outputs": [
    {
     "data": {
      "text/html": [
       "<div>\n",
       "<style scoped>\n",
       "    .dataframe tbody tr th:only-of-type {\n",
       "        vertical-align: middle;\n",
       "    }\n",
       "\n",
       "    .dataframe tbody tr th {\n",
       "        vertical-align: top;\n",
       "    }\n",
       "\n",
       "    .dataframe thead th {\n",
       "        text-align: right;\n",
       "    }\n",
       "</style>\n",
       "<table border=\"1\" class=\"dataframe\">\n",
       "  <thead>\n",
       "    <tr style=\"text-align: right;\">\n",
       "      <th></th>\n",
       "      <th>age</th>\n",
       "      <th>sex</th>\n",
       "      <th>bmi</th>\n",
       "      <th>bp</th>\n",
       "      <th>s1</th>\n",
       "      <th>s2</th>\n",
       "      <th>s3</th>\n",
       "      <th>s4</th>\n",
       "      <th>s5</th>\n",
       "      <th>s6</th>\n",
       "      <th>target</th>\n",
       "    </tr>\n",
       "  </thead>\n",
       "  <tbody>\n",
       "    <tr>\n",
       "      <th>count</th>\n",
       "      <td>4.420000e+02</td>\n",
       "      <td>4.420000e+02</td>\n",
       "      <td>4.420000e+02</td>\n",
       "      <td>4.420000e+02</td>\n",
       "      <td>4.420000e+02</td>\n",
       "      <td>4.420000e+02</td>\n",
       "      <td>4.420000e+02</td>\n",
       "      <td>4.420000e+02</td>\n",
       "      <td>4.420000e+02</td>\n",
       "      <td>4.420000e+02</td>\n",
       "      <td>442.000000</td>\n",
       "    </tr>\n",
       "    <tr>\n",
       "      <th>mean</th>\n",
       "      <td>-3.634285e-16</td>\n",
       "      <td>1.308343e-16</td>\n",
       "      <td>-8.045349e-16</td>\n",
       "      <td>1.281655e-16</td>\n",
       "      <td>-8.835316e-17</td>\n",
       "      <td>1.327024e-16</td>\n",
       "      <td>-4.574646e-16</td>\n",
       "      <td>3.777301e-16</td>\n",
       "      <td>-3.830854e-16</td>\n",
       "      <td>-3.412882e-16</td>\n",
       "      <td>152.133484</td>\n",
       "    </tr>\n",
       "    <tr>\n",
       "      <th>std</th>\n",
       "      <td>4.761905e-02</td>\n",
       "      <td>4.761905e-02</td>\n",
       "      <td>4.761905e-02</td>\n",
       "      <td>4.761905e-02</td>\n",
       "      <td>4.761905e-02</td>\n",
       "      <td>4.761905e-02</td>\n",
       "      <td>4.761905e-02</td>\n",
       "      <td>4.761905e-02</td>\n",
       "      <td>4.761905e-02</td>\n",
       "      <td>4.761905e-02</td>\n",
       "      <td>77.093005</td>\n",
       "    </tr>\n",
       "    <tr>\n",
       "      <th>min</th>\n",
       "      <td>-1.072256e-01</td>\n",
       "      <td>-4.464164e-02</td>\n",
       "      <td>-9.027530e-02</td>\n",
       "      <td>-1.123996e-01</td>\n",
       "      <td>-1.267807e-01</td>\n",
       "      <td>-1.156131e-01</td>\n",
       "      <td>-1.023071e-01</td>\n",
       "      <td>-7.639450e-02</td>\n",
       "      <td>-1.260974e-01</td>\n",
       "      <td>-1.377672e-01</td>\n",
       "      <td>25.000000</td>\n",
       "    </tr>\n",
       "    <tr>\n",
       "      <th>25%</th>\n",
       "      <td>-3.729927e-02</td>\n",
       "      <td>-4.464164e-02</td>\n",
       "      <td>-3.422907e-02</td>\n",
       "      <td>-3.665645e-02</td>\n",
       "      <td>-3.424784e-02</td>\n",
       "      <td>-3.035840e-02</td>\n",
       "      <td>-3.511716e-02</td>\n",
       "      <td>-3.949338e-02</td>\n",
       "      <td>-3.324879e-02</td>\n",
       "      <td>-3.317903e-02</td>\n",
       "      <td>87.000000</td>\n",
       "    </tr>\n",
       "    <tr>\n",
       "      <th>50%</th>\n",
       "      <td>5.383060e-03</td>\n",
       "      <td>-4.464164e-02</td>\n",
       "      <td>-7.283766e-03</td>\n",
       "      <td>-5.670611e-03</td>\n",
       "      <td>-4.320866e-03</td>\n",
       "      <td>-3.819065e-03</td>\n",
       "      <td>-6.584468e-03</td>\n",
       "      <td>-2.592262e-03</td>\n",
       "      <td>-1.947634e-03</td>\n",
       "      <td>-1.077698e-03</td>\n",
       "      <td>140.500000</td>\n",
       "    </tr>\n",
       "    <tr>\n",
       "      <th>75%</th>\n",
       "      <td>3.807591e-02</td>\n",
       "      <td>5.068012e-02</td>\n",
       "      <td>3.124802e-02</td>\n",
       "      <td>3.564384e-02</td>\n",
       "      <td>2.835801e-02</td>\n",
       "      <td>2.984439e-02</td>\n",
       "      <td>2.931150e-02</td>\n",
       "      <td>3.430886e-02</td>\n",
       "      <td>3.243323e-02</td>\n",
       "      <td>2.791705e-02</td>\n",
       "      <td>211.500000</td>\n",
       "    </tr>\n",
       "    <tr>\n",
       "      <th>max</th>\n",
       "      <td>1.107267e-01</td>\n",
       "      <td>5.068012e-02</td>\n",
       "      <td>1.705552e-01</td>\n",
       "      <td>1.320442e-01</td>\n",
       "      <td>1.539137e-01</td>\n",
       "      <td>1.987880e-01</td>\n",
       "      <td>1.811791e-01</td>\n",
       "      <td>1.852344e-01</td>\n",
       "      <td>1.335990e-01</td>\n",
       "      <td>1.356118e-01</td>\n",
       "      <td>346.000000</td>\n",
       "    </tr>\n",
       "  </tbody>\n",
       "</table>\n",
       "</div>"
      ],
      "text/plain": [
       "                age           sex           bmi            bp            s1  \\\n",
       "count  4.420000e+02  4.420000e+02  4.420000e+02  4.420000e+02  4.420000e+02   \n",
       "mean  -3.634285e-16  1.308343e-16 -8.045349e-16  1.281655e-16 -8.835316e-17   \n",
       "std    4.761905e-02  4.761905e-02  4.761905e-02  4.761905e-02  4.761905e-02   \n",
       "min   -1.072256e-01 -4.464164e-02 -9.027530e-02 -1.123996e-01 -1.267807e-01   \n",
       "25%   -3.729927e-02 -4.464164e-02 -3.422907e-02 -3.665645e-02 -3.424784e-02   \n",
       "50%    5.383060e-03 -4.464164e-02 -7.283766e-03 -5.670611e-03 -4.320866e-03   \n",
       "75%    3.807591e-02  5.068012e-02  3.124802e-02  3.564384e-02  2.835801e-02   \n",
       "max    1.107267e-01  5.068012e-02  1.705552e-01  1.320442e-01  1.539137e-01   \n",
       "\n",
       "                 s2            s3            s4            s5            s6  \\\n",
       "count  4.420000e+02  4.420000e+02  4.420000e+02  4.420000e+02  4.420000e+02   \n",
       "mean   1.327024e-16 -4.574646e-16  3.777301e-16 -3.830854e-16 -3.412882e-16   \n",
       "std    4.761905e-02  4.761905e-02  4.761905e-02  4.761905e-02  4.761905e-02   \n",
       "min   -1.156131e-01 -1.023071e-01 -7.639450e-02 -1.260974e-01 -1.377672e-01   \n",
       "25%   -3.035840e-02 -3.511716e-02 -3.949338e-02 -3.324879e-02 -3.317903e-02   \n",
       "50%   -3.819065e-03 -6.584468e-03 -2.592262e-03 -1.947634e-03 -1.077698e-03   \n",
       "75%    2.984439e-02  2.931150e-02  3.430886e-02  3.243323e-02  2.791705e-02   \n",
       "max    1.987880e-01  1.811791e-01  1.852344e-01  1.335990e-01  1.356118e-01   \n",
       "\n",
       "           target  \n",
       "count  442.000000  \n",
       "mean   152.133484  \n",
       "std     77.093005  \n",
       "min     25.000000  \n",
       "25%     87.000000  \n",
       "50%    140.500000  \n",
       "75%    211.500000  \n",
       "max    346.000000  "
      ]
     },
     "execution_count": 11,
     "metadata": {},
     "output_type": "execute_result"
    }
   ],
   "source": [
    "df.describe()"
   ]
  },
  {
   "cell_type": "markdown",
   "metadata": {},
   "source": [
    "**Question** Dans la documentation on trouve *Note that the 10 x variables have been standardized to have mean 0 and squared length = 1 (sum(x^2)=1)*. Vérifiez ces deux propriétés."
   ]
  },
  {
   "cell_type": "code",
   "execution_count": 36,
   "metadata": {},
   "outputs": [
    {
     "data": {
      "text/plain": [
       "-1.6687225460794474e-15"
      ]
     },
     "execution_count": 36,
     "metadata": {},
     "output_type": "execute_result"
    }
   ],
   "source": [
    "df.iloc[:,:-1].mean().sum()"
   ]
  },
  {
   "cell_type": "code",
   "execution_count": 29,
   "metadata": {},
   "outputs": [
    {
     "data": {
      "text/plain": [
       "age    1.0\n",
       "sex    1.0\n",
       "bmi    1.0\n",
       "bp     1.0\n",
       "s1     1.0\n",
       "s2     1.0\n",
       "s3     1.0\n",
       "s4     1.0\n",
       "s5     1.0\n",
       "s6     1.0\n",
       "dtype: float64"
      ]
     },
     "execution_count": 29,
     "metadata": {},
     "output_type": "execute_result"
    }
   ],
   "source": [
    "(df.iloc[:,:-1]**2).sum()"
   ]
  },
  {
   "cell_type": "markdown",
   "metadata": {},
   "source": [
    "**Question** Tracez le graphe donnant la valeur de la cible en fonction de l'âge "
   ]
  },
  {
   "cell_type": "code",
   "execution_count": 21,
   "metadata": {},
   "outputs": [],
   "source": [
    "import seaborn as sns\n",
    "sns.set()"
   ]
  },
  {
   "cell_type": "code",
   "execution_count": 22,
   "metadata": {},
   "outputs": [
    {
     "data": {
      "text/plain": [
       "<matplotlib.axes._subplots.AxesSubplot at 0x7fdc6e59d950>"
      ]
     },
     "execution_count": 22,
     "metadata": {},
     "output_type": "execute_result"
    },
    {
     "data": {
      "image/png": "[encoded data removed]",
      "text/plain": [
       "<Figure size 432x288 with 1 Axes>"
      ]
     },
     "metadata": {},
     "output_type": "display_data"
    }
   ],
   "source": [
    "sns.distplot(df['age'])"
   ]
  },
  {
   "cell_type": "markdown",
   "metadata": {},
   "source": [
    "## Un premier essai"
   ]
  },
  {
   "cell_type": "markdown",
   "metadata": {},
   "source": [
    "**Question** Utiliser `train_test_split` de `sklearn.model_selection` pour découper aléatoirement le jeu de données en gardant 1/3 pour l'échantillon de test.  "
   ]
  },
  {
   "cell_type": "code",
   "execution_count": 14,
   "metadata": {},
   "outputs": [],
   "source": [
    "from sklearn.model_selection import train_test_split"
   ]
  },
  {
   "cell_type": "code",
   "execution_count": 15,
   "metadata": {},
   "outputs": [],
   "source": [
    "X_train, X_test, y_train, y_test = train_test_split(diabetes.data,diabetes.target,test_size=0.33,random_state=42)"
   ]
  },
  {
   "cell_type": "code",
   "execution_count": 16,
   "metadata": {},
   "outputs": [
    {
     "data": {
      "text/plain": [
       "(array([[ 0.0090156 , -0.04464164, -0.03099563, ..., -0.00259226,\n",
       "          0.00943641,  0.01134862],\n",
       "        [-0.00188202, -0.04464164,  0.05415152, ...,  0.08486339,\n",
       "          0.08449528,  0.04862759],\n",
       "        [ 0.0090156 ,  0.05068012, -0.00512814, ...,  0.07120998,\n",
       "          0.03953988,  0.01963284],\n",
       "        ...,\n",
       "        [ 0.03081083, -0.04464164, -0.02021751, ..., -0.03949338,\n",
       "         -0.01090444, -0.0010777 ],\n",
       "        [-0.01277963, -0.04464164, -0.02345095, ..., -0.00259226,\n",
       "         -0.03845911, -0.03835666],\n",
       "        [-0.09269548, -0.04464164,  0.02828403, ..., -0.03949338,\n",
       "         -0.00514531, -0.0010777 ]]),\n",
       " array([[ 0.04534098, -0.04464164, -0.00620595, ...,  0.03430886,\n",
       "          0.03243323, -0.0052198 ],\n",
       "        [ 0.09256398, -0.04464164,  0.03690653, ..., -0.03949338,\n",
       "         -0.02251217, -0.02178823],\n",
       "        [ 0.06350368,  0.05068012, -0.00405033, ..., -0.00259226,\n",
       "          0.08449528, -0.01764613],\n",
       "        ...,\n",
       "        [-0.07453279, -0.04464164, -0.046085  , ..., -0.03949338,\n",
       "         -0.03980959, -0.02178823],\n",
       "        [-0.02730979, -0.04464164,  0.04768465, ...,  0.13025177,\n",
       "          0.04506617,  0.13146972],\n",
       "        [ 0.03081083, -0.04464164,  0.00564998, ...,  0.1081111 ,\n",
       "          0.06604821,  0.01963284]]),\n",
       " array([154., 192., 116.,  81., 122., 259., 191., 292.,  55., 107., 210.,\n",
       "         91., 253.,  85., 252.,  59.,  78., 200.,  78., 245., 175.,  42.,\n",
       "        127.,  53.,  94., 104., 199., 265., 281., 248., 257., 215., 303.,\n",
       "        170.,  59., 277., 209., 138., 198., 124.,  96., 288., 225., 265.,\n",
       "        101.,  55., 198.,  51., 252.,  64., 220., 131., 212., 142., 103.,\n",
       "        155., 121.,  86., 111.,  65., 131.,  51., 128., 141.,  48., 109.,\n",
       "        178.,  88.,  84., 216., 150.,  60.,  96., 190.,  74., 279., 182.,\n",
       "        160., 245., 276., 174., 180., 150., 196., 138.,  97., 246., 321.,\n",
       "        308., 109.,  69., 182., 258., 161., 178., 214.,  45., 150., 160.,\n",
       "         55., 197., 185., 268., 310., 123.,  68.,  72., 185., 144., 147.,\n",
       "        168., 178., 246., 151., 127.,  83., 332., 152., 109.,  90.,  66.,\n",
       "        214.,  85., 129.,  89., 259., 229., 200.,  77.,  54.,  31., 109.,\n",
       "        206., 144., 118.,  83., 242., 259.,  72., 163., 181., 141.,  71.,\n",
       "        137., 195., 179., 102., 131.,  47., 235.,  77., 198.,  93., 162.,\n",
       "        225., 275., 183., 306.,  81.,  55., 146., 196., 230., 310.,  40.,\n",
       "        135., 346.,  43., 128.,  77., 235.,  49.,  74.,  92.,  84., 263.,\n",
       "        144., 142., 341., 115., 158., 273.,  85.,  88., 220.,  39.,  80.,\n",
       "        172., 217., 336.,  52., 272., 115., 110., 131.,  71., 275., 118.,\n",
       "         25., 100., 281., 221., 248., 200., 132.,  91.,  67., 202.,  73.,\n",
       "         85., 275., 243.,  66., 293., 236., 243.,  87.,  39., 217.,  92.,\n",
       "        296., 292., 142.,  50.,  53., 104.,  75., 120., 142., 143.,  99.,\n",
       "         65., 116., 233., 164.,  95.,  59., 139., 145., 177., 185.,  97.,\n",
       "         42., 201., 241.,  70.,  78.,  49., 103.,  44., 111., 191.,  47.,\n",
       "        182.,  58., 155., 151.,  79., 104., 143., 152., 170.,  75., 200.,\n",
       "        124.,  91.,  49., 163.,  53., 283., 178., 219., 200., 113., 113.,\n",
       "         63., 114., 126., 274.,  88., 311.,  83.,  71., 134., 244.,  65.,\n",
       "        173.,  57.,  68., 141., 270., 134., 202., 148.,  64., 302.]),\n",
       " array([219.,  70., 202., 230., 111.,  84., 242., 272.,  94.,  96.,  94.,\n",
       "        252.,  99., 297., 135.,  67., 295., 264., 170., 275., 310.,  64.,\n",
       "        128., 232., 129., 118., 263.,  77.,  48., 107., 140., 113.,  90.,\n",
       "        164., 180., 233.,  42.,  84., 172.,  63.,  48., 108., 156., 168.,\n",
       "         90.,  52., 200.,  87.,  90., 258., 136., 158.,  69.,  72., 171.,\n",
       "         95.,  72., 151., 168.,  60., 122.,  52., 187., 102., 214., 248.,\n",
       "        181., 110., 140., 202., 101., 222., 281.,  61.,  89.,  91., 186.,\n",
       "        220., 237., 233.,  68., 190.,  96.,  72., 153.,  98.,  37.,  63.,\n",
       "        184., 144., 150., 280., 125.,  59.,  65., 281., 277., 167.,  90.,\n",
       "         72., 178.,  88., 270., 101., 197.,  97.,  53.,  71., 262.,  52.,\n",
       "        102., 166., 189., 173., 220., 206.,  97.,  60.,  61., 242., 121.,\n",
       "        128., 104., 265., 132., 283., 174., 129., 257., 137.,  63.,  93.,\n",
       "        232., 208., 261., 179., 258., 262.,  51., 237.,  71., 139., 268.,\n",
       "         69., 317., 249.]))"
      ]
     },
     "execution_count": 16,
     "metadata": {},
     "output_type": "execute_result"
    }
   ],
   "source": [
    "X_train, X_test, y_train, y_test"
   ]
  },
  {
   "cell_type": "markdown",
   "metadata": {},
   "source": [
    "**Question** Vérifier que vous pouvez le faire soit sur les arrays numpy issus de la lecture réalisée à l'aide de `load_diabetes` ou du dataframe construit précédemment. "
   ]
  },
  {
   "cell_type": "code",
   "execution_count": 17,
   "metadata": {},
   "outputs": [],
   "source": [
    "df_train,df_test = train_test_split(df,test_size=0.33,random_state = 42)"
   ]
  },
  {
   "cell_type": "code",
   "execution_count": 18,
   "metadata": {},
   "outputs": [],
   "source": [
    "X_train = df_train.iloc[:,:-1].values\n",
    "y_train = df_train.iloc[:,-1].values"
   ]
  },
  {
   "cell_type": "code",
   "execution_count": 19,
   "metadata": {},
   "outputs": [],
   "source": [
    "X_test = df_test.iloc[:,:-1].values\n",
    "y_test = df_test.iloc[:,-1].values"
   ]
  },
  {
   "cell_type": "code",
   "execution_count": 20,
   "metadata": {},
   "outputs": [
    {
     "data": {
      "text/plain": [
       "(array([[ 0.0090156 , -0.04464164, -0.03099563, ..., -0.00259226,\n",
       "          0.00943641,  0.01134862],\n",
       "        [-0.00188202, -0.04464164,  0.05415152, ...,  0.08486339,\n",
       "          0.08449528,  0.04862759],\n",
       "        [ 0.0090156 ,  0.05068012, -0.00512814, ...,  0.07120998,\n",
       "          0.03953988,  0.01963284],\n",
       "        ...,\n",
       "        [ 0.03081083, -0.04464164, -0.02021751, ..., -0.03949338,\n",
       "         -0.01090444, -0.0010777 ],\n",
       "        [-0.01277963, -0.04464164, -0.02345095, ..., -0.00259226,\n",
       "         -0.03845911, -0.03835666],\n",
       "        [-0.09269548, -0.04464164,  0.02828403, ..., -0.03949338,\n",
       "         -0.00514531, -0.0010777 ]]),\n",
       " array([[ 0.04534098, -0.04464164, -0.00620595, ...,  0.03430886,\n",
       "          0.03243323, -0.0052198 ],\n",
       "        [ 0.09256398, -0.04464164,  0.03690653, ..., -0.03949338,\n",
       "         -0.02251217, -0.02178823],\n",
       "        [ 0.06350368,  0.05068012, -0.00405033, ..., -0.00259226,\n",
       "          0.08449528, -0.01764613],\n",
       "        ...,\n",
       "        [-0.07453279, -0.04464164, -0.046085  , ..., -0.03949338,\n",
       "         -0.03980959, -0.02178823],\n",
       "        [-0.02730979, -0.04464164,  0.04768465, ...,  0.13025177,\n",
       "          0.04506617,  0.13146972],\n",
       "        [ 0.03081083, -0.04464164,  0.00564998, ...,  0.1081111 ,\n",
       "          0.06604821,  0.01963284]]),\n",
       " array([154., 192., 116.,  81., 122., 259., 191., 292.,  55., 107., 210.,\n",
       "         91., 253.,  85., 252.,  59.,  78., 200.,  78., 245., 175.,  42.,\n",
       "        127.,  53.,  94., 104., 199., 265., 281., 248., 257., 215., 303.,\n",
       "        170.,  59., 277., 209., 138., 198., 124.,  96., 288., 225., 265.,\n",
       "        101.,  55., 198.,  51., 252.,  64., 220., 131., 212., 142., 103.,\n",
       "        155., 121.,  86., 111.,  65., 131.,  51., 128., 141.,  48., 109.,\n",
       "        178.,  88.,  84., 216., 150.,  60.,  96., 190.,  74., 279., 182.,\n",
       "        160., 245., 276., 174., 180., 150., 196., 138.,  97., 246., 321.,\n",
       "        308., 109.,  69., 182., 258., 161., 178., 214.,  45., 150., 160.,\n",
       "         55., 197., 185., 268., 310., 123.,  68.,  72., 185., 144., 147.,\n",
       "        168., 178., 246., 151., 127.,  83., 332., 152., 109.,  90.,  66.,\n",
       "        214.,  85., 129.,  89., 259., 229., 200.,  77.,  54.,  31., 109.,\n",
       "        206., 144., 118.,  83., 242., 259.,  72., 163., 181., 141.,  71.,\n",
       "        137., 195., 179., 102., 131.,  47., 235.,  77., 198.,  93., 162.,\n",
       "        225., 275., 183., 306.,  81.,  55., 146., 196., 230., 310.,  40.,\n",
       "        135., 346.,  43., 128.,  77., 235.,  49.,  74.,  92.,  84., 263.,\n",
       "        144., 142., 341., 115., 158., 273.,  85.,  88., 220.,  39.,  80.,\n",
       "        172., 217., 336.,  52., 272., 115., 110., 131.,  71., 275., 118.,\n",
       "         25., 100., 281., 221., 248., 200., 132.,  91.,  67., 202.,  73.,\n",
       "         85., 275., 243.,  66., 293., 236., 243.,  87.,  39., 217.,  92.,\n",
       "        296., 292., 142.,  50.,  53., 104.,  75., 120., 142., 143.,  99.,\n",
       "         65., 116., 233., 164.,  95.,  59., 139., 145., 177., 185.,  97.,\n",
       "         42., 201., 241.,  70.,  78.,  49., 103.,  44., 111., 191.,  47.,\n",
       "        182.,  58., 155., 151.,  79., 104., 143., 152., 170.,  75., 200.,\n",
       "        124.,  91.,  49., 163.,  53., 283., 178., 219., 200., 113., 113.,\n",
       "         63., 114., 126., 274.,  88., 311.,  83.,  71., 134., 244.,  65.,\n",
       "        173.,  57.,  68., 141., 270., 134., 202., 148.,  64., 302.]),\n",
       " array([219.,  70., 202., 230., 111.,  84., 242., 272.,  94.,  96.,  94.,\n",
       "        252.,  99., 297., 135.,  67., 295., 264., 170., 275., 310.,  64.,\n",
       "        128., 232., 129., 118., 263.,  77.,  48., 107., 140., 113.,  90.,\n",
       "        164., 180., 233.,  42.,  84., 172.,  63.,  48., 108., 156., 168.,\n",
       "         90.,  52., 200.,  87.,  90., 258., 136., 158.,  69.,  72., 171.,\n",
       "         95.,  72., 151., 168.,  60., 122.,  52., 187., 102., 214., 248.,\n",
       "        181., 110., 140., 202., 101., 222., 281.,  61.,  89.,  91., 186.,\n",
       "        220., 237., 233.,  68., 190.,  96.,  72., 153.,  98.,  37.,  63.,\n",
       "        184., 144., 150., 280., 125.,  59.,  65., 281., 277., 167.,  90.,\n",
       "         72., 178.,  88., 270., 101., 197.,  97.,  53.,  71., 262.,  52.,\n",
       "        102., 166., 189., 173., 220., 206.,  97.,  60.,  61., 242., 121.,\n",
       "        128., 104., 265., 132., 283., 174., 129., 257., 137.,  63.,  93.,\n",
       "        232., 208., 261., 179., 258., 262.,  51., 237.,  71., 139., 268.,\n",
       "         69., 317., 249.]))"
      ]
     },
     "execution_count": 20,
     "metadata": {},
     "output_type": "execute_result"
    }
   ],
   "source": [
    "X_train, X_test, y_train, y_test"
   ]
  },
  {
   "cell_type": "markdown",
   "metadata": {},
   "source": [
    "Dans tous les cas, construisez à la fin 4 arrays numpy `X_train`, `X_test`, `y_train`, `y_test`."
   ]
  },
  {
   "cell_type": "markdown",
   "metadata": {},
   "source": [
    "**Question** Regardez la documentation de `Ridge` dans sklearn. Quelle est la fonction objectif ? Quelle est sa dérivée sous forme matricielle ? Pour quelle valeur de $w$ s'annule-t-elle ? "
   ]
  },
  {
   "cell_type": "markdown",
   "metadata": {},
   "source": [
    "*Votre réponse*"
   ]
  },
  {
   "cell_type": "markdown",
   "metadata": {},
   "source": [
    "**Question** Construire deux modèles de régression avec `sklearn`. Utilisez les deux méthodes `LinearRegression` et `Ridge`. Dans un premier temps on garde la valeur de `alpha` à 1. Appelez-les `lr` et `ridge`."
   ]
  },
  {
   "cell_type": "code",
   "execution_count": null,
   "metadata": {},
   "outputs": [],
   "source": [
    "from sklearn import linear_model"
   ]
  },
  {
   "cell_type": "code",
   "execution_count": null,
   "metadata": {},
   "outputs": [],
   "source": [
    "lr = linear_model.LinearRegression()\n",
    "lr.fit(X_train, y_train)"
   ]
  },
  {
   "cell_type": "code",
   "execution_count": null,
   "metadata": {},
   "outputs": [],
   "source": [
    "from sklearn.linear_model import Ridge"
   ]
  },
  {
   "cell_type": "code",
   "execution_count": null,
   "metadata": {},
   "outputs": [],
   "source": [
    "ridge = Ridge(alpha=1.0)\n",
    "ridge.fit(X_train,y_train)"
   ]
  },
  {
   "cell_type": "markdown",
   "metadata": {},
   "source": [
    "**Question** Calculez les prédictions et les scores dans chacun des cas sur les données de test."
   ]
  },
  {
   "cell_type": "code",
   "execution_count": null,
   "metadata": {},
   "outputs": [],
   "source": [
    "lr_predictions= lr.predict(X_test)"
   ]
  },
  {
   "cell_type": "code",
   "execution_count": null,
   "metadata": {
    "scrolled": true
   },
   "outputs": [],
   "source": [
    "lr.score(X_test, y_test)"
   ]
  },
  {
   "cell_type": "code",
   "execution_count": null,
   "metadata": {
    "scrolled": true
   },
   "outputs": [],
   "source": [
    "ridge_predictions= ridge.predict(X_test)"
   ]
  },
  {
   "cell_type": "code",
   "execution_count": null,
   "metadata": {},
   "outputs": [],
   "source": [
    "ridge.score(X_test, y_test)"
   ]
  },
  {
   "cell_type": "markdown",
   "metadata": {},
   "source": [
    "**Question** Tracer sur un même graphique les points en bleu pour ridge  et en rouge pour lr représentant en abscisse les valeurs en test et en ordonnée les valeurs prédites.\n",
    "\n",
    "![ridge contre lr](./ridge_contre_lr.png)\n"
   ]
  },
  {
   "cell_type": "code",
   "execution_count": null,
   "metadata": {},
   "outputs": [],
   "source": [
    "import matplotlib.pyplot as plt  # matplotlib pour trace rdes graphiques\n",
    "%matplotlib inline"
   ]
  },
  {
   "cell_type": "code",
   "execution_count": null,
   "metadata": {},
   "outputs": [],
   "source": [
    "fig, ax = plt.subplots()\n",
    "ax.scatter(y_test,lr_predictions,color = 'red')\n",
    "ax.scatter(y_test,ridge_predictions,color= 'blue')\n",
    "ax.plot([y_test.min(), y_test.max()], [y_test.min(), y_test.max()])\n",
    "ax.set_xlabel('Test')\n",
    "ax.set_ylabel('Prediction')"
   ]
  },
  {
   "cell_type": "markdown",
   "metadata": {},
   "source": [
    "## Méthodologie de sélection de modèles"
   ]
  },
  {
   "cell_type": "markdown",
   "metadata": {},
   "source": [
    "**Question** On a donc une estimation de l'erreur en généralisation... Mais peut-on dire à l'issue de ce qu'on observe sur le test que l'un est meilleur que l'autre et qu'on devrait prendre la méthode qui se comporte mieux sur l'échantillon test pour la mettre en production ?\n",
    "\n",
    "*Aide* Pour vous aider à répondre, considérez que vous avez 1000 méthodes de régression et non plus deux."
   ]
  },
  {
   "cell_type": "markdown",
   "metadata": {},
   "source": [
    "*votre réponse* :\n"
   ]
  },
  {
   "cell_type": "markdown",
   "metadata": {},
   "source": [
    "Mais on a fixé un paramètre $\\alpha$ par défaut pour la ridge régression et comment peut-on tester si d'autres valeurs marcheraient mieux ? Il faut tester de nombreuses valeurs et on veut avoir la meilleure valeur pour $\\alpha$. Comment procéder ? \n",
    "\n",
    "Pour cela, **il faut découper l'échantillon de données train initial en une partie apprentissage (train) et une partie de validation (valid)**. On estime l'erreur sur la partie validation. \n",
    "\n",
    "On a alors 3 ensembles train/validation/test (ou encore selon d'autres terminologies train/development/test), celui du milieu servant à régler les valeurs des (hyper)paramètres de l'algorithme d'apprentissage (pas les paramètres de la fonction de régression): c'est l'**hyperparameter tuning**."
   ]
  },
  {
   "cell_type": "markdown",
   "metadata": {},
   "source": [
    "## Validation croisée"
   ]
  },
  {
   "cell_type": "markdown",
   "metadata": {},
   "source": [
    "Par contre, on commence à avoir des ensembles un peu petits... L'estimation sur un petit échantillon valid risque d'être problématique. On utilise alors une méthode dite de la validation croisée pour répéter plusieurs fois ce découpage train/valid et moyenner les résultats.\n",
    "\n",
    "Construisons d'abord cela à la main... Nous allons procéder en manipulant les indices et non les données."
   ]
  },
  {
   "cell_type": "markdown",
   "metadata": {},
   "source": [
    "**Question** Prenons par exemple une liste d'indices \n",
    "\n",
    "    indices = np.arange(10)\n",
    "\n",
    "\n",
    "Regardez maintenant comment fonctionne les méthodes `random.shuffle`, `copy`, `array_split`, `pop` et `concatenate` de `np`. Faites des petits essais avec `indices` pour bien comprendre le fonctionnement.   "
   ]
  },
  {
   "cell_type": "code",
   "execution_count": null,
   "metadata": {},
   "outputs": [],
   "source": [
    "import random\n",
    "indices = np.arange(10)\n",
    "a = np.concatenate((indices,indices),axis=0)\n",
    "b = np.copy(indices)\n",
    "c = np.delete(indices,1)\n",
    "d = np.array_split(indices,3)\n",
    "e = random.shuffle(indices)\n",
    "a,b,c,d,e,indices"
   ]
  },
  {
   "cell_type": "markdown",
   "metadata": {},
   "source": [
    "Si on découpe l'ensemble des indices réordonnés aléatoirement du train en trois parties, on obtient trois parties et on peut construire successivement des échantillons à partir du train qui seront : \n",
    "\n",
    "- les indices des parties 1 et 2 pour construire un classeur et 3 pour évaluer son score \n",
    "- les indices des parties 1 et 3 pour construire un classeur et 2 pour évaluer son score \n",
    "- les indices des parties 2 et 3 pour construire un classeur et 1 pour évaluer son score \n",
    "\n",
    "On peut alors calculer une estimation de l'erreur en moyennant les 3 scores correspondant aux trois étapes ci-dessus. On a alors réalisé l'algorithme de validation croisée. On peut bien-sûr généraliser sur autant de parties qu'on veut! "
   ]
  },
  {
   "cell_type": "markdown",
   "metadata": {},
   "source": [
    "**Question** Réaliser cet algorithme dans une fonction `my_fold` dont les paramètres sont un échantillon `X`, des classes `y`, un nombre de parties `k` et une méthode de régression `reg`. L'essayer avec `ridge`."
   ]
  },
  {
   "cell_type": "code",
   "execution_count": 3,
   "metadata": {},
   "outputs": [],
   "source": [
    "def my_fold(X,y,k,reg):\n",
    "    random.Random(42).shuffle(X)\n",
    "    random.Random(42).shuffle(y)\n",
    "    NX = np.array_split(X,k)\n",
    "    ny = np.array_split(y,k)\n",
    "    \n",
    "    \n",
    "    \n",
    "    \n",
    "    score = (score1+score2+score3)/3\n",
    "    return score\n",
    "    \n",
    "    "
   ]
  },
  {
   "cell_type": "code",
   "execution_count": null,
   "metadata": {},
   "outputs": [],
   "source": []
  },
  {
   "cell_type": "markdown",
   "metadata": {},
   "source": [
    "### Validation croisée dans sklearn"
   ]
  },
  {
   "cell_type": "markdown",
   "metadata": {},
   "source": [
    "**Question** \n",
    "Regardez et importez [KFold](http://scikit-learn.org/stable/modules/generated/sklearn.model_selection.KFold.html) puis créez un objet nommé `k_fold` à 3 parties. Inspirez-vous de la page de description de [KFold](http://scikit-learn.org/stable/modules/generated/sklearn.model_selection.KFold.html) pour cette partie."
   ]
  },
  {
   "cell_type": "code",
   "execution_count": null,
   "metadata": {},
   "outputs": [],
   "source": []
  },
  {
   "cell_type": "markdown",
   "metadata": {},
   "source": [
    "**Question** Construire une liste contenant les scores de `ridge`.  "
   ]
  },
  {
   "cell_type": "code",
   "execution_count": null,
   "metadata": {},
   "outputs": [],
   "source": []
  },
  {
   "cell_type": "markdown",
   "metadata": {},
   "source": [
    "Une manière encore plus directe est d'utiliser la fonction [cross_val_score](http://scikit-learn.org/stable/modules/generated/sklearn.model_selection.cross_val_score.html). \n",
    "\n",
    "**Question** Importez la fonction et avec une boucle, recalculer les erreurs par 3-validation de `ridge` pour les valeurs de `alpha` suivantes 0.01, 0.1, 1, 10, 100."
   ]
  },
  {
   "cell_type": "code",
   "execution_count": null,
   "metadata": {},
   "outputs": [],
   "source": []
  },
  {
   "cell_type": "markdown",
   "metadata": {},
   "source": [
    "## Encore plus simple..."
   ]
  },
  {
   "cell_type": "markdown",
   "metadata": {},
   "source": [
    "**Question** : Refaites la même chose avec [sklearn.linear_model.RidgeCV](https://scikit-learn.org/stable/modules/generated/sklearn.linear_model.RidgeCV.html)..."
   ]
  },
  {
   "cell_type": "code",
   "execution_count": null,
   "metadata": {},
   "outputs": [],
   "source": []
  }
 ],
 "metadata": {
  "kernelspec": {
   "display_name": "Python 3",
   "language": "python",
   "name": "python3"
  },
  "language_info": {
   "codemirror_mode": {
    "name": "ipython",
    "version": 3
   },
   "file_extension": ".py",
   "mimetype": "text/x-python",
   "name": "python",
   "nbconvert_exporter": "python",
   "pygments_lexer": "ipython3",
   "version": "3.7.7"
  }
 },
 "nbformat": 4,
 "nbformat_minor": 2
}
