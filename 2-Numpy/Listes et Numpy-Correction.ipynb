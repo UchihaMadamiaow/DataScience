{
 "cells": [
  {
   "cell_type": "markdown",
   "metadata": {},
   "source": [
    "# Notebooks et Ipython"
   ]
  },
  {
   "cell_type": "markdown",
   "metadata": {},
   "source": [
    "## Généralités"
   ]
  },
  {
   "cell_type": "markdown",
   "metadata": {},
   "source": [
    "- La couleur verte indique qu'on édite une cellule, la bleue qu'on édite le notebook\n",
    "- Raccourcis dispos pour insérer des cellules etc (voir l'icône de clavier)\n",
    "- Les cellules peuvent contenir des textes en markdown (m) ou du code (y). \n",
    "- Les cellules de code s'exécutent dans n'importe quel ordre. Les résultats sont globaux au Notebook. L'ordre d'exécution est visible à côté de la cellule.\n",
    "- On exécute une cellule avec \n",
    "  - S-Entrée exécute et passe à la cellule suivante\n",
    "  - C-Entrée exécute et reste sur la même cellule\n",
    "  - Alt-Entrée exécute et insèce une nouvelle cellule\n",
    "- Le résultat de la cellule est le résultat de la dernière ligne\n",
    "- Vous pouvez tout recommencer en redémarrant le noyau (Menu Noyau)\n",
    "- Si vous reprenez plus tard un notebook partiellement exécuté, il faut relancer les cellules déjà exécutées pour continuer (l'état est sauvegardé sans la mémoire)."
   ]
  },
  {
   "cell_type": "code",
   "execution_count": 1,
   "metadata": {},
   "outputs": [
    {
     "data": {
      "text/plain": [
       "1"
      ]
     },
     "execution_count": 1,
     "metadata": {},
     "output_type": "execute_result"
    }
   ],
   "source": [
    "1"
   ]
  },
  {
   "cell_type": "code",
   "execution_count": 2,
   "metadata": {},
   "outputs": [
    {
     "data": {
      "text/plain": [
       "2"
      ]
     },
     "execution_count": 2,
     "metadata": {},
     "output_type": "execute_result"
    }
   ],
   "source": [
    "1\n",
    "2  # uniquement la sortie 2"
   ]
  },
  {
   "cell_type": "code",
   "execution_count": 3,
   "metadata": {},
   "outputs": [],
   "source": [
    "def f(): pass # pas de sortie"
   ]
  },
  {
   "cell_type": "code",
   "execution_count": 4,
   "metadata": {},
   "outputs": [
    {
     "name": "stdout",
     "output_type": "stream",
     "text": [
      "1\n",
      "2\n"
     ]
    }
   ],
   "source": [
    "print(1)\n",
    "print(2) # pas de sortie"
   ]
  },
  {
   "cell_type": "code",
   "execution_count": 5,
   "metadata": {},
   "outputs": [],
   "source": [
    "s = \"Allo la terre ?\" # pas de sortie"
   ]
  },
  {
   "cell_type": "markdown",
   "metadata": {},
   "source": [
    "`<tab>` permet la complétion, et `?` donne de l'aide"
   ]
  },
  {
   "cell_type": "code",
   "execution_count": 6,
   "metadata": {},
   "outputs": [
    {
     "ename": "NameError",
     "evalue": "name 'ran' is not defined",
     "output_type": "error",
     "traceback": [
      "\u001b[0;31m---------------------------------------------------------------------------\u001b[0m",
      "\u001b[0;31mNameError\u001b[0m                                 Traceback (most recent call last)",
      "\u001b[0;32m<ipython-input-6-54fb8b2b93fd>\u001b[0m in \u001b[0;36m<module>\u001b[0;34m\u001b[0m\n\u001b[1;32m      1\u001b[0m \u001b[0;31m# appuyer sur <tab> après ran\u001b[0m\u001b[0;34m\u001b[0m\u001b[0;34m\u001b[0m\u001b[0;34m\u001b[0m\u001b[0m\n\u001b[0;32m----> 2\u001b[0;31m \u001b[0mran\u001b[0m\u001b[0;34m\u001b[0m\u001b[0;34m\u001b[0m\u001b[0m\n\u001b[0m",
      "\u001b[0;31mNameError\u001b[0m: name 'ran' is not defined"
     ]
    }
   ],
   "source": [
    "# appuyer sur <tab> après ran\n",
    "ran "
   ]
  },
  {
   "cell_type": "code",
   "execution_count": null,
   "metadata": {},
   "outputs": [],
   "source": [
    "# appuyer sur <tab> (2 fois) après le .\n",
    "s."
   ]
  },
  {
   "cell_type": "code",
   "execution_count": null,
   "metadata": {},
   "outputs": [],
   "source": [
    "# Appuyer sur S-TAB àal fin de chaque ligne\n",
    "s\n",
    "range\n",
    "s.split"
   ]
  },
  {
   "cell_type": "code",
   "execution_count": null,
   "metadata": {},
   "outputs": [],
   "source": [
    "range?"
   ]
  },
  {
   "cell_type": "markdown",
   "metadata": {},
   "source": [
    "## Ipython et scripts"
   ]
  },
  {
   "cell_type": "markdown",
   "metadata": {},
   "source": [
    "On peut inclure des scripts python dans un notebook. C'est la démarche classique pour le développement : scripts pour les algorithmes un peu complexes, utilisation d'un notebook pour utiliser et expérimenter, présenter. "
   ]
  },
  {
   "cell_type": "code",
   "execution_count": 10,
   "metadata": {},
   "outputs": [],
   "source": [
    "import algos"
   ]
  },
  {
   "cell_type": "code",
   "execution_count": 11,
   "metadata": {},
   "outputs": [
    {
     "name": "stdout",
     "output_type": "stream",
     "text": [
      "0\n",
      "1\n",
      "8\n",
      "27\n",
      "64\n",
      "125\n",
      "216\n",
      "343\n",
      "512\n",
      "729\n"
     ]
    }
   ],
   "source": [
    "algos.run()"
   ]
  },
  {
   "cell_type": "code",
   "execution_count": 18,
   "metadata": {},
   "outputs": [],
   "source": [
    "algos.run?"
   ]
  },
  {
   "cell_type": "code",
   "execution_count": 19,
   "metadata": {},
   "outputs": [],
   "source": [
    "algos.run??"
   ]
  },
  {
   "cell_type": "markdown",
   "metadata": {},
   "source": [
    "## Magics!"
   ]
  },
  {
   "cell_type": "markdown",
   "metadata": {},
   "source": [
    "Les *magics* permettent des opérations dans ipython. Ici on recharge automatiquement les scripts chargés quand ils sont modifiés. Voir [la doc](https://ipython.org/ipython-doc/3/config/extensions/autoreload.html), et essayer en modifiant algos.py"
   ]
  },
  {
   "cell_type": "code",
   "execution_count": 20,
   "metadata": {},
   "outputs": [
    {
     "name": "stdout",
     "output_type": "stream",
     "text": [
      "0\n",
      "1\n",
      "8\n",
      "27\n",
      "64\n",
      "125\n",
      "216\n",
      "343\n",
      "512\n",
      "729\n"
     ]
    }
   ],
   "source": [
    "algos.run()"
   ]
  },
  {
   "cell_type": "code",
   "execution_count": 21,
   "metadata": {},
   "outputs": [],
   "source": [
    "%load_ext autoreload\n",
    "%autoreload 2"
   ]
  },
  {
   "cell_type": "code",
   "execution_count": 22,
   "metadata": {},
   "outputs": [
    {
     "name": "stdout",
     "output_type": "stream",
     "text": [
      "0\n",
      "1\n",
      "8\n",
      "27\n",
      "64\n",
      "125\n",
      "216\n",
      "343\n",
      "512\n",
      "729\n"
     ]
    }
   ],
   "source": [
    "algos.run()"
   ]
  },
  {
   "cell_type": "markdown",
   "metadata": {},
   "source": [
    "On peut estimer la vitesse d'exécution d'un code... ou le profiler (voir le PDSH)"
   ]
  },
  {
   "cell_type": "code",
   "execution_count": null,
   "metadata": {},
   "outputs": [],
   "source": [
    "%timeit l = list(range(100000))"
   ]
  },
  {
   "cell_type": "code",
   "execution_count": null,
   "metadata": {},
   "outputs": [],
   "source": [
    "import numpy as np\n",
    "%timeit l = np.arange(100000)"
   ]
  },
  {
   "cell_type": "markdown",
   "metadata": {},
   "source": [
    "# Listes et tableaux"
   ]
  },
  {
   "cell_type": "markdown",
   "metadata": {},
   "source": [
    "**<span style='color: red'>Activité</span>** Voir le chapitre 02.01-Understanding-Data-Types du livre de Jake VanderPlas."
   ]
  },
  {
   "cell_type": "markdown",
   "metadata": {},
   "source": [
    "## Listes Python\n",
    "\n",
    "- Les listes Python sont hétérogènes, non forcément continues en mémoire\n",
    "- le type est `list`.\n",
    "- un type est associé à une fonction de même type qui permet la conversion de type\n",
    "- la fonction `range` est un énumérateur : permet d'énumérer des entiers\n",
    "- les _list comprehensive_ sont une technique riche pour créer des listes\n",
    "- les opérateurs + et * joignent (concatènent) des listes (car les listes sont hétérogènes et pas des tables de valeurs numériques)\n",
    "\n",
    "Les listes sont écrites avec les crochets et les éléments séparés par des virgules"
   ]
  },
  {
   "cell_type": "markdown",
   "metadata": {},
   "source": [
    "**Question** : Faire une liste nommée `l` contenant un entier, une chaîne de caractères, un nombre décimal. Afficher le type de `l`."
   ]
  },
  {
   "cell_type": "code",
   "execution_count": 24,
   "metadata": {},
   "outputs": [
    {
     "data": {
      "text/plain": [
       "([1, 'toto', -1.5], list)"
      ]
     },
     "execution_count": 24,
     "metadata": {},
     "output_type": "execute_result"
    }
   ],
   "source": [
    "l = [1, \"toto\", -1.5]\n",
    "l, type(l)"
   ]
  },
  {
   "cell_type": "markdown",
   "metadata": {},
   "source": [
    "La fonction `range` génère un **itérateur** qui permet de parcourir un ensemble. "
   ]
  },
  {
   "cell_type": "code",
   "execution_count": 25,
   "metadata": {},
   "outputs": [
    {
     "data": {
      "text/plain": [
       "range(0, 5)"
      ]
     },
     "execution_count": 25,
     "metadata": {},
     "output_type": "execute_result"
    }
   ],
   "source": [
    "range(5)"
   ]
  },
  {
   "cell_type": "markdown",
   "metadata": {},
   "source": [
    "**Question** : avec la conversion de type par la fonction `list` et avec la fonction `range`, faire une liste des entiers de 30 à 100 par pas de 5."
   ]
  },
  {
   "cell_type": "code",
   "execution_count": 26,
   "metadata": {},
   "outputs": [
    {
     "data": {
      "text/plain": [
       "[30, 35, 40, 45, 50, 55, 60, 65, 70, 75, 80, 85, 90, 95]"
      ]
     },
     "execution_count": 26,
     "metadata": {},
     "output_type": "execute_result"
    }
   ],
   "source": [
    "list(range(30, 100, 5))"
   ]
  },
  {
   "cell_type": "markdown",
   "metadata": {},
   "source": [
    "Quelques exemples de *list_comprehensive* : "
   ]
  },
  {
   "cell_type": "code",
   "execution_count": 27,
   "metadata": {},
   "outputs": [
    {
     "data": {
      "text/plain": [
       "[int, str, float]"
      ]
     },
     "execution_count": 27,
     "metadata": {},
     "output_type": "execute_result"
    }
   ],
   "source": [
    "[type(e) for e in l]"
   ]
  },
  {
   "cell_type": "code",
   "execution_count": 72,
   "metadata": {},
   "outputs": [
    {
     "data": {
      "text/plain": [
       "[[0, 4],\n",
       " [0, 8],\n",
       " [0, 12],\n",
       " [0, 16],\n",
       " [1, 5],\n",
       " [1, 9],\n",
       " [1, 13],\n",
       " [1, 17],\n",
       " [2, 6],\n",
       " [2, 10],\n",
       " [2, 14],\n",
       " [2, 18],\n",
       " [3, 7],\n",
       " [3, 11],\n",
       " [3, 15],\n",
       " [3, 19],\n",
       " [4, 8],\n",
       " [4, 12],\n",
       " [4, 16],\n",
       " [4, 20],\n",
       " [5, 9],\n",
       " [5, 13],\n",
       " [5, 17],\n",
       " [5, 21],\n",
       " [6, 10],\n",
       " [6, 14],\n",
       " [6, 18],\n",
       " [6, 22],\n",
       " [7, 11],\n",
       " [7, 15],\n",
       " [7, 19],\n",
       " [7, 23],\n",
       " [8, 12],\n",
       " [8, 16],\n",
       " [8, 20],\n",
       " [8, 24],\n",
       " [9, 13],\n",
       " [9, 17],\n",
       " [9, 21],\n",
       " [9, 25]]"
      ]
     },
     "execution_count": 72,
     "metadata": {},
     "output_type": "execute_result"
    }
   ],
   "source": [
    "l2 = [[i, 2*j+i] for i in range (10) for j in range (2, 10, 2)]\n",
    "l2"
   ]
  },
  {
   "cell_type": "code",
   "execution_count": 73,
   "metadata": {},
   "outputs": [
    {
     "data": {
      "text/plain": [
       "['blue', 'red', 'red', 'blue', 'red', 'red', 'blue', 'red', 'red', 'blue']"
      ]
     },
     "execution_count": 73,
     "metadata": {},
     "output_type": "execute_result"
    }
   ],
   "source": [
    "['red' if t % 3 else 'blue' for t in range(10)]"
   ]
  },
  {
   "cell_type": "markdown",
   "metadata": {},
   "source": [
    "**Question** : avec cette technique construire la sous-liste de `l2` dont la 2e composante est impaire. Rappel l'opérateur % calcule un modulo (reste par la division entière. (12 % 2 vaut 0) ."
   ]
  },
  {
   "cell_type": "code",
   "execution_count": 74,
   "metadata": {},
   "outputs": [
    {
     "data": {
      "text/plain": [
       "[[1, 5],\n",
       " [1, 9],\n",
       " [1, 13],\n",
       " [1, 17],\n",
       " [3, 7],\n",
       " [3, 11],\n",
       " [3, 15],\n",
       " [3, 19],\n",
       " [5, 9],\n",
       " [5, 13],\n",
       " [5, 17],\n",
       " [5, 21],\n",
       " [7, 11],\n",
       " [7, 15],\n",
       " [7, 19],\n",
       " [7, 23],\n",
       " [9, 13],\n",
       " [9, 17],\n",
       " [9, 21],\n",
       " [9, 25]]"
      ]
     },
     "execution_count": 74,
     "metadata": {},
     "output_type": "execute_result"
    }
   ],
   "source": [
    "[e for e in l2 if e[1] % 2]"
   ]
  },
  {
   "cell_type": "markdown",
   "metadata": {},
   "source": [
    "**Question** : avec la technique des *list_comprehensive*, faire une liste de listes contenant les tables de multiplication pour tous les entiers de 1 à 10."
   ]
  },
  {
   "cell_type": "code",
   "execution_count": null,
   "metadata": {},
   "outputs": [],
   "source": []
  },
  {
   "cell_type": "markdown",
   "metadata": {},
   "source": [
    "Observez le fonctionnement des opérateurs * et + sur les listes..."
   ]
  },
  {
   "cell_type": "code",
   "execution_count": 75,
   "metadata": {},
   "outputs": [
    {
     "data": {
      "text/plain": [
       "[1, 2, 3, 4, 5, 6]"
      ]
     },
     "execution_count": 75,
     "metadata": {},
     "output_type": "execute_result"
    }
   ],
   "source": [
    "[1, 2, 3] + [4, 5, 6]"
   ]
  },
  {
   "cell_type": "code",
   "execution_count": 76,
   "metadata": {},
   "outputs": [
    {
     "data": {
      "text/plain": [
       "[1, 2, 1, 2, 1, 2]"
      ]
     },
     "execution_count": 76,
     "metadata": {},
     "output_type": "execute_result"
    }
   ],
   "source": [
    "[1, 2] * 3"
   ]
  },
  {
   "cell_type": "markdown",
   "metadata": {},
   "source": [
    "Pour plus d'infos sur les listes, voir la doc Python, et l'aide sur les listes...\n",
    "\n",
    "À l'aide des fonctions `dir` ou `help` regarder les méthodes (fonctions) qui s'appliquent aux listes. Essayez d'utiliser au moins deux méthodes."
   ]
  },
  {
   "cell_type": "code",
   "execution_count": 77,
   "metadata": {},
   "outputs": [
    {
     "data": {
      "text/plain": [
       "['__add__',\n",
       " '__class__',\n",
       " '__contains__',\n",
       " '__delattr__',\n",
       " '__delitem__',\n",
       " '__dir__',\n",
       " '__doc__',\n",
       " '__eq__',\n",
       " '__format__',\n",
       " '__ge__',\n",
       " '__getattribute__',\n",
       " '__getitem__',\n",
       " '__gt__',\n",
       " '__hash__',\n",
       " '__iadd__',\n",
       " '__imul__',\n",
       " '__init__',\n",
       " '__init_subclass__',\n",
       " '__iter__',\n",
       " '__le__',\n",
       " '__len__',\n",
       " '__lt__',\n",
       " '__mul__',\n",
       " '__ne__',\n",
       " '__new__',\n",
       " '__reduce__',\n",
       " '__reduce_ex__',\n",
       " '__repr__',\n",
       " '__reversed__',\n",
       " '__rmul__',\n",
       " '__setattr__',\n",
       " '__setitem__',\n",
       " '__sizeof__',\n",
       " '__str__',\n",
       " '__subclasshook__',\n",
       " 'append',\n",
       " 'clear',\n",
       " 'copy',\n",
       " 'count',\n",
       " 'extend',\n",
       " 'index',\n",
       " 'insert',\n",
       " 'pop',\n",
       " 'remove',\n",
       " 'reverse',\n",
       " 'sort']"
      ]
     },
     "execution_count": 77,
     "metadata": {},
     "output_type": "execute_result"
    }
   ],
   "source": [
    "dir(l)"
   ]
  },
  {
   "cell_type": "code",
   "execution_count": 78,
   "metadata": {},
   "outputs": [
    {
     "name": "stdout",
     "output_type": "stream",
     "text": [
      "Help on list object:\n",
      "\n",
      "class list(object)\n",
      " |  list(iterable=(), /)\n",
      " |  \n",
      " |  Built-in mutable sequence.\n",
      " |  \n",
      " |  If no argument is given, the constructor creates a new empty list.\n",
      " |  The argument must be an iterable if specified.\n",
      " |  \n",
      " |  Methods defined here:\n",
      " |  \n",
      " |  __add__(self, value, /)\n",
      " |      Return self+value.\n",
      " |  \n",
      " |  __contains__(self, key, /)\n",
      " |      Return key in self.\n",
      " |  \n",
      " |  __delitem__(self, key, /)\n",
      " |      Delete self[key].\n",
      " |  \n",
      " |  __eq__(self, value, /)\n",
      " |      Return self==value.\n",
      " |  \n",
      " |  __ge__(self, value, /)\n",
      " |      Return self>=value.\n",
      " |  \n",
      " |  __getattribute__(self, name, /)\n",
      " |      Return getattr(self, name).\n",
      " |  \n",
      " |  __getitem__(...)\n",
      " |      x.__getitem__(y) <==> x[y]\n",
      " |  \n",
      " |  __gt__(self, value, /)\n",
      " |      Return self>value.\n",
      " |  \n",
      " |  __iadd__(self, value, /)\n",
      " |      Implement self+=value.\n",
      " |  \n",
      " |  __imul__(self, value, /)\n",
      " |      Implement self*=value.\n",
      " |  \n",
      " |  __init__(self, /, *args, **kwargs)\n",
      " |      Initialize self.  See help(type(self)) for accurate signature.\n",
      " |  \n",
      " |  __iter__(self, /)\n",
      " |      Implement iter(self).\n",
      " |  \n",
      " |  __le__(self, value, /)\n",
      " |      Return self<=value.\n",
      " |  \n",
      " |  __len__(self, /)\n",
      " |      Return len(self).\n",
      " |  \n",
      " |  __lt__(self, value, /)\n",
      " |      Return self<value.\n",
      " |  \n",
      " |  __mul__(self, value, /)\n",
      " |      Return self*value.\n",
      " |  \n",
      " |  __ne__(self, value, /)\n",
      " |      Return self!=value.\n",
      " |  \n",
      " |  __repr__(self, /)\n",
      " |      Return repr(self).\n",
      " |  \n",
      " |  __reversed__(self, /)\n",
      " |      Return a reverse iterator over the list.\n",
      " |  \n",
      " |  __rmul__(self, value, /)\n",
      " |      Return value*self.\n",
      " |  \n",
      " |  __setitem__(self, key, value, /)\n",
      " |      Set self[key] to value.\n",
      " |  \n",
      " |  __sizeof__(self, /)\n",
      " |      Return the size of the list in memory, in bytes.\n",
      " |  \n",
      " |  append(self, object, /)\n",
      " |      Append object to the end of the list.\n",
      " |  \n",
      " |  clear(self, /)\n",
      " |      Remove all items from list.\n",
      " |  \n",
      " |  copy(self, /)\n",
      " |      Return a shallow copy of the list.\n",
      " |  \n",
      " |  count(self, value, /)\n",
      " |      Return number of occurrences of value.\n",
      " |  \n",
      " |  extend(self, iterable, /)\n",
      " |      Extend list by appending elements from the iterable.\n",
      " |  \n",
      " |  index(self, value, start=0, stop=9223372036854775807, /)\n",
      " |      Return first index of value.\n",
      " |      \n",
      " |      Raises ValueError if the value is not present.\n",
      " |  \n",
      " |  insert(self, index, object, /)\n",
      " |      Insert object before index.\n",
      " |  \n",
      " |  pop(self, index=-1, /)\n",
      " |      Remove and return item at index (default last).\n",
      " |      \n",
      " |      Raises IndexError if list is empty or index is out of range.\n",
      " |  \n",
      " |  remove(self, value, /)\n",
      " |      Remove first occurrence of value.\n",
      " |      \n",
      " |      Raises ValueError if the value is not present.\n",
      " |  \n",
      " |  reverse(self, /)\n",
      " |      Reverse *IN PLACE*.\n",
      " |  \n",
      " |  sort(self, /, *, key=None, reverse=False)\n",
      " |      Stable sort *IN PLACE*.\n",
      " |  \n",
      " |  ----------------------------------------------------------------------\n",
      " |  Static methods defined here:\n",
      " |  \n",
      " |  __new__(*args, **kwargs) from builtins.type\n",
      " |      Create and return a new object.  See help(type) for accurate signature.\n",
      " |  \n",
      " |  ----------------------------------------------------------------------\n",
      " |  Data and other attributes defined here:\n",
      " |  \n",
      " |  __hash__ = None\n",
      "\n"
     ]
    }
   ],
   "source": [
    "help(l)"
   ]
  },
  {
   "cell_type": "markdown",
   "metadata": {},
   "source": [
    "## Les numpy arrays"
   ]
  },
  {
   "cell_type": "markdown",
   "metadata": {},
   "source": [
    "Les `array`s de numpy sont homogènes (données toutes de même type), continues en mémoire, ce qui permet d'être très rapide (grâce à l'arithmétique sur les adresses mémoire)."
   ]
  },
  {
   "cell_type": "code",
   "execution_count": 79,
   "metadata": {},
   "outputs": [],
   "source": [
    "import numpy as np"
   ]
  },
  {
   "cell_type": "markdown",
   "metadata": {},
   "source": [
    "Je commence par fixer une graine pour la reproductibilité..."
   ]
  },
  {
   "cell_type": "code",
   "execution_count": 80,
   "metadata": {},
   "outputs": [],
   "source": [
    "np.random.seed(42) "
   ]
  },
  {
   "cell_type": "code",
   "execution_count": 81,
   "metadata": {},
   "outputs": [
    {
     "data": {
      "text/plain": [
       "array([1.5, 4. , 6. ])"
      ]
     },
     "execution_count": 81,
     "metadata": {},
     "output_type": "execute_result"
    }
   ],
   "source": [
    "ar1 = np.array([1.5, 4, 6])\n",
    "ar1"
   ]
  },
  {
   "cell_type": "markdown",
   "metadata": {},
   "source": [
    "**Question** Observez les dimensions de ce `array` à l'aide de `shape` et le type de contenu à l'aide de `dtype`."
   ]
  },
  {
   "cell_type": "code",
   "execution_count": 82,
   "metadata": {},
   "outputs": [
    {
     "data": {
      "text/plain": [
       "(3,)"
      ]
     },
     "execution_count": 82,
     "metadata": {},
     "output_type": "execute_result"
    }
   ],
   "source": [
    "ar1.shape"
   ]
  },
  {
   "cell_type": "code",
   "execution_count": 83,
   "metadata": {},
   "outputs": [
    {
     "data": {
      "text/plain": [
       "dtype('float64')"
      ]
     },
     "execution_count": 83,
     "metadata": {},
     "output_type": "execute_result"
    }
   ],
   "source": [
    "ar1.dtype"
   ]
  },
  {
   "cell_type": "markdown",
   "metadata": {},
   "source": [
    "On peut construire un `array` de numpy à partir de liste. Observez notamment la conversion de type appliquée pour obtenir un ensemble homogène."
   ]
  },
  {
   "cell_type": "code",
   "execution_count": 84,
   "metadata": {},
   "outputs": [
    {
     "data": {
      "text/plain": [
       "array(['1', 'toto', '-1.5'], dtype='<U21')"
      ]
     },
     "execution_count": 84,
     "metadata": {},
     "output_type": "execute_result"
    }
   ],
   "source": [
    "np.array(l)"
   ]
  },
  {
   "cell_type": "code",
   "execution_count": 85,
   "metadata": {},
   "outputs": [
    {
     "data": {
      "text/plain": [
       "array([[ 0,  4],\n",
       "       [ 0,  8],\n",
       "       [ 0, 12],\n",
       "       [ 0, 16],\n",
       "       [ 1,  5],\n",
       "       [ 1,  9],\n",
       "       [ 1, 13],\n",
       "       [ 1, 17],\n",
       "       [ 2,  6],\n",
       "       [ 2, 10],\n",
       "       [ 2, 14],\n",
       "       [ 2, 18],\n",
       "       [ 3,  7],\n",
       "       [ 3, 11],\n",
       "       [ 3, 15],\n",
       "       [ 3, 19],\n",
       "       [ 4,  8],\n",
       "       [ 4, 12],\n",
       "       [ 4, 16],\n",
       "       [ 4, 20],\n",
       "       [ 5,  9],\n",
       "       [ 5, 13],\n",
       "       [ 5, 17],\n",
       "       [ 5, 21],\n",
       "       [ 6, 10],\n",
       "       [ 6, 14],\n",
       "       [ 6, 18],\n",
       "       [ 6, 22],\n",
       "       [ 7, 11],\n",
       "       [ 7, 15],\n",
       "       [ 7, 19],\n",
       "       [ 7, 23],\n",
       "       [ 8, 12],\n",
       "       [ 8, 16],\n",
       "       [ 8, 20],\n",
       "       [ 8, 24],\n",
       "       [ 9, 13],\n",
       "       [ 9, 17],\n",
       "       [ 9, 21],\n",
       "       [ 9, 25]])"
      ]
     },
     "execution_count": 85,
     "metadata": {},
     "output_type": "execute_result"
    }
   ],
   "source": [
    "ar2 = np.array(l2)\n",
    "ar2"
   ]
  },
  {
   "cell_type": "code",
   "execution_count": 86,
   "metadata": {},
   "outputs": [
    {
     "data": {
      "text/plain": [
       "dtype('int64')"
      ]
     },
     "execution_count": 86,
     "metadata": {},
     "output_type": "execute_result"
    }
   ],
   "source": [
    "ar2.dtype"
   ]
  },
  {
   "cell_type": "markdown",
   "metadata": {},
   "source": [
    "## Tranches, redimensionner, stacker, ...\n",
    "\n",
    "**<span style='color: red'>Activité</span>** On lit le notebook 02.02-The-Basics-Of-NumPy-Arrays."
   ]
  },
  {
   "cell_type": "markdown",
   "metadata": {},
   "source": [
    "### Slicing ou tranches"
   ]
  },
  {
   "cell_type": "markdown",
   "metadata": {},
   "source": [
    "En python les tranches font une copie de surface, en numpy il n'y a pas de copie. C'est très important pour la gestion de la mémoire avec les grands jeux de données."
   ]
  },
  {
   "cell_type": "code",
   "execution_count": 87,
   "metadata": {},
   "outputs": [
    {
     "data": {
      "text/plain": [
       "[1.5, 4]"
      ]
     },
     "execution_count": 87,
     "metadata": {},
     "output_type": "execute_result"
    }
   ],
   "source": [
    "l1 = [1.5, 4, 6]\n",
    "sl1 = l1[0:2]\n",
    "sl1"
   ]
  },
  {
   "cell_type": "code",
   "execution_count": 88,
   "metadata": {},
   "outputs": [
    {
     "data": {
      "text/plain": [
       "array([1.5, 4. ])"
      ]
     },
     "execution_count": 88,
     "metadata": {},
     "output_type": "execute_result"
    }
   ],
   "source": [
    "ar1_sl1 = ar1[0:2]\n",
    "ar1_sl1"
   ]
  },
  {
   "cell_type": "code",
   "execution_count": 89,
   "metadata": {},
   "outputs": [],
   "source": [
    "ar1_sl1[0] = 12\n",
    "sl1[0] = 12"
   ]
  },
  {
   "cell_type": "code",
   "execution_count": 90,
   "metadata": {},
   "outputs": [
    {
     "data": {
      "text/plain": [
       "(array([12.,  4.]), [12, 4])"
      ]
     },
     "execution_count": 90,
     "metadata": {},
     "output_type": "execute_result"
    }
   ],
   "source": [
    "ar1_sl1, sl1"
   ]
  },
  {
   "cell_type": "code",
   "execution_count": 91,
   "metadata": {},
   "outputs": [
    {
     "data": {
      "text/plain": [
       "(array([12.,  4.,  6.]), [1.5, 4, 6])"
      ]
     },
     "execution_count": 91,
     "metadata": {},
     "output_type": "execute_result"
    }
   ],
   "source": [
    "ar1, l1"
   ]
  },
  {
   "cell_type": "markdown",
   "metadata": {},
   "source": [
    "Les accès aux indices sont plus simples en numpy! (moins de crochets)"
   ]
  },
  {
   "cell_type": "code",
   "execution_count": 103,
   "metadata": {},
   "outputs": [
    {
     "name": "stdout",
     "output_type": "stream",
     "text": [
      "[0 4]\n",
      "[ 4  8 12 16  5  9 13 17  6 10 14 18  7 11 15 19  8 12 16 20  9 13 17 21\n",
      " 10 14 18 22 11 15 19 23 12 16 20 24 13 17 21 25]\n",
      "4\n"
     ]
    }
   ],
   "source": [
    "print(ar2[0])  \n",
    "print(ar2[:, 1]) \n",
    "print(ar2[0, 1])  "
   ]
  },
  {
   "cell_type": "markdown",
   "metadata": {},
   "source": [
    "## Copy"
   ]
  },
  {
   "cell_type": "markdown",
   "metadata": {},
   "source": [
    "La copie d'une liste `list` est en surface, celle d'un numpy `array` c'est en profondeur..."
   ]
  },
  {
   "cell_type": "code",
   "execution_count": 92,
   "metadata": {},
   "outputs": [],
   "source": [
    "ar2_copy = ar2.copy()\n",
    "l2_copy = l2.copy()"
   ]
  },
  {
   "cell_type": "code",
   "execution_count": 93,
   "metadata": {},
   "outputs": [],
   "source": [
    "ar2_copy[0][0] = 12\n",
    "l2_copy[0][0] = 12"
   ]
  },
  {
   "cell_type": "code",
   "execution_count": 94,
   "metadata": {},
   "outputs": [
    {
     "data": {
      "text/plain": [
       "(0, 12)"
      ]
     },
     "execution_count": 94,
     "metadata": {},
     "output_type": "execute_result"
    }
   ],
   "source": [
    "ar2[0][0], l2[0][0]"
   ]
  },
  {
   "cell_type": "markdown",
   "metadata": {},
   "source": [
    "### Opérateurs * + / - ..."
   ]
  },
  {
   "cell_type": "code",
   "execution_count": 127,
   "metadata": {},
   "outputs": [
    {
     "data": {
      "text/plain": [
       "array([[1., 0., 0., 0.],\n",
       "       [0., 1., 0., 0.],\n",
       "       [0., 0., 1., 0.],\n",
       "       [0., 0., 0., 1.]])"
      ]
     },
     "execution_count": 127,
     "metadata": {},
     "output_type": "execute_result"
    }
   ],
   "source": [
    "np.eye(4)"
   ]
  },
  {
   "cell_type": "code",
   "execution_count": 128,
   "metadata": {},
   "outputs": [
    {
     "data": {
      "text/plain": [
       "array([[1., 1., 1., 1.],\n",
       "       [1., 1., 1., 1.],\n",
       "       [1., 1., 1., 1.],\n",
       "       [1., 1., 1., 1.]])"
      ]
     },
     "execution_count": 128,
     "metadata": {},
     "output_type": "execute_result"
    }
   ],
   "source": [
    "np.ones((4,4))"
   ]
  },
  {
   "cell_type": "code",
   "execution_count": 126,
   "metadata": {},
   "outputs": [
    {
     "data": {
      "text/plain": [
       "array([[ 0., -1., -1.],\n",
       "       [-1.,  0., -1.],\n",
       "       [-1., -1.,  0.]])"
      ]
     },
     "execution_count": 126,
     "metadata": {},
     "output_type": "execute_result"
    }
   ],
   "source": [
    "np.eye(3) - np.ones((3,3))"
   ]
  },
  {
   "cell_type": "code",
   "execution_count": 97,
   "metadata": {},
   "outputs": [
    {
     "data": {
      "text/plain": [
       "array([[3., 0., 0.],\n",
       "       [0., 3., 0.],\n",
       "       [0., 0., 3.]])"
      ]
     },
     "execution_count": 97,
     "metadata": {},
     "output_type": "execute_result"
    }
   ],
   "source": [
    "np.eye(3) * np.ones((3,3)) "
   ]
  },
  {
   "cell_type": "code",
   "execution_count": 99,
   "metadata": {},
   "outputs": [
    {
     "data": {
      "text/plain": [
       "array([[4., 4., 4.],\n",
       "       [4., 4., 4.],\n",
       "       [4., 4., 4.]])"
      ]
     },
     "execution_count": 99,
     "metadata": {},
     "output_type": "execute_result"
    }
   ],
   "source": [
    "3 * np.ones((3,3)) + 1"
   ]
  },
  {
   "cell_type": "code",
   "execution_count": 102,
   "metadata": {},
   "outputs": [
    {
     "data": {
      "text/plain": [
       "array([[0.5, 1. , 1. ],\n",
       "       [1. , 0.5, 1. ],\n",
       "       [1. , 1. , 0.5]])"
      ]
     },
     "execution_count": 102,
     "metadata": {},
     "output_type": "execute_result"
    }
   ],
   "source": [
    "np.ones((3,3)) / (1+np.eye(3))"
   ]
  },
  {
   "cell_type": "markdown",
   "metadata": {},
   "source": [
    "### Redimensionnement\n",
    "\n",
    "- `ravel` vue 1-D \n",
    "- `flatten` copie 1-D.\n",
    "- `reshape` redimensionnement\n",
    "- `transpose` transposition.\n",
    "- `np.newaxis` ajout d'une dimension vide (parfois plus intéressant qu'un reshape)."
   ]
  },
  {
   "cell_type": "code",
   "execution_count": 104,
   "metadata": {},
   "outputs": [
    {
     "data": {
      "text/plain": [
       "array([ 0,  4,  0,  8,  0, 12,  0, 16,  1,  5,  1,  9,  1, 13,  1, 17,  2,\n",
       "        6,  2, 10,  2, 14,  2, 18,  3,  7,  3, 11,  3, 15,  3, 19,  4,  8,\n",
       "        4, 12,  4, 16,  4, 20,  5,  9,  5, 13,  5, 17,  5, 21,  6, 10,  6,\n",
       "       14,  6, 18,  6, 22,  7, 11,  7, 15,  7, 19,  7, 23,  8, 12,  8, 16,\n",
       "        8, 20,  8, 24,  9, 13,  9, 17,  9, 21,  9, 25])"
      ]
     },
     "execution_count": 104,
     "metadata": {},
     "output_type": "execute_result"
    }
   ],
   "source": [
    "ar2.ravel()"
   ]
  },
  {
   "cell_type": "code",
   "execution_count": 108,
   "metadata": {},
   "outputs": [],
   "source": [
    "new_ar2 = ar2.flatten()\n",
    "new_ar2"
   ]
  },
  {
   "cell_type": "code",
   "execution_count": 109,
   "metadata": {},
   "outputs": [
    {
     "data": {
      "text/plain": [
       "array([[ 0,  4,  0,  8,  0, 12,  0, 16],\n",
       "       [ 1,  5,  1,  9,  1, 13,  1, 17],\n",
       "       [ 2,  6,  2, 10,  2, 14,  2, 18],\n",
       "       [ 3,  7,  3, 11,  3, 15,  3, 19],\n",
       "       [ 4,  8,  4, 12,  4, 16,  4, 20],\n",
       "       [ 5,  9,  5, 13,  5, 17,  5, 21],\n",
       "       [ 6, 10,  6, 14,  6, 18,  6, 22],\n",
       "       [ 7, 11,  7, 15,  7, 19,  7, 23],\n",
       "       [ 8, 12,  8, 16,  8, 20,  8, 24],\n",
       "       [ 9, 13,  9, 17,  9, 21,  9, 25]])"
      ]
     },
     "execution_count": 109,
     "metadata": {},
     "output_type": "execute_result"
    }
   ],
   "source": [
    "new_ar2.reshape((10,8))"
   ]
  },
  {
   "cell_type": "code",
   "execution_count": 112,
   "metadata": {},
   "outputs": [
    {
     "data": {
      "text/plain": [
       "array([ 0,  4,  0,  8,  0, 12,  0, 16,  1,  5,  1,  9,  1, 13,  1, 17,  2,\n",
       "        6,  2, 10,  2, 14,  2, 18,  3,  7,  3, 11,  3, 15,  3, 19,  4,  8,\n",
       "        4, 12,  4, 16,  4, 20,  5,  9,  5, 13,  5, 17,  5, 21,  6, 10,  6,\n",
       "       14,  6, 18,  6, 22,  7, 11,  7, 15,  7, 19,  7, 23,  8, 12,  8, 16,\n",
       "        8, 20,  8, 24,  9, 13,  9, 17,  9, 21,  9, 25])"
      ]
     },
     "execution_count": 112,
     "metadata": {},
     "output_type": "execute_result"
    }
   ],
   "source": [
    "new_ar2"
   ]
  },
  {
   "cell_type": "code",
   "execution_count": 115,
   "metadata": {},
   "outputs": [
    {
     "data": {
      "text/plain": [
       "array([[ 0,  4,  0,  8,  0, 12,  0, 16,  1,  5,  1,  9,  1, 13,  1, 17,\n",
       "         2,  6,  2, 10,  2, 14,  2, 18,  3,  7,  3, 11,  3, 15,  3, 19,\n",
       "         4,  8,  4, 12,  4, 16,  4, 20,  5,  9,  5, 13,  5, 17,  5, 21,\n",
       "         6, 10,  6, 14,  6, 18,  6, 22,  7, 11,  7, 15,  7, 19,  7, 23,\n",
       "         8, 12,  8, 16,  8, 20,  8, 24,  9, 13,  9, 17,  9, 21,  9, 25]])"
      ]
     },
     "execution_count": 115,
     "metadata": {},
     "output_type": "execute_result"
    }
   ],
   "source": [
    "new_ar2[np.newaxis,:]"
   ]
  },
  {
   "cell_type": "code",
   "execution_count": 116,
   "metadata": {},
   "outputs": [
    {
     "data": {
      "text/plain": [
       "array([[ 0],\n",
       "       [ 4],\n",
       "       [ 0],\n",
       "       [ 8],\n",
       "       [ 0],\n",
       "       [12],\n",
       "       [ 0],\n",
       "       [16],\n",
       "       [ 1],\n",
       "       [ 5],\n",
       "       [ 1],\n",
       "       [ 9],\n",
       "       [ 1],\n",
       "       [13],\n",
       "       [ 1],\n",
       "       [17],\n",
       "       [ 2],\n",
       "       [ 6],\n",
       "       [ 2],\n",
       "       [10],\n",
       "       [ 2],\n",
       "       [14],\n",
       "       [ 2],\n",
       "       [18],\n",
       "       [ 3],\n",
       "       [ 7],\n",
       "       [ 3],\n",
       "       [11],\n",
       "       [ 3],\n",
       "       [15],\n",
       "       [ 3],\n",
       "       [19],\n",
       "       [ 4],\n",
       "       [ 8],\n",
       "       [ 4],\n",
       "       [12],\n",
       "       [ 4],\n",
       "       [16],\n",
       "       [ 4],\n",
       "       [20],\n",
       "       [ 5],\n",
       "       [ 9],\n",
       "       [ 5],\n",
       "       [13],\n",
       "       [ 5],\n",
       "       [17],\n",
       "       [ 5],\n",
       "       [21],\n",
       "       [ 6],\n",
       "       [10],\n",
       "       [ 6],\n",
       "       [14],\n",
       "       [ 6],\n",
       "       [18],\n",
       "       [ 6],\n",
       "       [22],\n",
       "       [ 7],\n",
       "       [11],\n",
       "       [ 7],\n",
       "       [15],\n",
       "       [ 7],\n",
       "       [19],\n",
       "       [ 7],\n",
       "       [23],\n",
       "       [ 8],\n",
       "       [12],\n",
       "       [ 8],\n",
       "       [16],\n",
       "       [ 8],\n",
       "       [20],\n",
       "       [ 8],\n",
       "       [24],\n",
       "       [ 9],\n",
       "       [13],\n",
       "       [ 9],\n",
       "       [17],\n",
       "       [ 9],\n",
       "       [21],\n",
       "       [ 9],\n",
       "       [25]])"
      ]
     },
     "execution_count": 116,
     "metadata": {},
     "output_type": "execute_result"
    }
   ],
   "source": [
    "new_ar2[:,np.newaxis]"
   ]
  },
  {
   "cell_type": "code",
   "execution_count": 125,
   "metadata": {},
   "outputs": [
    {
     "name": "stdout",
     "output_type": "stream",
     "text": [
      "(80,)\n"
     ]
    },
    {
     "data": {
      "text/plain": [
       "array([[ 0,  4,  0,  8,  0, 12,  0, 16,  1,  5],\n",
       "       [ 1,  9,  1, 13,  1, 17,  2,  6,  2, 10],\n",
       "       [ 2, 14,  2, 18,  3,  7,  3, 11,  3, 15],\n",
       "       [ 3, 19,  4,  8,  4, 12,  4, 16,  4, 20],\n",
       "       [ 5,  9,  5, 13,  5, 17,  5, 21,  6, 10],\n",
       "       [ 6, 14,  6, 18,  6, 22,  7, 11,  7, 15],\n",
       "       [ 7, 19,  7, 23,  8, 12,  8, 16,  8, 20],\n",
       "       [ 8, 24,  9, 13,  9, 17,  9, 21,  9, 25]])"
      ]
     },
     "execution_count": 125,
     "metadata": {},
     "output_type": "execute_result"
    }
   ],
   "source": [
    "print(new_ar2.shape)\n",
    "new_ar2.reshape((-1,10))  # -1 est remplacé par la valeur qu'il faut!"
   ]
  },
  {
   "cell_type": "markdown",
   "metadata": {},
   "source": [
    "### Empiler des arrays"
   ]
  },
  {
   "cell_type": "code",
   "execution_count": 135,
   "metadata": {},
   "outputs": [],
   "source": [
    "m1 = np.ones((3,1))\n",
    "m2 = np.full((3,2), 2)"
   ]
  },
  {
   "cell_type": "code",
   "execution_count": 141,
   "metadata": {},
   "outputs": [
    {
     "data": {
      "text/plain": [
       "array([[1., 2., 2.],\n",
       "       [1., 2., 2.],\n",
       "       [1., 2., 2.]])"
      ]
     },
     "execution_count": 141,
     "metadata": {},
     "output_type": "execute_result"
    }
   ],
   "source": [
    "np.hstack((m1, m2))"
   ]
  },
  {
   "cell_type": "code",
   "execution_count": 140,
   "metadata": {},
   "outputs": [
    {
     "data": {
      "text/plain": [
       "array([[1., 1., 1.],\n",
       "       [2., 2., 2.],\n",
       "       [2., 2., 2.]])"
      ]
     },
     "execution_count": 140,
     "metadata": {},
     "output_type": "execute_result"
    }
   ],
   "source": [
    "np.vstack([m1.T, m2.T])"
   ]
  },
  {
   "cell_type": "code",
   "execution_count": 146,
   "metadata": {},
   "outputs": [
    {
     "data": {
      "text/plain": [
       "array([[1., 1., 1.],\n",
       "       [2., 2., 2.],\n",
       "       [2., 2., 2.]])"
      ]
     },
     "execution_count": 146,
     "metadata": {},
     "output_type": "execute_result"
    }
   ],
   "source": [
    "np.concatenate((m1.T, m2.T))"
   ]
  },
  {
   "cell_type": "code",
   "execution_count": 148,
   "metadata": {},
   "outputs": [
    {
     "data": {
      "text/plain": [
       "array([[1., 2., 2.],\n",
       "       [1., 2., 2.],\n",
       "       [1., 2., 2.]])"
      ]
     },
     "execution_count": 148,
     "metadata": {},
     "output_type": "execute_result"
    }
   ],
   "source": [
    "np.concatenate((m1, m2), axis=1)"
   ]
  },
  {
   "cell_type": "code",
   "execution_count": 149,
   "metadata": {},
   "outputs": [
    {
     "data": {
      "text/plain": [
       "array([[1., 2., 2.],\n",
       "       [1., 2., 2.],\n",
       "       [1., 2., 2.]])"
      ]
     },
     "execution_count": 149,
     "metadata": {},
     "output_type": "execute_result"
    }
   ],
   "source": [
    "np.c_[m1,m2]"
   ]
  },
  {
   "cell_type": "code",
   "execution_count": 150,
   "metadata": {},
   "outputs": [
    {
     "data": {
      "text/plain": [
       "array([[1., 1., 1.],\n",
       "       [2., 2., 2.],\n",
       "       [2., 2., 2.]])"
      ]
     },
     "execution_count": 150,
     "metadata": {},
     "output_type": "execute_result"
    }
   ],
   "source": [
    "np.r_[m1.T, m2.T]"
   ]
  },
  {
   "cell_type": "markdown",
   "metadata": {},
   "source": [
    "### Agrégation"
   ]
  },
  {
   "cell_type": "markdown",
   "metadata": {},
   "source": [
    "Les opérations `np.sum`, `np.max`, `np.min`, `np.std` fonctionnent par défaut sur la matrice à plat, mais on peut spécifier un axe."
   ]
  },
  {
   "cell_type": "code",
   "execution_count": 129,
   "metadata": {},
   "outputs": [
    {
     "data": {
      "text/plain": [
       "760"
      ]
     },
     "execution_count": 129,
     "metadata": {},
     "output_type": "execute_result"
    }
   ],
   "source": [
    "np.sum(ar2)"
   ]
  },
  {
   "cell_type": "code",
   "execution_count": 130,
   "metadata": {},
   "outputs": [
    {
     "data": {
      "text/plain": [
       "array([180, 580])"
      ]
     },
     "execution_count": 130,
     "metadata": {},
     "output_type": "execute_result"
    }
   ],
   "source": [
    "np.sum(ar2, axis=0)"
   ]
  },
  {
   "cell_type": "code",
   "execution_count": 131,
   "metadata": {},
   "outputs": [
    {
     "data": {
      "text/plain": [
       "array([ 4,  8, 12, 16,  6, 10, 14, 18,  8, 12, 16, 20, 10, 14, 18, 22, 12,\n",
       "       16, 20, 24, 14, 18, 22, 26, 16, 20, 24, 28, 18, 22, 26, 30, 20, 24,\n",
       "       28, 32, 22, 26, 30, 34])"
      ]
     },
     "execution_count": 131,
     "metadata": {},
     "output_type": "execute_result"
    }
   ],
   "source": [
    "np.sum(ar2, axis=1)"
   ]
  },
  {
   "cell_type": "markdown",
   "metadata": {},
   "source": [
    "###  Sélection"
   ]
  },
  {
   "cell_type": "code",
   "execution_count": 152,
   "metadata": {},
   "outputs": [
    {
     "data": {
      "text/plain": [
       "array([[8, 3, 6],\n",
       "       [5, 2, 8],\n",
       "       [6, 2, 5],\n",
       "       [1, 6, 9]])"
      ]
     },
     "execution_count": 152,
     "metadata": {},
     "output_type": "execute_result"
    }
   ],
   "source": [
    "r1 = np.random.randint(1, 10, (4,3))\n",
    "r1"
   ]
  },
  {
   "cell_type": "code",
   "execution_count": 153,
   "metadata": {},
   "outputs": [
    {
     "data": {
      "text/plain": [
       "array([[False,  True, False],\n",
       "       [False,  True, False],\n",
       "       [False,  True, False],\n",
       "       [ True, False, False]])"
      ]
     },
     "execution_count": 153,
     "metadata": {},
     "output_type": "execute_result"
    }
   ],
   "source": [
    "r1<5"
   ]
  },
  {
   "cell_type": "code",
   "execution_count": 155,
   "metadata": {},
   "outputs": [
    {
     "data": {
      "text/plain": [
       "array([3, 2, 2, 1])"
      ]
     },
     "execution_count": 155,
     "metadata": {},
     "output_type": "execute_result"
    }
   ],
   "source": [
    "r1[r1<5]"
   ]
  },
  {
   "cell_type": "code",
   "execution_count": 158,
   "metadata": {},
   "outputs": [
    {
     "data": {
      "text/plain": [
       "array([[ 5, 12,  5],\n",
       "       [ 5, 12,  5],\n",
       "       [ 5, 12,  5],\n",
       "       [12,  5,  5]])"
      ]
     },
     "execution_count": 158,
     "metadata": {},
     "output_type": "execute_result"
    }
   ],
   "source": [
    "np.where(r1<5,np.full((4,3),12), np.full((4,3),5))"
   ]
  },
  {
   "cell_type": "markdown",
   "metadata": {},
   "source": [
    "## Fonctions importantes  et exercices\n",
    "- arange\n",
    "- zeros, ones\n",
    "- eye\n",
    "- linspace\n",
    "- et dans le module `random`\n",
    "   - randint\n",
    "   - normal"
   ]
  },
  {
   "cell_type": "markdown",
   "metadata": {},
   "source": [
    "**Question** Affichez l'aide sur `random.normal`, puis générer un ensemble de 100 valeurs de moyenne 0 et d'écart type 3. Appeler `s1` cet `array`."
   ]
  },
  {
   "cell_type": "code",
   "execution_count": null,
   "metadata": {},
   "outputs": [],
   "source": [
    "np.random.normal?"
   ]
  },
  {
   "cell_type": "code",
   "execution_count": 160,
   "metadata": {},
   "outputs": [
    {
     "data": {
      "text/plain": [
       "array([ 2.44933524, -4.57162799, -1.28413819, -2.22722051, -2.11003141,\n",
       "       -6.41886197, -1.88842488,  1.7931614 ,  7.67846409,  1.18269907,\n",
       "        0.3666575 , -1.54630699, -1.80076155,  2.84231946,  0.873102  ,\n",
       "       -1.90667922, -3.06465658, -0.48526616, -1.60094641, -0.01658359,\n",
       "       -0.68835136,  1.16804674, -3.79535734,  3.27597679,  8.33493912,\n",
       "        3.58091917,  0.65591495,  2.64528312, -3.02725603, -4.74988264,\n",
       "        2.32110125, -1.61442498, -4.04003429, -2.6417738 , -3.39165691,\n",
       "        0.40328665,  1.74636838,  2.66324538,  2.68299699,  2.26499339,\n",
       "       -0.62149767, -1.87043218, -4.52445987,  3.29894093, -0.53319636,\n",
       "       -1.23114993,  3.53914903, -2.69462382,  2.50438626,  0.88968415,\n",
       "       -3.11348963, -0.22741124,  2.9188906 ,  2.38678639,  4.48630276,\n",
       "        1.01454376, 10.11688876, -2.76117242, -1.19591517, -0.18259226,\n",
       "       -4.25625138,  3.12747485,  2.71059747,  0.05700099, -1.60324936,\n",
       "       -4.48516161, -2.36777499,  2.23113385, -0.63648427, -1.28060638,\n",
       "        1.50434499,  3.47455996,  0.77135061,  0.94353869,  4.1155864 ,\n",
       "        0.52665988, -0.92786564,  2.01937651, -0.76989055, -1.10347717,\n",
       "        3.82120086, -0.87585801, -7.96552814,  1.03655383, -1.18654935,\n",
       "       -0.86741057,  1.35880898, -0.49818273,  0.64481649, -6.0669448 ,\n",
       "       -2.82917043,  4.21187622, -0.05565241, -5.02051387, -3.2175955 ,\n",
       "       -2.97775854,  0.30704305, -1.29782784, -1.97754691,  0.01181191])"
      ]
     },
     "execution_count": 160,
     "metadata": {},
     "output_type": "execute_result"
    }
   ],
   "source": [
    "s1 = np.random.normal(0, 3, 100)\n",
    "s1"
   ]
  },
  {
   "cell_type": "markdown",
   "metadata": {},
   "source": [
    "**Question** Rechercher dans la documentation comment générer un échantillon de 1000 points en dimension 2 où chaque coordonnée est tirée selon une loi normale centrée en 0 et de variance 10 . (Il faut faire une matrice de 2 lignes, la première ligne contient les 1000 coordonnées pour la première dimension, la seconde ligne contient les 1000 coordonnées pour la seconde dimension)"
   ]
  },
  {
   "cell_type": "code",
   "execution_count": 161,
   "metadata": {},
   "outputs": [],
   "source": [
    "s2 = np.random.normal(0, 10, (2,1000))"
   ]
  },
  {
   "cell_type": "markdown",
   "metadata": {},
   "source": [
    "**Question** Importer les modules nécessaires pour tracer un plot pour la fonction représentée par `s1`"
   ]
  },
  {
   "cell_type": "code",
   "execution_count": 162,
   "metadata": {},
   "outputs": [],
   "source": [
    "import matplotlib.pyplot as plt\n",
    "%matplotlib inline"
   ]
  },
  {
   "cell_type": "code",
   "execution_count": 163,
   "metadata": {},
   "outputs": [
    {
     "data": {
      "text/plain": [
       "[<matplotlib.lines.Line2D at 0x7fa296fbe190>]"
      ]
     },
     "execution_count": 163,
     "metadata": {},
     "output_type": "execute_result"
    },
    {
     "data": {
      "image/png": "[encoded data removed]",
      "text/plain": [
       "<Figure size 432x288 with 1 Axes>"
      ]
     },
     "metadata": {
      "needs_background": "light"
     },
     "output_type": "display_data"
    }
   ],
   "source": [
    "plt.plot(s1)"
   ]
  },
  {
   "cell_type": "markdown",
   "metadata": {},
   "source": [
    "**Question** : Tracer avec seaborn la distribution, (essayer plusieurs tracés, uniquement un histogramme, puis une estimation de la densité, essayez rugplot également,... soyez curieux!)"
   ]
  },
  {
   "cell_type": "code",
   "execution_count": 164,
   "metadata": {},
   "outputs": [],
   "source": [
    "import seaborn as sns\n",
    "sns.set()"
   ]
  },
  {
   "cell_type": "code",
   "execution_count": 165,
   "metadata": {},
   "outputs": [
    {
     "data": {
      "text/plain": [
       "<matplotlib.axes._subplots.AxesSubplot at 0x7fa292dfed10>"
      ]
     },
     "execution_count": 165,
     "metadata": {},
     "output_type": "execute_result"
    },
    {
     "data": {
      "image/png": "[encoded data removed]",
      "text/plain": [
       "<Figure size 432x288 with 1 Axes>"
      ]
     },
     "metadata": {},
     "output_type": "display_data"
    }
   ],
   "source": [
    "sns.distplot(s1,kde=False)"
   ]
  },
  {
   "cell_type": "markdown",
   "metadata": {},
   "source": [
    "**Question** Tracer un scatter plot pour s2 avec pyplot et seaborn."
   ]
  },
  {
   "cell_type": "code",
   "execution_count": 166,
   "metadata": {},
   "outputs": [
    {
     "data": {
      "text/plain": [
       "<matplotlib.collections.PathCollection at 0x7fa292d45f50>"
      ]
     },
     "execution_count": 166,
     "metadata": {},
     "output_type": "execute_result"
    },
    {
     "data": {
      "image/png": "[encoded data removed]",
      "text/plain": [
       "<Figure size 432x288 with 1 Axes>"
      ]
     },
     "metadata": {},
     "output_type": "display_data"
    }
   ],
   "source": [
    "plt.scatter(s2[0], s2[1])"
   ]
  },
  {
   "cell_type": "markdown",
   "metadata": {},
   "source": [
    "**Questions**\n",
    "\n",
    "Générer les objets suivants nommés ex1, ex2, ex3 et ex4.\n",
    "\n",
    "1. une matrice identité de dimension 5\n",
    "2. un tenseur de 0 de dimensions 3x4x5\n",
    "3. un vecteur d'entiers entre 4 et 100 de 3 en 3: 4, 7, 10, ....\n",
    "4. un vecteur de 100 valeurs régulièrement espacées entre 5 et 8."
   ]
  },
  {
   "cell_type": "code",
   "execution_count": 167,
   "metadata": {},
   "outputs": [
    {
     "data": {
      "text/plain": [
       "<matplotlib.axes._subplots.AxesSubplot at 0x7fa29281be10>"
      ]
     },
     "execution_count": 167,
     "metadata": {},
     "output_type": "execute_result"
    },
    {
     "data": {
      "image/png": "[encoded data removed]",
      "text/plain": [
       "<Figure size 432x288 with 1 Axes>"
      ]
     },
     "metadata": {},
     "output_type": "display_data"
    }
   ],
   "source": [
    "sns.scatterplot(s2[0], s2[1])"
   ]
  },
  {
   "cell_type": "code",
   "execution_count": 168,
   "metadata": {},
   "outputs": [],
   "source": [
    "ex1 = np.eye(5)\n",
    "ex2 = np.zeros((3,4,5))\n",
    "ex3 = np.arange(4, 100, 3)\n",
    "ex4 = np.linspace(5,8, 100)"
   ]
  },
  {
   "cell_type": "code",
   "execution_count": null,
   "metadata": {},
   "outputs": [],
   "source": [
    "np.linspace?"
   ]
  },
  {
   "cell_type": "markdown",
   "metadata": {},
   "source": [
    "**Questions** \n",
    "\n",
    "Faire un jeu de données `X`, `y` tel que `X` contient 1000 points\n",
    "   - 500 sont tirés comme précédemment selon une loi normale pour les 2 coordonnées centrée en 3, 3, variance 1\n",
    "   - 500 sont tirés comme précédemment selon une loi normale pour les 2 coordonnées centrée en 0, 5, variance 1\n",
    "   \n",
    "et `y` (une étiquette) contient 1 pour les 500 premiers et -1 pour les autres. \n",
    "\n",
    "*Remarque* : vous pouvez utiliser des multivariées normales ou des normales... à vous de choisir! Les coordonnées sont indépendantes les unes des autres.\n"
   ]
  },
  {
   "cell_type": "code",
   "execution_count": 169,
   "metadata": {},
   "outputs": [],
   "source": [
    "nb = 500\n",
    "mu1=(3, 3)\n",
    "mu2=(0, 5)"
   ]
  },
  {
   "cell_type": "code",
   "execution_count": 170,
   "metadata": {},
   "outputs": [],
   "source": [
    "X11 = np.random.normal(mu1[0], 1, nb)\n",
    "X12 = np.random.normal(mu1[1], 1, nb)\n",
    "X1 = np.vstack([X11, X12])\n",
    "X21 = np.random.normal(mu2[0], 1, nb)\n",
    "X22 = np.random.normal(mu2[1], 1, nb)\n",
    "X2 = np.vstack([X21, X22])\n",
    "X = np.concatenate([X1, X2], axis=1)\n",
    "y = np.array([1]*nb + [-1]*nb)  # Attention, ce sont des listes ;-) "
   ]
  },
  {
   "cell_type": "code",
   "execution_count": 171,
   "metadata": {},
   "outputs": [],
   "source": [
    "X1 = np.random.multivariate_normal(mu1, np.eye(2), nb)\n",
    "X2 = np.random.multivariate_normal(mu2, np.eye(2), nb)\n",
    "X = np.concatenate([X1,X2]).T"
   ]
  },
  {
   "cell_type": "code",
   "execution_count": 172,
   "metadata": {},
   "outputs": [
    {
     "data": {
      "text/plain": [
       "(1000, 2)"
      ]
     },
     "execution_count": 172,
     "metadata": {},
     "output_type": "execute_result"
    }
   ],
   "source": [
    "X.T.shape"
   ]
  },
  {
   "cell_type": "code",
   "execution_count": 173,
   "metadata": {},
   "outputs": [
    {
     "data": {
      "text/plain": [
       "((2, 1000), (1000,))"
      ]
     },
     "execution_count": 173,
     "metadata": {},
     "output_type": "execute_result"
    }
   ],
   "source": [
    "X.shape, y.shape"
   ]
  },
  {
   "cell_type": "markdown",
   "metadata": {},
   "source": [
    "**Question** Tracer le nuage de points, l'option `c` de pyplot (`hue` de sns) permet de spécifier les couleurs que vous prenez selon `y`."
   ]
  },
  {
   "cell_type": "code",
   "execution_count": 174,
   "metadata": {},
   "outputs": [
    {
     "data": {
      "text/plain": [
       "<matplotlib.collections.PathCollection at 0x7fa292878f50>"
      ]
     },
     "execution_count": 174,
     "metadata": {},
     "output_type": "execute_result"
    },
    {
     "data": {
      "image/png": "[encoded data removed]",
      "text/plain": [
       "<Figure size 432x288 with 1 Axes>"
      ]
     },
     "metadata": {},
     "output_type": "display_data"
    }
   ],
   "source": [
    "plt.scatter(X[0],X[1], c=[ 'red' if t==1 else 'blue' for t in y])"
   ]
  },
  {
   "cell_type": "code",
   "execution_count": 177,
   "metadata": {},
   "outputs": [],
   "source": [
    "sns.scatterplot?"
   ]
  },
  {
   "cell_type": "code",
   "execution_count": 180,
   "metadata": {},
   "outputs": [
    {
     "data": {
      "text/plain": [
       "<matplotlib.axes._subplots.AxesSubplot at 0x7fa292a47590>"
      ]
     },
     "execution_count": 180,
     "metadata": {},
     "output_type": "execute_result"
    },
    {
     "data": {
      "image/png": "[encoded data removed]",
      "text/plain": [
       "<Figure size 432x288 with 1 Axes>"
      ]
     },
     "metadata": {},
     "output_type": "display_data"
    }
   ],
   "source": [
    "sns.scatterplot(X[0],X[1], hue=[ 'blob 1' if t==1 else 'blob 2' for t in y])"
   ]
  },
  {
   "cell_type": "markdown",
   "metadata": {},
   "source": [
    "**<span style='color: red'>Activité</span>** Regarder la documentation de la fonction `make_blobs` de `scikit-learn`!..."
   ]
  },
  {
   "cell_type": "markdown",
   "metadata": {},
   "source": [
    "**Question** : recommencer avec cette fonction!"
   ]
  },
  {
   "cell_type": "code",
   "execution_count": null,
   "metadata": {},
   "outputs": [],
   "source": [
    "import sklearn\n",
    "sklearn.__version__"
   ]
  },
  {
   "cell_type": "code",
   "execution_count": null,
   "metadata": {},
   "outputs": [],
   "source": []
  }
 ],
 "metadata": {
  "kernelspec": {
   "display_name": "Python 3",
   "language": "python",
   "name": "python3"
  },
  "language_info": {
   "codemirror_mode": {
    "name": "ipython",
    "version": 3
   },
   "file_extension": ".py",
   "mimetype": "text/x-python",
   "name": "python",
   "nbconvert_exporter": "python",
   "pygments_lexer": "ipython3",
   "version": "3.8.2"
  }
 },
 "nbformat": 4,
 "nbformat_minor": 2
}
