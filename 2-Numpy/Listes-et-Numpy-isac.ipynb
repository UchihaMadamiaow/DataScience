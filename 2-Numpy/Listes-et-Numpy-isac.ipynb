{
 "cells": [
  {
   "cell_type": "markdown",
   "metadata": {},
   "source": [
    "# Notebooks et Ipython"
   ]
  },
  {
   "cell_type": "markdown",
   "metadata": {},
   "source": [
    "## Généralités"
   ]
  },
  {
   "cell_type": "markdown",
   "metadata": {},
   "source": [
    "- La couleur verte indique qu'on édite une cellule, la bleue qu'on édite le notebook\n",
    "- Raccourcis dispos pour insérer des cellules etc (voir l'icône de clavier)\n",
    "- Les cellules peuvent contenir des textes en markdown (m) ou du code (y). \n",
    "- Les cellules de code s'exécutent dans n'importe quel ordre. Les résultats sont globaux au Notebook. L'ordre d'exécution est visible à côté de la cellule.\n",
    "- On exécute une cellule avec \n",
    "  - S-Entrée exécute et passe à la cellule suivante\n",
    "  - C-Entrée exécute et reste sur la même cellule\n",
    "  - Alt-Entrée exécute et insèce une nouvelle cellule\n",
    "- Le résultat de la cellule est le résultat de la dernière ligne\n",
    "- Vous pouvez tout recommencer en redémarrant le noyau (Menu Noyau)\n",
    "- Si vous reprenez plus tard un notebook partiellement exécuté, il faut relancer les cellules déjà exécutées pour continuer (l'état est sauvegardé sans la mémoire)."
   ]
  },
  {
   "cell_type": "code",
   "execution_count": 26,
   "metadata": {},
   "outputs": [
    {
     "data": {
      "text/plain": [
       "1"
      ]
     },
     "execution_count": 26,
     "metadata": {},
     "output_type": "execute_result"
    }
   ],
   "source": [
    "1"
   ]
  },
  {
   "cell_type": "code",
   "execution_count": 27,
   "metadata": {},
   "outputs": [
    {
     "data": {
      "text/plain": [
       "2"
      ]
     },
     "execution_count": 27,
     "metadata": {},
     "output_type": "execute_result"
    }
   ],
   "source": [
    "1\n",
    "2  # uniquement la sortie 2"
   ]
  },
  {
   "cell_type": "code",
   "execution_count": 28,
   "metadata": {},
   "outputs": [],
   "source": [
    "def f(): pass # pas de sortie"
   ]
  },
  {
   "cell_type": "code",
   "execution_count": 29,
   "metadata": {
    "tags": []
   },
   "outputs": [
    {
     "name": "stdout",
     "output_type": "stream",
     "text": [
      "1\n",
      "2\n"
     ]
    }
   ],
   "source": [
    "print(1)\n",
    "print(2) # pas de sortie"
   ]
  },
  {
   "cell_type": "code",
   "execution_count": 30,
   "metadata": {},
   "outputs": [],
   "source": [
    "s = \"Allo la terre ?\" # pas de sortie"
   ]
  },
  {
   "cell_type": "markdown",
   "metadata": {},
   "source": [
    "`<tab>` permet la complétion, et `?` donne de l'aide"
   ]
  },
  {
   "cell_type": "code",
   "execution_count": 31,
   "metadata": {},
   "outputs": [
    {
     "data": {
      "text/plain": [
       "range"
      ]
     },
     "execution_count": 31,
     "metadata": {},
     "output_type": "execute_result"
    }
   ],
   "source": [
    "# appuyer sur <tab> après ran\n",
    "range "
   ]
  },
  {
   "cell_type": "code",
   "execution_count": 32,
   "metadata": {},
   "outputs": [],
   "source": [
    "# appuyer sur <tab> (2 fois) après le .\n",
    "# s. (je l'ai fait 😊)"
   ]
  },
  {
   "cell_type": "code",
   "execution_count": 33,
   "metadata": {},
   "outputs": [
    {
     "data": {
      "text/plain": [
       "<function str.split(sep=None, maxsplit=-1)>"
      ]
     },
     "execution_count": 33,
     "metadata": {},
     "output_type": "execute_result"
    }
   ],
   "source": [
    "# Appuyer sur S-TAB à la fin de chaque ligne\n",
    "s\n",
    "range\n",
    "s.split"
   ]
  },
  {
   "cell_type": "code",
   "execution_count": 34,
   "metadata": {},
   "outputs": [],
   "source": [
    "range?"
   ]
  },
  {
   "cell_type": "markdown",
   "metadata": {},
   "source": [
    "## Ipython et scripts"
   ]
  },
  {
   "cell_type": "markdown",
   "metadata": {},
   "source": [
    "On peut inclure des scripts python dans un notebook. C'est la démarche classique pour le développement : scripts pour les algorithmes un peu complexes, utilisation d'un notebook pour utiliser et expérimenter, présenter. "
   ]
  },
  {
   "cell_type": "code",
   "execution_count": 35,
   "metadata": {},
   "outputs": [
    {
     "ename": "ModuleNotFoundError",
     "evalue": "No module named 'algos'",
     "output_type": "error",
     "traceback": [
      "\u001b[0;31m---------------------------------------------------------------------------\u001b[0m",
      "\u001b[0;31mModuleNotFoundError\u001b[0m                       Traceback (most recent call last)",
      "\u001b[0;32m<ipython-input-35-cd6924db7844>\u001b[0m in \u001b[0;36m<module>\u001b[0;34m\u001b[0m\n\u001b[0;32m----> 1\u001b[0;31m \u001b[0;32mimport\u001b[0m \u001b[0malgos\u001b[0m\u001b[0;34m\u001b[0m\u001b[0;34m\u001b[0m\u001b[0m\n\u001b[0m",
      "\u001b[0;31mModuleNotFoundError\u001b[0m: No module named 'algos'"
     ]
    }
   ],
   "source": [
    "import algos"
   ]
  },
  {
   "cell_type": "code",
   "execution_count": 36,
   "metadata": {
    "tags": []
   },
   "outputs": [
    {
     "ename": "NameError",
     "evalue": "name 'algos' is not defined",
     "output_type": "error",
     "traceback": [
      "\u001b[0;31m---------------------------------------------------------------------------\u001b[0m",
      "\u001b[0;31mNameError\u001b[0m                                 Traceback (most recent call last)",
      "\u001b[0;32m<ipython-input-36-39059b62e7bf>\u001b[0m in \u001b[0;36m<module>\u001b[0;34m\u001b[0m\n\u001b[0;32m----> 1\u001b[0;31m \u001b[0malgos\u001b[0m\u001b[0;34m.\u001b[0m\u001b[0mrun\u001b[0m\u001b[0;34m(\u001b[0m\u001b[0;34m)\u001b[0m\u001b[0;34m\u001b[0m\u001b[0;34m\u001b[0m\u001b[0m\n\u001b[0m",
      "\u001b[0;31mNameError\u001b[0m: name 'algos' is not defined"
     ]
    }
   ],
   "source": [
    "algos.run()"
   ]
  },
  {
   "cell_type": "code",
   "execution_count": 37,
   "metadata": {},
   "outputs": [
    {
     "name": "stdout",
     "output_type": "stream",
     "text": [
      "Object `algos.run` not found.\n"
     ]
    }
   ],
   "source": [
    "algos.run?"
   ]
  },
  {
   "cell_type": "code",
   "execution_count": 38,
   "metadata": {
    "tags": []
   },
   "outputs": [
    {
     "name": "stdout",
     "output_type": "stream",
     "text": [
      "Object `algos.run` not found.\n"
     ]
    }
   ],
   "source": [
    "algos.run??"
   ]
  },
  {
   "cell_type": "markdown",
   "metadata": {},
   "source": [
    "## Magics!"
   ]
  },
  {
   "cell_type": "markdown",
   "metadata": {},
   "source": [
    "Les *magics* permettent des opérations dans ipython. Ici on recharge automatiquement les scripts chargés quand ils sont modifiés. Voir [la doc](https://ipython.org/ipython-doc/3/config/extensions/autoreload.html), et essayer en modifiant algos.py"
   ]
  },
  {
   "cell_type": "code",
   "execution_count": 39,
   "metadata": {
    "tags": []
   },
   "outputs": [
    {
     "ename": "NameError",
     "evalue": "name 'algos' is not defined",
     "output_type": "error",
     "traceback": [
      "\u001b[0;31m---------------------------------------------------------------------------\u001b[0m",
      "\u001b[0;31mNameError\u001b[0m                                 Traceback (most recent call last)",
      "\u001b[0;32m<ipython-input-39-39059b62e7bf>\u001b[0m in \u001b[0;36m<module>\u001b[0;34m\u001b[0m\n\u001b[0;32m----> 1\u001b[0;31m \u001b[0malgos\u001b[0m\u001b[0;34m.\u001b[0m\u001b[0mrun\u001b[0m\u001b[0;34m(\u001b[0m\u001b[0;34m)\u001b[0m\u001b[0;34m\u001b[0m\u001b[0;34m\u001b[0m\u001b[0m\n\u001b[0m",
      "\u001b[0;31mNameError\u001b[0m: name 'algos' is not defined"
     ]
    }
   ],
   "source": [
    "algos.run()"
   ]
  },
  {
   "cell_type": "code",
   "execution_count": 40,
   "metadata": {},
   "outputs": [],
   "source": [
    "%load_ext autoreload\n",
    "%autoreload 2"
   ]
  },
  {
   "cell_type": "code",
   "execution_count": 41,
   "metadata": {
    "tags": []
   },
   "outputs": [
    {
     "ename": "NameError",
     "evalue": "name 'algos' is not defined",
     "output_type": "error",
     "traceback": [
      "\u001b[0;31m---------------------------------------------------------------------------\u001b[0m",
      "\u001b[0;31mNameError\u001b[0m                                 Traceback (most recent call last)",
      "\u001b[0;32m<ipython-input-41-39059b62e7bf>\u001b[0m in \u001b[0;36m<module>\u001b[0;34m\u001b[0m\n\u001b[0;32m----> 1\u001b[0;31m \u001b[0malgos\u001b[0m\u001b[0;34m.\u001b[0m\u001b[0mrun\u001b[0m\u001b[0;34m(\u001b[0m\u001b[0;34m)\u001b[0m\u001b[0;34m\u001b[0m\u001b[0;34m\u001b[0m\u001b[0m\n\u001b[0m",
      "\u001b[0;31mNameError\u001b[0m: name 'algos' is not defined"
     ]
    }
   ],
   "source": [
    "algos.run()"
   ]
  },
  {
   "cell_type": "markdown",
   "metadata": {},
   "source": [
    "On peut estimer la vitesse d'exécution d'un code... ou le profiler (voir le PDSH)"
   ]
  },
  {
   "cell_type": "code",
   "execution_count": 42,
   "metadata": {
    "tags": []
   },
   "outputs": [
    {
     "name": "stdout",
     "output_type": "stream",
     "text": [
      "2.03 ms ± 235 µs per loop (mean ± std. dev. of 7 runs, 100 loops each)\n"
     ]
    }
   ],
   "source": [
    "%timeit l = list(range(100000))"
   ]
  },
  {
   "cell_type": "code",
   "execution_count": 43,
   "metadata": {
    "tags": []
   },
   "outputs": [
    {
     "name": "stdout",
     "output_type": "stream",
     "text": [
      "72.6 µs ± 2.55 µs per loop (mean ± std. dev. of 7 runs, 10000 loops each)\n"
     ]
    }
   ],
   "source": [
    "import numpy as np\n",
    "%timeit l = np.arange(100000)"
   ]
  },
  {
   "cell_type": "markdown",
   "metadata": {},
   "source": [
    "# Listes et tableaux"
   ]
  },
  {
   "cell_type": "markdown",
   "metadata": {},
   "source": [
    "**<span style='color: red'>Activité</span>** Voir le chapitre 02.01-Understanding-Data-Types du livre de Jake VanderPlas."
   ]
  },
  {
   "cell_type": "markdown",
   "metadata": {},
   "source": [
    "## Listes Python\n",
    "\n",
    "- Les listes Python sont hétérogènes, non forcément continues en mémoire\n",
    "- le type est `list`.\n",
    "- un type est associé à une fonction de même type qui permet la conversion de type\n",
    "- la fonction `range` est un énumérateur : permet d'énumérer des entiers\n",
    "- les _list comprehensive_ sont une technique riche pour créer des listes\n",
    "- les opérateurs + et * joignent (concatènent) des listes (car les listes sont hétérogènes et pas des tables de valeurs numériques)\n",
    "\n",
    "Les listes sont écrites avec les crochets et les éléments séparés par des virgules"
   ]
  },
  {
   "cell_type": "markdown",
   "metadata": {},
   "source": [
    "**Question** : Faire une liste nommée `l` contenant un entier, une chaîne de caractères, un nombre décimal. Afficher le type de `l`."
   ]
  },
  {
   "cell_type": "code",
   "execution_count": 44,
   "metadata": {},
   "outputs": [
    {
     "data": {
      "text/plain": [
       "list"
      ]
     },
     "execution_count": 44,
     "metadata": {},
     "output_type": "execute_result"
    }
   ],
   "source": [
    "l = [24, 'abc', '3.14']\n",
    "type(l)"
   ]
  },
  {
   "cell_type": "markdown",
   "metadata": {},
   "source": [
    "La fonction `range` génère un **itérateur** qui permet de parcourir un ensemble. "
   ]
  },
  {
   "cell_type": "code",
   "execution_count": 45,
   "metadata": {},
   "outputs": [
    {
     "data": {
      "text/plain": [
       "range(0, 5)"
      ]
     },
     "execution_count": 45,
     "metadata": {},
     "output_type": "execute_result"
    }
   ],
   "source": [
    "range(5)"
   ]
  },
  {
   "cell_type": "markdown",
   "metadata": {},
   "source": [
    "**Question** : avec la conversion de type par la fonction `list` et avec la fonction `range`, faire une liste des entiers de 30 à 100 par pas de 5."
   ]
  },
  {
   "cell_type": "code",
   "execution_count": 46,
   "metadata": {},
   "outputs": [
    {
     "data": {
      "text/plain": [
       "[30, 35, 40, 45, 50, 55, 60, 65, 70, 75, 80, 85, 90, 95, 100]"
      ]
     },
     "execution_count": 46,
     "metadata": {},
     "output_type": "execute_result"
    }
   ],
   "source": [
    "list(range(30, 105, 5))"
   ]
  },
  {
   "cell_type": "markdown",
   "metadata": {},
   "source": [
    "Quelques exemples de *list_comprehensive* : "
   ]
  },
  {
   "cell_type": "code",
   "execution_count": 47,
   "metadata": {},
   "outputs": [
    {
     "data": {
      "text/plain": [
       "[int, str, str]"
      ]
     },
     "execution_count": 47,
     "metadata": {},
     "output_type": "execute_result"
    }
   ],
   "source": [
    "[type(e) for e in l]"
   ]
  },
  {
   "cell_type": "code",
   "execution_count": 48,
   "metadata": {},
   "outputs": [
    {
     "data": {
      "text/plain": [
       "[[0, 4],\n",
       " [0, 8],\n",
       " [0, 12],\n",
       " [0, 16],\n",
       " [1, 5],\n",
       " [1, 9],\n",
       " [1, 13],\n",
       " [1, 17],\n",
       " [2, 6],\n",
       " [2, 10],\n",
       " [2, 14],\n",
       " [2, 18],\n",
       " [3, 7],\n",
       " [3, 11],\n",
       " [3, 15],\n",
       " [3, 19],\n",
       " [4, 8],\n",
       " [4, 12],\n",
       " [4, 16],\n",
       " [4, 20],\n",
       " [5, 9],\n",
       " [5, 13],\n",
       " [5, 17],\n",
       " [5, 21],\n",
       " [6, 10],\n",
       " [6, 14],\n",
       " [6, 18],\n",
       " [6, 22],\n",
       " [7, 11],\n",
       " [7, 15],\n",
       " [7, 19],\n",
       " [7, 23],\n",
       " [8, 12],\n",
       " [8, 16],\n",
       " [8, 20],\n",
       " [8, 24],\n",
       " [9, 13],\n",
       " [9, 17],\n",
       " [9, 21],\n",
       " [9, 25]]"
      ]
     },
     "execution_count": 48,
     "metadata": {},
     "output_type": "execute_result"
    }
   ],
   "source": [
    "l2 = [[i, 2*j+i] for i in range (10) for j in range (2, 10, 2)]\n",
    "l2"
   ]
  },
  {
   "cell_type": "code",
   "execution_count": 49,
   "metadata": {},
   "outputs": [
    {
     "data": {
      "text/plain": [
       "['blue', 'red', 'red', 'blue', 'red', 'red', 'blue', 'red', 'red', 'blue']"
      ]
     },
     "execution_count": 49,
     "metadata": {},
     "output_type": "execute_result"
    }
   ],
   "source": [
    "['red' if t % 3 else 'blue' for t in range(10)]"
   ]
  },
  {
   "cell_type": "markdown",
   "metadata": {},
   "source": [
    "**Question** : avec cette technique construire la sous-liste de `l2` dont la 2e composante est impaire. Rappel l'opérateur % calcule un modulo (reste par la division entière. (12 % 2 vaut 0) ."
   ]
  },
  {
   "cell_type": "code",
   "execution_count": 50,
   "metadata": {},
   "outputs": [
    {
     "data": {
      "text/plain": [
       "[[1, 5],\n",
       " [1, 9],\n",
       " [1, 13],\n",
       " [1, 17],\n",
       " [3, 7],\n",
       " [3, 11],\n",
       " [3, 15],\n",
       " [3, 19],\n",
       " [5, 9],\n",
       " [5, 13],\n",
       " [5, 17],\n",
       " [5, 21],\n",
       " [7, 11],\n",
       " [7, 15],\n",
       " [7, 19],\n",
       " [7, 23],\n",
       " [9, 13],\n",
       " [9, 17],\n",
       " [9, 21],\n",
       " [9, 25]]"
      ]
     },
     "execution_count": 50,
     "metadata": {},
     "output_type": "execute_result"
    }
   ],
   "source": [
    "l2_odds_only = [e for e in l2 if e[1] % 2]\n",
    "l2_odds_only"
   ]
  },
  {
   "cell_type": "markdown",
   "metadata": {},
   "source": [
    "**Question** : avec la technique des *list_comprehensive*, faire une liste de listes contenant les tables de multiplication pour tous les entiers de 1 à 10."
   ]
  },
  {
   "cell_type": "code",
   "execution_count": 51,
   "metadata": {},
   "outputs": [
    {
     "data": {
      "text/plain": [
       "[[1, 1, 1],\n",
       " [1, 2, 2],\n",
       " [1, 3, 3],\n",
       " [1, 4, 4],\n",
       " [1, 5, 5],\n",
       " [1, 6, 6],\n",
       " [1, 7, 7],\n",
       " [1, 8, 8],\n",
       " [1, 9, 9],\n",
       " [1, 10, 10],\n",
       " [2, 1, 2],\n",
       " [2, 2, 4],\n",
       " [2, 3, 6],\n",
       " [2, 4, 8],\n",
       " [2, 5, 10],\n",
       " [2, 6, 12],\n",
       " [2, 7, 14],\n",
       " [2, 8, 16],\n",
       " [2, 9, 18],\n",
       " [2, 10, 20],\n",
       " [3, 1, 3],\n",
       " [3, 2, 6],\n",
       " [3, 3, 9],\n",
       " [3, 4, 12],\n",
       " [3, 5, 15],\n",
       " [3, 6, 18],\n",
       " [3, 7, 21],\n",
       " [3, 8, 24],\n",
       " [3, 9, 27],\n",
       " [3, 10, 30],\n",
       " [4, 1, 4],\n",
       " [4, 2, 8],\n",
       " [4, 3, 12],\n",
       " [4, 4, 16],\n",
       " [4, 5, 20],\n",
       " [4, 6, 24],\n",
       " [4, 7, 28],\n",
       " [4, 8, 32],\n",
       " [4, 9, 36],\n",
       " [4, 10, 40],\n",
       " [5, 1, 5],\n",
       " [5, 2, 10],\n",
       " [5, 3, 15],\n",
       " [5, 4, 20],\n",
       " [5, 5, 25],\n",
       " [5, 6, 30],\n",
       " [5, 7, 35],\n",
       " [5, 8, 40],\n",
       " [5, 9, 45],\n",
       " [5, 10, 50],\n",
       " [6, 1, 6],\n",
       " [6, 2, 12],\n",
       " [6, 3, 18],\n",
       " [6, 4, 24],\n",
       " [6, 5, 30],\n",
       " [6, 6, 36],\n",
       " [6, 7, 42],\n",
       " [6, 8, 48],\n",
       " [6, 9, 54],\n",
       " [6, 10, 60],\n",
       " [7, 1, 7],\n",
       " [7, 2, 14],\n",
       " [7, 3, 21],\n",
       " [7, 4, 28],\n",
       " [7, 5, 35],\n",
       " [7, 6, 42],\n",
       " [7, 7, 49],\n",
       " [7, 8, 56],\n",
       " [7, 9, 63],\n",
       " [7, 10, 70],\n",
       " [8, 1, 8],\n",
       " [8, 2, 16],\n",
       " [8, 3, 24],\n",
       " [8, 4, 32],\n",
       " [8, 5, 40],\n",
       " [8, 6, 48],\n",
       " [8, 7, 56],\n",
       " [8, 8, 64],\n",
       " [8, 9, 72],\n",
       " [8, 10, 80],\n",
       " [9, 1, 9],\n",
       " [9, 2, 18],\n",
       " [9, 3, 27],\n",
       " [9, 4, 36],\n",
       " [9, 5, 45],\n",
       " [9, 6, 54],\n",
       " [9, 7, 63],\n",
       " [9, 8, 72],\n",
       " [9, 9, 81],\n",
       " [9, 10, 90],\n",
       " [10, 1, 10],\n",
       " [10, 2, 20],\n",
       " [10, 3, 30],\n",
       " [10, 4, 40],\n",
       " [10, 5, 50],\n",
       " [10, 6, 60],\n",
       " [10, 7, 70],\n",
       " [10, 8, 80],\n",
       " [10, 9, 90],\n",
       " [10, 10, 100]]"
      ]
     },
     "execution_count": 51,
     "metadata": {},
     "output_type": "execute_result"
    }
   ],
   "source": [
    "tables_de_multiplication = [[a, b, a*b] for a in range(1, 11) for b in range(1, 11)]\n",
    "tables_de_multiplication"
   ]
  },
  {
   "cell_type": "markdown",
   "metadata": {},
   "source": [
    "Observez le fonctionnement des opérateurs * et + sur les listes..."
   ]
  },
  {
   "cell_type": "code",
   "execution_count": 52,
   "metadata": {},
   "outputs": [
    {
     "data": {
      "text/plain": [
       "[1, 2, 3, 4, 5, 6]"
      ]
     },
     "execution_count": 52,
     "metadata": {},
     "output_type": "execute_result"
    }
   ],
   "source": [
    "[1, 2, 3] + [4, 5, 6]"
   ]
  },
  {
   "cell_type": "code",
   "execution_count": 53,
   "metadata": {},
   "outputs": [
    {
     "data": {
      "text/plain": [
       "[1, 2, 1, 2, 1, 2]"
      ]
     },
     "execution_count": 53,
     "metadata": {},
     "output_type": "execute_result"
    }
   ],
   "source": [
    "[1, 2] * 3"
   ]
  },
  {
   "cell_type": "markdown",
   "metadata": {},
   "source": [
    "Pour plus d'infos sur les listes, voir la doc Python, et l'aide sur les listes...\n",
    "\n",
    "À l'aide des fonctions `dir` ou `help` regarder les méthodes (fonctions) qui s'appliquent aux listes. Essayez d'utiliser au moins deux méthodes."
   ]
  },
  {
   "cell_type": "code",
   "execution_count": 54,
   "metadata": {},
   "outputs": [
    {
     "data": {
      "text/plain": [
       "['__add__',\n",
       " '__class__',\n",
       " '__contains__',\n",
       " '__delattr__',\n",
       " '__delitem__',\n",
       " '__dir__',\n",
       " '__doc__',\n",
       " '__eq__',\n",
       " '__format__',\n",
       " '__ge__',\n",
       " '__getattribute__',\n",
       " '__getitem__',\n",
       " '__gt__',\n",
       " '__hash__',\n",
       " '__iadd__',\n",
       " '__imul__',\n",
       " '__init__',\n",
       " '__init_subclass__',\n",
       " '__iter__',\n",
       " '__le__',\n",
       " '__len__',\n",
       " '__lt__',\n",
       " '__mul__',\n",
       " '__ne__',\n",
       " '__new__',\n",
       " '__reduce__',\n",
       " '__reduce_ex__',\n",
       " '__repr__',\n",
       " '__reversed__',\n",
       " '__rmul__',\n",
       " '__setattr__',\n",
       " '__setitem__',\n",
       " '__sizeof__',\n",
       " '__str__',\n",
       " '__subclasshook__',\n",
       " 'append',\n",
       " 'clear',\n",
       " 'copy',\n",
       " 'count',\n",
       " 'extend',\n",
       " 'index',\n",
       " 'insert',\n",
       " 'pop',\n",
       " 'remove',\n",
       " 'reverse',\n",
       " 'sort']"
      ]
     },
     "execution_count": 54,
     "metadata": {},
     "output_type": "execute_result"
    }
   ],
   "source": [
    "dir(list)"
   ]
  },
  {
   "cell_type": "code",
   "execution_count": 55,
   "metadata": {
    "tags": []
   },
   "outputs": [
    {
     "name": "stdout",
     "output_type": "stream",
     "text": [
      "Help on class list in module builtins:\n",
      "\n",
      "class list(object)\n",
      " |  list(iterable=(), /)\n",
      " |  \n",
      " |  Built-in mutable sequence.\n",
      " |  \n",
      " |  If no argument is given, the constructor creates a new empty list.\n",
      " |  The argument must be an iterable if specified.\n",
      " |  \n",
      " |  Methods defined here:\n",
      " |  \n",
      " |  __add__(self, value, /)\n",
      " |      Return self+value.\n",
      " |  \n",
      " |  __contains__(self, key, /)\n",
      " |      Return key in self.\n",
      " |  \n",
      " |  __delitem__(self, key, /)\n",
      " |      Delete self[key].\n",
      " |  \n",
      " |  __eq__(self, value, /)\n",
      " |      Return self==value.\n",
      " |  \n",
      " |  __ge__(self, value, /)\n",
      " |      Return self>=value.\n",
      " |  \n",
      " |  __getattribute__(self, name, /)\n",
      " |      Return getattr(self, name).\n",
      " |  \n",
      " |  __getitem__(...)\n",
      " |      x.__getitem__(y) <==> x[y]\n",
      " |  \n",
      " |  __gt__(self, value, /)\n",
      " |      Return self>value.\n",
      " |  \n",
      " |  __iadd__(self, value, /)\n",
      " |      Implement self+=value.\n",
      " |  \n",
      " |  __imul__(self, value, /)\n",
      " |      Implement self*=value.\n",
      " |  \n",
      " |  __init__(self, /, *args, **kwargs)\n",
      " |      Initialize self.  See help(type(self)) for accurate signature.\n",
      " |  \n",
      " |  __iter__(self, /)\n",
      " |      Implement iter(self).\n",
      " |  \n",
      " |  __le__(self, value, /)\n",
      " |      Return self<=value.\n",
      " |  \n",
      " |  __len__(self, /)\n",
      " |      Return len(self).\n",
      " |  \n",
      " |  __lt__(self, value, /)\n",
      " |      Return self<value.\n",
      " |  \n",
      " |  __mul__(self, value, /)\n",
      " |      Return self*value.\n",
      " |  \n",
      " |  __ne__(self, value, /)\n",
      " |      Return self!=value.\n",
      " |  \n",
      " |  __repr__(self, /)\n",
      " |      Return repr(self).\n",
      " |  \n",
      " |  __reversed__(self, /)\n",
      " |      Return a reverse iterator over the list.\n",
      " |  \n",
      " |  __rmul__(self, value, /)\n",
      " |      Return value*self.\n",
      " |  \n",
      " |  __setitem__(self, key, value, /)\n",
      " |      Set self[key] to value.\n",
      " |  \n",
      " |  __sizeof__(self, /)\n",
      " |      Return the size of the list in memory, in bytes.\n",
      " |  \n",
      " |  append(self, object, /)\n",
      " |      Append object to the end of the list.\n",
      " |  \n",
      " |  clear(self, /)\n",
      " |      Remove all items from list.\n",
      " |  \n",
      " |  copy(self, /)\n",
      " |      Return a shallow copy of the list.\n",
      " |  \n",
      " |  count(self, value, /)\n",
      " |      Return number of occurrences of value.\n",
      " |  \n",
      " |  extend(self, iterable, /)\n",
      " |      Extend list by appending elements from the iterable.\n",
      " |  \n",
      " |  index(self, value, start=0, stop=9223372036854775807, /)\n",
      " |      Return first index of value.\n",
      " |      \n",
      " |      Raises ValueError if the value is not present.\n",
      " |  \n",
      " |  insert(self, index, object, /)\n",
      " |      Insert object before index.\n",
      " |  \n",
      " |  pop(self, index=-1, /)\n",
      " |      Remove and return item at index (default last).\n",
      " |      \n",
      " |      Raises IndexError if list is empty or index is out of range.\n",
      " |  \n",
      " |  remove(self, value, /)\n",
      " |      Remove first occurrence of value.\n",
      " |      \n",
      " |      Raises ValueError if the value is not present.\n",
      " |  \n",
      " |  reverse(self, /)\n",
      " |      Reverse *IN PLACE*.\n",
      " |  \n",
      " |  sort(self, /, *, key=None, reverse=False)\n",
      " |      Sort the list in ascending order and return None.\n",
      " |      \n",
      " |      The sort is in-place (i.e. the list itself is modified) and stable (i.e. the\n",
      " |      order of two equal elements is maintained).\n",
      " |      \n",
      " |      If a key function is given, apply it once to each list item and sort them,\n",
      " |      ascending or descending, according to their function values.\n",
      " |      \n",
      " |      The reverse flag can be set to sort in descending order.\n",
      " |  \n",
      " |  ----------------------------------------------------------------------\n",
      " |  Static methods defined here:\n",
      " |  \n",
      " |  __new__(*args, **kwargs) from builtins.type\n",
      " |      Create and return a new object.  See help(type) for accurate signature.\n",
      " |  \n",
      " |  ----------------------------------------------------------------------\n",
      " |  Data and other attributes defined here:\n",
      " |  \n",
      " |  __hash__ = None\n",
      "\n"
     ]
    }
   ],
   "source": [
    "help(list)"
   ]
  },
  {
   "cell_type": "markdown",
   "metadata": {},
   "source": [
    "## Les numpy arrays"
   ]
  },
  {
   "cell_type": "markdown",
   "metadata": {},
   "source": [
    "Les `array`s de numpy sont homogènes (données toutes de même type), continues en mémoire, ce qui permet d'être très rapide (grâce à l'arithmétique sur les adresses mémoire)."
   ]
  },
  {
   "cell_type": "code",
   "execution_count": 56,
   "metadata": {},
   "outputs": [],
   "source": [
    "import numpy as np"
   ]
  },
  {
   "cell_type": "markdown",
   "metadata": {},
   "source": [
    "Je commence par fixer une graine pour la reproductibilité..."
   ]
  },
  {
   "cell_type": "code",
   "execution_count": 57,
   "metadata": {},
   "outputs": [],
   "source": [
    "np.random.seed(42) "
   ]
  },
  {
   "cell_type": "code",
   "execution_count": 58,
   "metadata": {},
   "outputs": [
    {
     "data": {
      "text/plain": [
       "array([1.5, 4. , 6. ])"
      ]
     },
     "execution_count": 58,
     "metadata": {},
     "output_type": "execute_result"
    }
   ],
   "source": [
    "ar1 = np.array([1.5, 4, 6])\n",
    "ar1"
   ]
  },
  {
   "cell_type": "markdown",
   "metadata": {},
   "source": [
    "**Question** Observez les dimensions de ce `array` à l'aide de `shape` et le type de contenu à l'aide de `dtype`."
   ]
  },
  {
   "cell_type": "code",
   "execution_count": 59,
   "metadata": {},
   "outputs": [
    {
     "data": {
      "text/plain": [
       "(3,)"
      ]
     },
     "execution_count": 59,
     "metadata": {},
     "output_type": "execute_result"
    }
   ],
   "source": [
    "ar1.shape"
   ]
  },
  {
   "cell_type": "code",
   "execution_count": 60,
   "metadata": {},
   "outputs": [
    {
     "data": {
      "text/plain": [
       "dtype('float64')"
      ]
     },
     "execution_count": 60,
     "metadata": {},
     "output_type": "execute_result"
    }
   ],
   "source": [
    "ar1.dtype"
   ]
  },
  {
   "cell_type": "markdown",
   "metadata": {},
   "source": [
    "On peut construire un `array` de numpy à partir de liste. Observez notamment la conversion de type appliquée pour obtenir un ensemble homogène."
   ]
  },
  {
   "cell_type": "code",
   "execution_count": 61,
   "metadata": {},
   "outputs": [
    {
     "data": {
      "text/plain": [
       "array(['24', 'abc', '3.14'], dtype='<U21')"
      ]
     },
     "execution_count": 61,
     "metadata": {},
     "output_type": "execute_result"
    }
   ],
   "source": [
    "np.array(l)"
   ]
  },
  {
   "cell_type": "code",
   "execution_count": 62,
   "metadata": {},
   "outputs": [
    {
     "data": {
      "text/plain": [
       "array([[ 0,  4],\n",
       "       [ 0,  8],\n",
       "       [ 0, 12],\n",
       "       [ 0, 16],\n",
       "       [ 1,  5],\n",
       "       [ 1,  9],\n",
       "       [ 1, 13],\n",
       "       [ 1, 17],\n",
       "       [ 2,  6],\n",
       "       [ 2, 10],\n",
       "       [ 2, 14],\n",
       "       [ 2, 18],\n",
       "       [ 3,  7],\n",
       "       [ 3, 11],\n",
       "       [ 3, 15],\n",
       "       [ 3, 19],\n",
       "       [ 4,  8],\n",
       "       [ 4, 12],\n",
       "       [ 4, 16],\n",
       "       [ 4, 20],\n",
       "       [ 5,  9],\n",
       "       [ 5, 13],\n",
       "       [ 5, 17],\n",
       "       [ 5, 21],\n",
       "       [ 6, 10],\n",
       "       [ 6, 14],\n",
       "       [ 6, 18],\n",
       "       [ 6, 22],\n",
       "       [ 7, 11],\n",
       "       [ 7, 15],\n",
       "       [ 7, 19],\n",
       "       [ 7, 23],\n",
       "       [ 8, 12],\n",
       "       [ 8, 16],\n",
       "       [ 8, 20],\n",
       "       [ 8, 24],\n",
       "       [ 9, 13],\n",
       "       [ 9, 17],\n",
       "       [ 9, 21],\n",
       "       [ 9, 25]])"
      ]
     },
     "execution_count": 62,
     "metadata": {},
     "output_type": "execute_result"
    }
   ],
   "source": [
    "ar2 = np.array(l2)\n",
    "ar2"
   ]
  },
  {
   "cell_type": "code",
   "execution_count": 63,
   "metadata": {},
   "outputs": [
    {
     "data": {
      "text/plain": [
       "dtype('int64')"
      ]
     },
     "execution_count": 63,
     "metadata": {},
     "output_type": "execute_result"
    }
   ],
   "source": [
    "ar2.dtype"
   ]
  },
  {
   "cell_type": "markdown",
   "metadata": {},
   "source": [
    "## Tranches, redimensionner, stacker, ...\n",
    "\n",
    "**<span style='color: red'>Activité</span>** On lit le notebook 02.02-The-Basics-Of-NumPy-Arrays."
   ]
  },
  {
   "cell_type": "markdown",
   "metadata": {},
   "source": [
    "### Slicing ou tranches"
   ]
  },
  {
   "cell_type": "markdown",
   "metadata": {},
   "source": [
    "En python les tranches font une copie de surface, en numpy il n'y a pas de copie. C'est très important pour la gestion de la mémoire avec les grands jeux de données."
   ]
  },
  {
   "cell_type": "code",
   "execution_count": 64,
   "metadata": {},
   "outputs": [
    {
     "data": {
      "text/plain": [
       "[1.5, 4]"
      ]
     },
     "execution_count": 64,
     "metadata": {},
     "output_type": "execute_result"
    }
   ],
   "source": [
    "l1 = [1.5, 4, 6]\n",
    "sl1 = l1[0:2]\n",
    "sl1"
   ]
  },
  {
   "cell_type": "code",
   "execution_count": 65,
   "metadata": {},
   "outputs": [
    {
     "data": {
      "text/plain": [
       "array([1.5, 4. ])"
      ]
     },
     "execution_count": 65,
     "metadata": {},
     "output_type": "execute_result"
    }
   ],
   "source": [
    "ar1_sl1 = ar1[0:2]\n",
    "ar1_sl1"
   ]
  },
  {
   "cell_type": "code",
   "execution_count": 66,
   "metadata": {},
   "outputs": [],
   "source": [
    "ar1_sl1[0] = 12\n",
    "sl1[0] = 12"
   ]
  },
  {
   "cell_type": "code",
   "execution_count": 67,
   "metadata": {},
   "outputs": [
    {
     "data": {
      "text/plain": [
       "(array([12.,  4.]), [12, 4])"
      ]
     },
     "execution_count": 67,
     "metadata": {},
     "output_type": "execute_result"
    }
   ],
   "source": [
    "ar1_sl1, sl1"
   ]
  },
  {
   "cell_type": "code",
   "execution_count": 68,
   "metadata": {},
   "outputs": [
    {
     "data": {
      "text/plain": [
       "(array([12.,  4.,  6.]), [1.5, 4, 6])"
      ]
     },
     "execution_count": 68,
     "metadata": {},
     "output_type": "execute_result"
    }
   ],
   "source": [
    "ar1, l1"
   ]
  },
  {
   "cell_type": "markdown",
   "metadata": {},
   "source": [
    "Les accès aux indices sont plus simples en numpy! (moins de crochets)"
   ]
  },
  {
   "cell_type": "code",
   "execution_count": 69,
   "metadata": {
    "tags": []
   },
   "outputs": [
    {
     "name": "stdout",
     "output_type": "stream",
     "text": [
      "[0 4]\n",
      "[ 4  8 12 16  5  9 13 17  6 10 14 18  7 11 15 19  8 12 16 20  9 13 17 21\n",
      " 10 14 18 22 11 15 19 23 12 16 20 24 13 17 21 25]\n",
      "4\n"
     ]
    }
   ],
   "source": [
    "print(ar2[0])  \n",
    "print(ar2[:, 1]) \n",
    "print(ar2[0, 1])  "
   ]
  },
  {
   "cell_type": "markdown",
   "metadata": {},
   "source": [
    "## Copy"
   ]
  },
  {
   "cell_type": "markdown",
   "metadata": {},
   "source": [
    "La copie d'une liste `list` est en surface, celle d'un numpy `array` c'est en profondeur..."
   ]
  },
  {
   "cell_type": "code",
   "execution_count": 70,
   "metadata": {},
   "outputs": [
    {
     "data": {
      "text/plain": [
       "(numpy.ndarray, list)"
      ]
     },
     "execution_count": 70,
     "metadata": {},
     "output_type": "execute_result"
    }
   ],
   "source": [
    "ar2_copy = ar2.copy()\n",
    "l2_copy = l2.copy()\n",
    "type(ar2), type(l2)"
   ]
  },
  {
   "cell_type": "code",
   "execution_count": 71,
   "metadata": {},
   "outputs": [],
   "source": [
    "ar2_copy[0][0] = 12\n",
    "l2_copy[0][0] = 12"
   ]
  },
  {
   "cell_type": "code",
   "execution_count": 72,
   "metadata": {},
   "outputs": [
    {
     "data": {
      "text/plain": [
       "(0, 12)"
      ]
     },
     "execution_count": 72,
     "metadata": {},
     "output_type": "execute_result"
    }
   ],
   "source": [
    "ar2[0][0], l2[0][0]"
   ]
  },
  {
   "cell_type": "markdown",
   "metadata": {},
   "source": [
    "### Opérateurs * + / - ..."
   ]
  },
  {
   "cell_type": "code",
   "execution_count": 73,
   "metadata": {},
   "outputs": [
    {
     "data": {
      "text/plain": [
       "array([[1., 0., 0., 0.],\n",
       "       [0., 1., 0., 0.],\n",
       "       [0., 0., 1., 0.],\n",
       "       [0., 0., 0., 1.]])"
      ]
     },
     "execution_count": 73,
     "metadata": {},
     "output_type": "execute_result"
    }
   ],
   "source": [
    "np.eye(4)"
   ]
  },
  {
   "cell_type": "code",
   "execution_count": 74,
   "metadata": {},
   "outputs": [
    {
     "data": {
      "text/plain": [
       "array([[1., 1., 1., 1.],\n",
       "       [1., 1., 1., 1.],\n",
       "       [1., 1., 1., 1.],\n",
       "       [1., 1., 1., 1.]])"
      ]
     },
     "execution_count": 74,
     "metadata": {},
     "output_type": "execute_result"
    }
   ],
   "source": [
    "np.ones((4,4))"
   ]
  },
  {
   "cell_type": "code",
   "execution_count": 75,
   "metadata": {},
   "outputs": [
    {
     "data": {
      "text/plain": [
       "array([[ 0., -1., -1.],\n",
       "       [-1.,  0., -1.],\n",
       "       [-1., -1.,  0.]])"
      ]
     },
     "execution_count": 75,
     "metadata": {},
     "output_type": "execute_result"
    }
   ],
   "source": [
    "np.eye(3) - np.ones((3,3))"
   ]
  },
  {
   "cell_type": "code",
   "execution_count": 76,
   "metadata": {},
   "outputs": [
    {
     "data": {
      "text/plain": [
       "array([[1., 0., 0.],\n",
       "       [0., 1., 0.],\n",
       "       [0., 0., 1.]])"
      ]
     },
     "execution_count": 76,
     "metadata": {},
     "output_type": "execute_result"
    }
   ],
   "source": [
    "np.eye(3) * np.ones((3,3)) "
   ]
  },
  {
   "cell_type": "code",
   "execution_count": 77,
   "metadata": {},
   "outputs": [
    {
     "data": {
      "text/plain": [
       "array([[4., 4., 4.],\n",
       "       [4., 4., 4.],\n",
       "       [4., 4., 4.]])"
      ]
     },
     "execution_count": 77,
     "metadata": {},
     "output_type": "execute_result"
    }
   ],
   "source": [
    "3 * np.ones((3,3)) + 1"
   ]
  },
  {
   "cell_type": "code",
   "execution_count": 78,
   "metadata": {},
   "outputs": [
    {
     "data": {
      "text/plain": [
       "array([[0.5, 1. , 1. ],\n",
       "       [1. , 0.5, 1. ],\n",
       "       [1. , 1. , 0.5]])"
      ]
     },
     "execution_count": 78,
     "metadata": {},
     "output_type": "execute_result"
    }
   ],
   "source": [
    "np.ones((3,3)) / (1+np.eye(3))"
   ]
  },
  {
   "cell_type": "markdown",
   "metadata": {},
   "source": [
    "### Redimensionnement\n",
    "\n",
    "- `ravel` vue 1-D \n",
    "- `flatten` copie 1-D.\n",
    "- `reshape` redimensionnement\n",
    "- `transpose` transposition.\n",
    "- `np.newaxis` ajout d'une dimension vide (parfois plus intéressant qu'un reshape)."
   ]
  },
  {
   "cell_type": "code",
   "execution_count": 79,
   "metadata": {},
   "outputs": [
    {
     "data": {
      "text/plain": [
       "array([ 0,  4,  0,  8,  0, 12,  0, 16,  1,  5,  1,  9,  1, 13,  1, 17,  2,\n",
       "        6,  2, 10,  2, 14,  2, 18,  3,  7,  3, 11,  3, 15,  3, 19,  4,  8,\n",
       "        4, 12,  4, 16,  4, 20,  5,  9,  5, 13,  5, 17,  5, 21,  6, 10,  6,\n",
       "       14,  6, 18,  6, 22,  7, 11,  7, 15,  7, 19,  7, 23,  8, 12,  8, 16,\n",
       "        8, 20,  8, 24,  9, 13,  9, 17,  9, 21,  9, 25])"
      ]
     },
     "execution_count": 79,
     "metadata": {},
     "output_type": "execute_result"
    }
   ],
   "source": [
    "ar2.ravel()"
   ]
  },
  {
   "cell_type": "code",
   "execution_count": 80,
   "metadata": {},
   "outputs": [
    {
     "data": {
      "text/plain": [
       "array([ 0,  4,  0,  8,  0, 12,  0, 16,  1,  5,  1,  9,  1, 13,  1, 17,  2,\n",
       "        6,  2, 10,  2, 14,  2, 18,  3,  7,  3, 11,  3, 15,  3, 19,  4,  8,\n",
       "        4, 12,  4, 16,  4, 20,  5,  9,  5, 13,  5, 17,  5, 21,  6, 10,  6,\n",
       "       14,  6, 18,  6, 22,  7, 11,  7, 15,  7, 19,  7, 23,  8, 12,  8, 16,\n",
       "        8, 20,  8, 24,  9, 13,  9, 17,  9, 21,  9, 25])"
      ]
     },
     "execution_count": 80,
     "metadata": {},
     "output_type": "execute_result"
    }
   ],
   "source": [
    "new_ar2 = ar2.flatten()\n",
    "new_ar2"
   ]
  },
  {
   "cell_type": "code",
   "execution_count": 81,
   "metadata": {},
   "outputs": [
    {
     "data": {
      "text/plain": [
       "array([[ 0,  4,  0,  8,  0, 12,  0, 16],\n",
       "       [ 1,  5,  1,  9,  1, 13,  1, 17],\n",
       "       [ 2,  6,  2, 10,  2, 14,  2, 18],\n",
       "       [ 3,  7,  3, 11,  3, 15,  3, 19],\n",
       "       [ 4,  8,  4, 12,  4, 16,  4, 20],\n",
       "       [ 5,  9,  5, 13,  5, 17,  5, 21],\n",
       "       [ 6, 10,  6, 14,  6, 18,  6, 22],\n",
       "       [ 7, 11,  7, 15,  7, 19,  7, 23],\n",
       "       [ 8, 12,  8, 16,  8, 20,  8, 24],\n",
       "       [ 9, 13,  9, 17,  9, 21,  9, 25]])"
      ]
     },
     "execution_count": 81,
     "metadata": {},
     "output_type": "execute_result"
    }
   ],
   "source": [
    "new_ar2.reshape((10,8))"
   ]
  },
  {
   "cell_type": "code",
   "execution_count": 82,
   "metadata": {},
   "outputs": [
    {
     "data": {
      "text/plain": [
       "array([ 0,  4,  0,  8,  0, 12,  0, 16,  1,  5,  1,  9,  1, 13,  1, 17,  2,\n",
       "        6,  2, 10,  2, 14,  2, 18,  3,  7,  3, 11,  3, 15,  3, 19,  4,  8,\n",
       "        4, 12,  4, 16,  4, 20,  5,  9,  5, 13,  5, 17,  5, 21,  6, 10,  6,\n",
       "       14,  6, 18,  6, 22,  7, 11,  7, 15,  7, 19,  7, 23,  8, 12,  8, 16,\n",
       "        8, 20,  8, 24,  9, 13,  9, 17,  9, 21,  9, 25])"
      ]
     },
     "execution_count": 82,
     "metadata": {},
     "output_type": "execute_result"
    }
   ],
   "source": [
    "new_ar2"
   ]
  },
  {
   "cell_type": "code",
   "execution_count": 83,
   "metadata": {},
   "outputs": [
    {
     "data": {
      "text/plain": [
       "array([[ 0,  4,  0,  8,  0, 12,  0, 16,  1,  5,  1,  9,  1, 13,  1, 17,\n",
       "         2,  6,  2, 10,  2, 14,  2, 18,  3,  7,  3, 11,  3, 15,  3, 19,\n",
       "         4,  8,  4, 12,  4, 16,  4, 20,  5,  9,  5, 13,  5, 17,  5, 21,\n",
       "         6, 10,  6, 14,  6, 18,  6, 22,  7, 11,  7, 15,  7, 19,  7, 23,\n",
       "         8, 12,  8, 16,  8, 20,  8, 24,  9, 13,  9, 17,  9, 21,  9, 25]])"
      ]
     },
     "execution_count": 83,
     "metadata": {},
     "output_type": "execute_result"
    }
   ],
   "source": [
    "new_ar2[np.newaxis,:]"
   ]
  },
  {
   "cell_type": "code",
   "execution_count": 84,
   "metadata": {},
   "outputs": [
    {
     "data": {
      "text/plain": [
       "array([[ 0],\n",
       "       [ 4],\n",
       "       [ 0],\n",
       "       [ 8],\n",
       "       [ 0],\n",
       "       [12],\n",
       "       [ 0],\n",
       "       [16],\n",
       "       [ 1],\n",
       "       [ 5],\n",
       "       [ 1],\n",
       "       [ 9],\n",
       "       [ 1],\n",
       "       [13],\n",
       "       [ 1],\n",
       "       [17],\n",
       "       [ 2],\n",
       "       [ 6],\n",
       "       [ 2],\n",
       "       [10],\n",
       "       [ 2],\n",
       "       [14],\n",
       "       [ 2],\n",
       "       [18],\n",
       "       [ 3],\n",
       "       [ 7],\n",
       "       [ 3],\n",
       "       [11],\n",
       "       [ 3],\n",
       "       [15],\n",
       "       [ 3],\n",
       "       [19],\n",
       "       [ 4],\n",
       "       [ 8],\n",
       "       [ 4],\n",
       "       [12],\n",
       "       [ 4],\n",
       "       [16],\n",
       "       [ 4],\n",
       "       [20],\n",
       "       [ 5],\n",
       "       [ 9],\n",
       "       [ 5],\n",
       "       [13],\n",
       "       [ 5],\n",
       "       [17],\n",
       "       [ 5],\n",
       "       [21],\n",
       "       [ 6],\n",
       "       [10],\n",
       "       [ 6],\n",
       "       [14],\n",
       "       [ 6],\n",
       "       [18],\n",
       "       [ 6],\n",
       "       [22],\n",
       "       [ 7],\n",
       "       [11],\n",
       "       [ 7],\n",
       "       [15],\n",
       "       [ 7],\n",
       "       [19],\n",
       "       [ 7],\n",
       "       [23],\n",
       "       [ 8],\n",
       "       [12],\n",
       "       [ 8],\n",
       "       [16],\n",
       "       [ 8],\n",
       "       [20],\n",
       "       [ 8],\n",
       "       [24],\n",
       "       [ 9],\n",
       "       [13],\n",
       "       [ 9],\n",
       "       [17],\n",
       "       [ 9],\n",
       "       [21],\n",
       "       [ 9],\n",
       "       [25]])"
      ]
     },
     "execution_count": 84,
     "metadata": {},
     "output_type": "execute_result"
    }
   ],
   "source": [
    "new_ar2[:,np.newaxis]"
   ]
  },
  {
   "cell_type": "code",
   "execution_count": 85,
   "metadata": {
    "tags": []
   },
   "outputs": [
    {
     "name": "stdout",
     "output_type": "stream",
     "text": [
      "(80,)\n"
     ]
    },
    {
     "data": {
      "text/plain": [
       "array([[ 0,  4,  0,  8,  0, 12,  0, 16,  1,  5],\n",
       "       [ 1,  9,  1, 13,  1, 17,  2,  6,  2, 10],\n",
       "       [ 2, 14,  2, 18,  3,  7,  3, 11,  3, 15],\n",
       "       [ 3, 19,  4,  8,  4, 12,  4, 16,  4, 20],\n",
       "       [ 5,  9,  5, 13,  5, 17,  5, 21,  6, 10],\n",
       "       [ 6, 14,  6, 18,  6, 22,  7, 11,  7, 15],\n",
       "       [ 7, 19,  7, 23,  8, 12,  8, 16,  8, 20],\n",
       "       [ 8, 24,  9, 13,  9, 17,  9, 21,  9, 25]])"
      ]
     },
     "execution_count": 85,
     "metadata": {},
     "output_type": "execute_result"
    }
   ],
   "source": [
    "print(new_ar2.shape)\n",
    "new_ar2.reshape((-1,10))  # -1 est remplacé par la valeur qu'il faut!"
   ]
  },
  {
   "cell_type": "markdown",
   "metadata": {},
   "source": [
    "### Empiler des arrays"
   ]
  },
  {
   "cell_type": "code",
   "execution_count": 86,
   "metadata": {},
   "outputs": [],
   "source": [
    "m1 = np.ones((3,1))\n",
    "m2 = np.full((3,2), 2)"
   ]
  },
  {
   "cell_type": "code",
   "execution_count": 87,
   "metadata": {},
   "outputs": [
    {
     "data": {
      "text/plain": [
       "array([[1., 2., 2.],\n",
       "       [1., 2., 2.],\n",
       "       [1., 2., 2.]])"
      ]
     },
     "execution_count": 87,
     "metadata": {},
     "output_type": "execute_result"
    }
   ],
   "source": [
    "np.hstack((m1, m2))"
   ]
  },
  {
   "cell_type": "code",
   "execution_count": 88,
   "metadata": {},
   "outputs": [
    {
     "data": {
      "text/plain": [
       "array([[1., 1., 1.],\n",
       "       [2., 2., 2.],\n",
       "       [2., 2., 2.]])"
      ]
     },
     "execution_count": 88,
     "metadata": {},
     "output_type": "execute_result"
    }
   ],
   "source": [
    "np.vstack([m1.T, m2.T])"
   ]
  },
  {
   "cell_type": "code",
   "execution_count": 89,
   "metadata": {},
   "outputs": [
    {
     "data": {
      "text/plain": [
       "array([[1., 1., 1.],\n",
       "       [2., 2., 2.],\n",
       "       [2., 2., 2.]])"
      ]
     },
     "execution_count": 89,
     "metadata": {},
     "output_type": "execute_result"
    }
   ],
   "source": [
    "np.concatenate((m1.T, m2.T))"
   ]
  },
  {
   "cell_type": "code",
   "execution_count": 90,
   "metadata": {},
   "outputs": [
    {
     "data": {
      "text/plain": [
       "array([[1., 2., 2.],\n",
       "       [1., 2., 2.],\n",
       "       [1., 2., 2.]])"
      ]
     },
     "execution_count": 90,
     "metadata": {},
     "output_type": "execute_result"
    }
   ],
   "source": [
    "np.concatenate((m1, m2), axis=1)"
   ]
  },
  {
   "cell_type": "code",
   "execution_count": 91,
   "metadata": {},
   "outputs": [
    {
     "data": {
      "text/plain": [
       "array([[1., 2., 2.],\n",
       "       [1., 2., 2.],\n",
       "       [1., 2., 2.]])"
      ]
     },
     "execution_count": 91,
     "metadata": {},
     "output_type": "execute_result"
    }
   ],
   "source": [
    "np.c_[m1,m2]"
   ]
  },
  {
   "cell_type": "code",
   "execution_count": 92,
   "metadata": {},
   "outputs": [
    {
     "data": {
      "text/plain": [
       "array([[1., 1., 1.],\n",
       "       [2., 2., 2.],\n",
       "       [2., 2., 2.]])"
      ]
     },
     "execution_count": 92,
     "metadata": {},
     "output_type": "execute_result"
    }
   ],
   "source": [
    "np.r_[m1.T, m2.T]"
   ]
  },
  {
   "cell_type": "markdown",
   "metadata": {},
   "source": [
    "### Agrégation"
   ]
  },
  {
   "cell_type": "markdown",
   "metadata": {},
   "source": [
    "Les opérations `np.sum`, `np.max`, `np.min`, `np.std` fonctionnent par défaut sur la matrice à plat, mais on peut spécifier un axe."
   ]
  },
  {
   "cell_type": "code",
   "execution_count": 93,
   "metadata": {},
   "outputs": [
    {
     "data": {
      "text/plain": [
       "760"
      ]
     },
     "execution_count": 93,
     "metadata": {},
     "output_type": "execute_result"
    }
   ],
   "source": [
    "np.sum(ar2)"
   ]
  },
  {
   "cell_type": "code",
   "execution_count": 94,
   "metadata": {},
   "outputs": [
    {
     "data": {
      "text/plain": [
       "array([180, 580])"
      ]
     },
     "execution_count": 94,
     "metadata": {},
     "output_type": "execute_result"
    }
   ],
   "source": [
    "np.sum(ar2, axis=0)"
   ]
  },
  {
   "cell_type": "code",
   "execution_count": 95,
   "metadata": {},
   "outputs": [
    {
     "data": {
      "text/plain": [
       "array([ 4,  8, 12, 16,  6, 10, 14, 18,  8, 12, 16, 20, 10, 14, 18, 22, 12,\n",
       "       16, 20, 24, 14, 18, 22, 26, 16, 20, 24, 28, 18, 22, 26, 30, 20, 24,\n",
       "       28, 32, 22, 26, 30, 34])"
      ]
     },
     "execution_count": 95,
     "metadata": {},
     "output_type": "execute_result"
    }
   ],
   "source": [
    "np.sum(ar2, axis=1)"
   ]
  },
  {
   "cell_type": "markdown",
   "metadata": {},
   "source": [
    "###  Sélection"
   ]
  },
  {
   "cell_type": "code",
   "execution_count": 96,
   "metadata": {},
   "outputs": [
    {
     "data": {
      "text/plain": [
       "array([[7, 4, 8],\n",
       "       [5, 7, 3],\n",
       "       [7, 8, 5],\n",
       "       [4, 8, 8]])"
      ]
     },
     "execution_count": 96,
     "metadata": {},
     "output_type": "execute_result"
    }
   ],
   "source": [
    "r1 = np.random.randint(1, 10, (4,3))\n",
    "r1"
   ]
  },
  {
   "cell_type": "code",
   "execution_count": 97,
   "metadata": {},
   "outputs": [
    {
     "data": {
      "text/plain": [
       "array([[False,  True, False],\n",
       "       [False, False,  True],\n",
       "       [False, False, False],\n",
       "       [ True, False, False]])"
      ]
     },
     "execution_count": 97,
     "metadata": {},
     "output_type": "execute_result"
    }
   ],
   "source": [
    "r1<5"
   ]
  },
  {
   "cell_type": "code",
   "execution_count": 98,
   "metadata": {},
   "outputs": [
    {
     "data": {
      "text/plain": [
       "array([4, 3, 4])"
      ]
     },
     "execution_count": 98,
     "metadata": {},
     "output_type": "execute_result"
    }
   ],
   "source": [
    "r1[r1<5]"
   ]
  },
  {
   "cell_type": "code",
   "execution_count": 99,
   "metadata": {},
   "outputs": [
    {
     "data": {
      "text/plain": [
       "array([[ 5, 12,  5],\n",
       "       [ 5,  5, 12],\n",
       "       [ 5,  5,  5],\n",
       "       [12,  5,  5]])"
      ]
     },
     "execution_count": 99,
     "metadata": {},
     "output_type": "execute_result"
    }
   ],
   "source": [
    "np.where(r1<5,np.full((4,3),12), np.full((4,3),5))"
   ]
  },
  {
   "cell_type": "markdown",
   "metadata": {},
   "source": [
    "## Fonctions importantes  et exercices\n",
    "- arange\n",
    "- zeros, ones\n",
    "- eye\n",
    "- linspace\n",
    "- et dans le module `random`\n",
    "   - randint\n",
    "   - normal"
   ]
  },
  {
   "cell_type": "markdown",
   "metadata": {},
   "source": [
    "**Question** Affichez l'aide sur `random.normal`, puis générer un ensemble de 100 valeurs de moyenne 0 et d'écart type 3. Appeler `s1` cet `array`."
   ]
  },
  {
   "cell_type": "code",
   "execution_count": 100,
   "metadata": {},
   "outputs": [],
   "source": [
    "np.random.normal?"
   ]
  },
  {
   "cell_type": "code",
   "execution_count": 101,
   "metadata": {},
   "outputs": [],
   "source": [
    "s1 = np.random.normal(0, 3, 100)"
   ]
  },
  {
   "cell_type": "markdown",
   "metadata": {},
   "source": [
    "**Question** Rechercher dans la documentation comment générer un échantillon de 1000 points en dimension 2 où chaque coordonnée est tirée selon une loi normale centrée en 0 et de variance 10 . (Il faut faire une matrice de 2 lignes, la première ligne contient les 1000 coordonnées pour la première dimension, la seconde ligne contient les 1000 coordonnées pour la seconde dimension)"
   ]
  },
  {
   "cell_type": "code",
   "execution_count": 102,
   "metadata": {},
   "outputs": [],
   "source": [
    "s2 = np.random.normal(0, 10**0.5, (2, 1000))"
   ]
  },
  {
   "cell_type": "markdown",
   "metadata": {},
   "source": [
    "**Question** Importer les modules nécessaires pour tracer un plot pour la fonction représentée par `s1`"
   ]
  },
  {
   "cell_type": "code",
   "execution_count": 103,
   "metadata": {},
   "outputs": [],
   "source": [
    "import seaborn as sns\n",
    "import matplotlib.pyplot as plt"
   ]
  },
  {
   "cell_type": "markdown",
   "metadata": {},
   "source": [
    "**Question** : Tracer avec seaborn la distribution, (essayer plusieurs tracés, uniquement un histogramme, puis une estimation de la densité, essayez rugplot également,... soyez curieux!)"
   ]
  },
  {
   "cell_type": "code",
   "execution_count": 104,
   "metadata": {
    "scrolled": true
   },
   "outputs": [
    {
     "data": {
      "text/plain": [
       "<seaborn.axisgrid.FacetGrid at 0x7f8bb8e69640>"
      ]
     },
     "execution_count": 104,
     "metadata": {},
     "output_type": "execute_result"
    },
    {
     "data": {
      "image/png": "[encoded data removed]",
      "text/plain": [
       "<Figure size 432x288 with 1 Axes>"
      ]
     },
     "metadata": {
      "needs_background": "light"
     },
     "output_type": "display_data"
    },
    {
     "data": {
      "image/png": "[encoded data removed]",
      "text/plain": [
       "<Figure size 360x360 with 1 Axes>"
      ]
     },
     "metadata": {
      "needs_background": "light"
     },
     "output_type": "display_data"
    }
   ],
   "source": [
    "sns.scatterplot(x=np.arange(s1.size), y=s1)\n",
    "sns.displot(s1, kind=\"hist\")"
   ]
  },
  {
   "cell_type": "code",
   "execution_count": 105,
   "metadata": {},
   "outputs": [
    {
     "data": {
      "text/plain": [
       "<AxesSubplot:>"
      ]
     },
     "execution_count": 105,
     "metadata": {},
     "output_type": "execute_result"
    },
    {
     "data": {
      "image/png": "[encoded data removed]",
      "text/plain": [
       "<Figure size 432x288 with 1 Axes>"
      ]
     },
     "metadata": {
      "needs_background": "light"
     },
     "output_type": "display_data"
    }
   ],
   "source": [
    "sns.rugplot(s1)"
   ]
  },
  {
   "cell_type": "markdown",
   "metadata": {},
   "source": [
    "**Question** Tracer un scatter plot pour s2 avec pyplot et seaborn."
   ]
  },
  {
   "cell_type": "code",
   "execution_count": 106,
   "metadata": {},
   "outputs": [
    {
     "data": {
      "text/plain": [
       "<matplotlib.collections.PathCollection at 0x7f8bb579b820>"
      ]
     },
     "execution_count": 106,
     "metadata": {},
     "output_type": "execute_result"
    },
    {
     "data": {
      "image/png": "[encoded data removed]",
      "text/plain": [
       "<Figure size 432x288 with 1 Axes>"
      ]
     },
     "metadata": {
      "needs_background": "light"
     },
     "output_type": "display_data"
    }
   ],
   "source": [
    "plt.scatter(s2[0], s2[1])"
   ]
  },
  {
   "cell_type": "code",
   "execution_count": 107,
   "metadata": {},
   "outputs": [
    {
     "data": {
      "text/plain": [
       "<AxesSubplot:>"
      ]
     },
     "execution_count": 107,
     "metadata": {},
     "output_type": "execute_result"
    },
    {
     "data": {
      "image/png": "[encoded data removed]",
      "text/plain": [
       "<Figure size 432x288 with 1 Axes>"
      ]
     },
     "metadata": {
      "needs_background": "light"
     },
     "output_type": "display_data"
    }
   ],
   "source": [
    "sns.scatterplot(x=s2[0], y=s2[1])"
   ]
  },
  {
   "cell_type": "markdown",
   "metadata": {},
   "source": [
    "**Questions**\n",
    "\n",
    "Générer les objets suivants nommés ex1, ex2, ex3 et ex4.\n",
    "\n",
    "1. une matrice identité de dimension 5\n",
    "2. un tenseur de 0 de dimensions 3x4x5\n",
    "3. un vecteur d'entiers entre 4 et 100 de 3 en 3: 4, 7, 10, ....\n",
    "4. un vecteur de 100 valeurs régulièrement espacées entre 5 et 8."
   ]
  },
  {
   "cell_type": "code",
   "execution_count": 108,
   "metadata": {},
   "outputs": [],
   "source": [
    "ex1 = np.eye(5)\n",
    "ex2 = np.zeros((3, 4, 5))\n",
    "ex3 = np.arange(4, 101, 3)\n",
    "ex4 = np.linspace(5, 8, 100)"
   ]
  },
  {
   "cell_type": "markdown",
   "metadata": {},
   "source": [
    "\n",
    "**Questions** \n",
    "\n",
    "Faire un jeu de données `X`, `y` tel que `X` contient 1000 points\n",
    "   - 500 sont tirés comme précédemment selon une loi normale pour les 2 coordonnées centrée en 3, 3, variance 1\n",
    "   - 500 sont tirés comme précédemment selon une loi normale pour les 2 coordonnées centrée en 0, 5, variance 1\n",
    "   \n",
    "et `y` (une étiquette) contient 1 pour les 500 premiers et -1 pour les autres. \n",
    "\n",
    "*Remarque* : vous pouvez utiliser des multivariées normales ou des normales... à vous de choisir! Les coordonnées sont indépendantes les unes des autres.\n"
   ]
  },
  {
   "cell_type": "code",
   "execution_count": 109,
   "metadata": {},
   "outputs": [],
   "source": [
    "x1 = np.random.normal(3, 1, 500)"
   ]
  },
  {
   "cell_type": "code",
   "execution_count": 110,
   "metadata": {},
   "outputs": [],
   "source": [
    "y1 = np.random.normal(3, 1, 500)"
   ]
  },
  {
   "cell_type": "code",
   "execution_count": 111,
   "metadata": {},
   "outputs": [],
   "source": [
    "x2 = np.random.normal(0, 1, 500)"
   ]
  },
  {
   "cell_type": "code",
   "execution_count": 112,
   "metadata": {},
   "outputs": [],
   "source": [
    "y2 = np.random.normal(5, 1, 500)"
   ]
  },
  {
   "cell_type": "code",
   "execution_count": 113,
   "metadata": {},
   "outputs": [],
   "source": [
    "x = np.concatenate([x1, x2])"
   ]
  },
  {
   "cell_type": "code",
   "execution_count": 114,
   "metadata": {},
   "outputs": [],
   "source": [
    "y = np.concatenate([y1, y2])"
   ]
  },
  {
   "cell_type": "code",
   "execution_count": 115,
   "metadata": {},
   "outputs": [],
   "source": [
    "X = np.vstack([x, y])"
   ]
  },
  {
   "cell_type": "code",
   "execution_count": 116,
   "metadata": {},
   "outputs": [],
   "source": [
    "y = np.concatenate([np.ones(500), np.full(500, -1)])"
   ]
  },
  {
   "cell_type": "markdown",
   "metadata": {},
   "source": [
    "**Question** Tracer le nuage de points, l'option `c` de pyplot (`hue` de sns) permet de spécifier les couleurs que vous prenez selon `y`."
   ]
  },
  {
   "cell_type": "code",
   "execution_count": 117,
   "metadata": {},
   "outputs": [
    {
     "data": {
      "text/plain": [
       "<AxesSubplot:>"
      ]
     },
     "execution_count": 117,
     "metadata": {},
     "output_type": "execute_result"
    },
    {
     "data": {
      "image/png": "[encoded data removed]",
      "text/plain": [
       "<Figure size 432x288 with 1 Axes>"
      ]
     },
     "metadata": {
      "needs_background": "light"
     },
     "output_type": "display_data"
    }
   ],
   "source": [
    "sns.scatterplot(x=X[0], y=X[1], c=[\"blue\" if e == -1 else \"red\" for e in y])"
   ]
  },
  {
   "cell_type": "markdown",
   "metadata": {},
   "source": [
    "**<span style='color: red'>Activité</span>** Regarder la documentation de la fonction `make_blobs` de `scikit-learn`!..."
   ]
  },
  {
   "cell_type": "markdown",
   "metadata": {},
   "source": [
    "**Question** : recommencer avec cette fonction!"
   ]
  },
  {
   "cell_type": "code",
   "execution_count": 118,
   "metadata": {},
   "outputs": [],
   "source": [
    "from sklearn.datasets import make_blobs"
   ]
  },
  {
   "cell_type": "code",
   "execution_count": 125,
   "metadata": {},
   "outputs": [
    {
     "data": {
      "text/plain": [
       "<AxesSubplot:>"
      ]
     },
     "execution_count": 125,
     "metadata": {},
     "output_type": "execute_result"
    },
    {
     "data": {
      "image/png": "[encoded data removed]",
      "text/plain": [
       "<Figure size 432x288 with 1 Axes>"
      ]
     },
     "metadata": {
      "needs_background": "light"
     },
     "output_type": "display_data"
    }
   ],
   "source": [
    "X2, y2 = make_blobs(n_samples=1000, centers=[(3, 3), (0, 5)],\n",
    "                    random_state=42, shuffle=False)\n",
    "\n",
    "sns.scatterplot(x=X2[:, 0], y=X2[:, 1 ],\n",
    "               c=[\"#8D41F0\" if e == -1 else \"#FA6220\" for e in y])"
   ]
  },
  {
   "cell_type": "code",
   "execution_count": null,
   "metadata": {},
   "outputs": [],
   "source": []
  }
 ],
 "metadata": {
  "kernelspec": {
   "display_name": "Python 3",
   "language": "python",
   "name": "python3"
  },
  "language_info": {
   "codemirror_mode": {
    "name": "ipython",
    "version": 3
   },
   "file_extension": ".py",
   "mimetype": "text/x-python",
   "name": "python",
   "nbconvert_exporter": "python",
   "pygments_lexer": "ipython3",
   "version": "3.8.5"
  }
 },
 "nbformat": 4,
 "nbformat_minor": 2
}
