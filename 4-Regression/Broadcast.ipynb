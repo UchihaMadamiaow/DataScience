{
 "cells": [
  {
   "cell_type": "code",
   "execution_count": 2,
   "metadata": {},
   "outputs": [],
   "source": [
    "import numpy as np"
   ]
  },
  {
   "cell_type": "markdown",
   "metadata": {},
   "source": [
    "# Jouer avec des points"
   ]
  },
  {
   "cell_type": "markdown",
   "metadata": {},
   "source": [
    "On considère $Y$ les points sur la droite aux valeurs  1, 3, 7, 2 (c'est juste un vecteur)."
   ]
  },
  {
   "cell_type": "code",
   "execution_count": 3,
   "metadata": {},
   "outputs": [
    {
     "data": {
      "text/plain": [
       "array([1, 3, 7, 2])"
      ]
     },
     "execution_count": 3,
     "metadata": {},
     "output_type": "execute_result"
    }
   ],
   "source": [
    "Ｙ=np.array([1,3,7,2])\n",
    "Y"
   ]
  },
  {
   "cell_type": "markdown",
   "metadata": {},
   "source": [
    "On va calculer toute les différences entre ces valeurs. On construit un matrice `M` telle que `M[i,j] = Y[i] - Y[j]` et `i` et `j` sont deux indices pour tous les identifiants de points possibles. Pour cela, on peut utiliser le broadcasting... \n",
    "\n",
    "On constuit `Y - Y.T`, mais il faut transformer le vecteurs 1d `Y` en matrices `a` et `b` de taille (4, 1) et (1, 4)"
   ]
  },
  {
   "cell_type": "code",
   "execution_count": 4,
   "metadata": {},
   "outputs": [
    {
     "data": {
      "text/plain": [
       "(array([[1],\n",
       "        [3],\n",
       "        [7],\n",
       "        [2]]),\n",
       " array([[1, 3, 7, 2]]))"
      ]
     },
     "execution_count": 4,
     "metadata": {},
     "output_type": "execute_result"
    }
   ],
   "source": [
    "a = Y.reshape(4,1)\n",
    "b = Y.reshape(4,1).T\n",
    "a,b"
   ]
  },
  {
   "cell_type": "markdown",
   "metadata": {},
   "source": [
    "Une autre façon de procéder est d'ajouter un axe avec `np.newaxis`. Observer `Y[:, np.newaxis]`. En déduire comment construire `a` et `b` autrement."
   ]
  },
  {
   "cell_type": "code",
   "execution_count": 5,
   "metadata": {},
   "outputs": [
    {
     "data": {
      "text/plain": [
       "array([[ 0, -2, -6, -1],\n",
       "       [ 2,  0, -4,  1],\n",
       "       [ 6,  4,  0,  5],\n",
       "       [ 1, -1, -5,  0]])"
      ]
     },
     "execution_count": 5,
     "metadata": {},
     "output_type": "execute_result"
    }
   ],
   "source": [
    "a=Y[:,np.newaxis]\n",
    "b=a.T\n",
    "a-b"
   ]
  },
  {
   "cell_type": "markdown",
   "metadata": {},
   "source": [
    "On peut calculer les distances au carré de chaque point vers chaque autre point."
   ]
  },
  {
   "cell_type": "code",
   "execution_count": 6,
   "metadata": {},
   "outputs": [],
   "source": [
    "dist_carre=(a-b)*(a-b)"
   ]
  },
  {
   "cell_type": "code",
   "execution_count": 7,
   "metadata": {},
   "outputs": [
    {
     "data": {
      "text/plain": [
       "array([[ 0,  4, 36,  1],\n",
       "       [ 4,  0, 16,  1],\n",
       "       [36, 16,  0, 25],\n",
       "       [ 1,  1, 25,  0]])"
      ]
     },
     "execution_count": 7,
     "metadata": {},
     "output_type": "execute_result"
    }
   ],
   "source": [
    "dist_carre"
   ]
  },
  {
   "cell_type": "code",
   "execution_count": null,
   "metadata": {},
   "outputs": [],
   "source": []
  },
  {
   "cell_type": "markdown",
   "metadata": {},
   "source": [
    "Quel est le point le plus proche de chaque point ? Regardez la documentation de `np.argsort`. Voyez par exemple \n",
    "\n",
    "    np.argsort(np.array([1, 0, 12, 2]))\n",
    "    \n",
    "Appliquez cela sur la matrice des distance en prenant le bon axe!"
   ]
  },
  {
   "cell_type": "code",
   "execution_count": 8,
   "metadata": {},
   "outputs": [
    {
     "data": {
      "text/plain": [
       "array([[0, 3, 1, 2],\n",
       "       [1, 3, 0, 2],\n",
       "       [2, 1, 3, 0],\n",
       "       [3, 0, 1, 2]])"
      ]
     },
     "execution_count": 8,
     "metadata": {},
     "output_type": "execute_result"
    }
   ],
   "source": [
    "np.argsort(dist_carre)"
   ]
  },
  {
   "cell_type": "code",
   "execution_count": null,
   "metadata": {},
   "outputs": [],
   "source": []
  },
  {
   "cell_type": "code",
   "execution_count": null,
   "metadata": {},
   "outputs": [],
   "source": []
  },
  {
   "cell_type": "markdown",
   "metadata": {},
   "source": [
    "On recommence avec maintenant des points en dimension 2. On va alors calculer toutes les distances au carré entre ces points.  "
   ]
  },
  {
   "cell_type": "markdown",
   "metadata": {},
   "source": [
    "Tirer aléatoirement $X$, un jeu de données de 10 points dans $[0, 1]^2$. On utilise `np.random.rand`."
   ]
  },
  {
   "cell_type": "code",
   "execution_count": 9,
   "metadata": {},
   "outputs": [
    {
     "data": {
      "text/plain": [
       "(10, 2)"
      ]
     },
     "execution_count": 9,
     "metadata": {},
     "output_type": "execute_result"
    }
   ],
   "source": [
    "X=np.random.rand(10,2)\n",
    "X.shape"
   ]
  },
  {
   "cell_type": "markdown",
   "metadata": {},
   "source": [
    "On peut les tracer sur un petit diagramme."
   ]
  },
  {
   "cell_type": "code",
   "execution_count": 10,
   "metadata": {},
   "outputs": [
    {
     "data": {
      "text/plain": [
       "<matplotlib.collections.PathCollection at 0x7f09e466b460>"
      ]
     },
     "execution_count": 10,
     "metadata": {},
     "output_type": "execute_result"
    },
    {
     "data": {
      "image/png": "[encoded data removed]",
      "text/plain": [
       "<Figure size 432x288 with 1 Axes>"
      ]
     },
     "metadata": {
      "needs_background": "light"
     },
     "output_type": "display_data"
    }
   ],
   "source": [
    "import matplotlib.pyplot as plt\n",
    "plt.scatter(X[:,0],X[:,1])"
   ]
  },
  {
   "cell_type": "markdown",
   "metadata": {},
   "source": [
    "Dans `X` la première dimension représente le numéro du point et la deuxième dimension les coordonnées de ce point ($x_1$, $x_2$). \n",
    "\n",
    "Maintenant on calcule les `a` et `b` comme tout à l'heure. On ajoute une dimension pour créer un objet en 3 dimensions ($n1=10$, $n2=10$, $x$) à partir de $X$ qui était en dimensions $n=10$ et $x=2$. \n",
    "\n",
    "Par la somme ou la différence, on aura dans a[i, j, k] - b[i, j, k] = X[i, k] - X[j, k] "
   ]
  },
  {
   "cell_type": "code",
   "execution_count": 11,
   "metadata": {},
   "outputs": [],
   "source": [
    "a=X[:,np.newaxis]\n",
    "b=a[np.newaxis,:,0]"
   ]
  },
  {
   "cell_type": "code",
   "execution_count": 18,
   "metadata": {},
   "outputs": [
    {
     "data": {
      "text/plain": [
       "array([[[0.51687912, 0.56260511]],\n",
       "\n",
       "       [[0.43471293, 0.68701076]],\n",
       "\n",
       "       [[0.21762854, 0.2280055 ]],\n",
       "\n",
       "       [[0.47324313, 0.62622861]],\n",
       "\n",
       "       [[0.75407177, 0.44772914]],\n",
       "\n",
       "       [[0.71556783, 0.34107987]],\n",
       "\n",
       "       [[0.11089626, 0.07658834]],\n",
       "\n",
       "       [[0.23410107, 0.53025571]],\n",
       "\n",
       "       [[0.83303193, 0.03249881]],\n",
       "\n",
       "       [[0.70090266, 0.92037445]]])"
      ]
     },
     "execution_count": 18,
     "metadata": {},
     "output_type": "execute_result"
    }
   ],
   "source": [
    "a"
   ]
  },
  {
   "cell_type": "code",
   "execution_count": 19,
   "metadata": {},
   "outputs": [
    {
     "data": {
      "text/plain": [
       "array([[[0.51687912, 0.56260511],\n",
       "        [0.43471293, 0.68701076],\n",
       "        [0.21762854, 0.2280055 ],\n",
       "        [0.47324313, 0.62622861],\n",
       "        [0.75407177, 0.44772914],\n",
       "        [0.71556783, 0.34107987],\n",
       "        [0.11089626, 0.07658834],\n",
       "        [0.23410107, 0.53025571],\n",
       "        [0.83303193, 0.03249881],\n",
       "        [0.70090266, 0.92037445]]])"
      ]
     },
     "execution_count": 19,
     "metadata": {},
     "output_type": "execute_result"
    }
   ],
   "source": [
    "b"
   ]
  },
  {
   "cell_type": "code",
   "execution_count": 13,
   "metadata": {},
   "outputs": [
    {
     "data": {
      "text/plain": [
       "array([[[ 0.        ,  0.        ],\n",
       "        [ 0.08216619, -0.12440564],\n",
       "        [ 0.29925058,  0.33459961],\n",
       "        [ 0.04363599, -0.06362349],\n",
       "        [-0.23719265,  0.11487598],\n",
       "        [-0.1986887 ,  0.22152524],\n",
       "        [ 0.40598286,  0.48601678],\n",
       "        [ 0.28277805,  0.03234941],\n",
       "        [-0.31615281,  0.53010631],\n",
       "        [-0.18402354, -0.35776934]],\n",
       "\n",
       "       [[-0.08216619,  0.12440564],\n",
       "        [ 0.        ,  0.        ],\n",
       "        [ 0.21708439,  0.45900526],\n",
       "        [-0.0385302 ,  0.06078215],\n",
       "        [-0.31935884,  0.23928162],\n",
       "        [-0.2808549 ,  0.34593088],\n",
       "        [ 0.32381667,  0.61042242],\n",
       "        [ 0.20061186,  0.15675505],\n",
       "        [-0.398319  ,  0.65451195],\n",
       "        [-0.26618973, -0.2333637 ]],\n",
       "\n",
       "       [[-0.29925058, -0.33459961],\n",
       "        [-0.21708439, -0.45900526],\n",
       "        [ 0.        ,  0.        ],\n",
       "        [-0.25561459, -0.39822311],\n",
       "        [-0.53644323, -0.21972364],\n",
       "        [-0.49793928, -0.11307437],\n",
       "        [ 0.10673228,  0.15141716],\n",
       "        [-0.01647253, -0.30225021],\n",
       "        [-0.61540339,  0.19550669],\n",
       "        [-0.48327412, -0.69236895]],\n",
       "\n",
       "       [[-0.04363599,  0.06362349],\n",
       "        [ 0.0385302 , -0.06078215],\n",
       "        [ 0.25561459,  0.39822311],\n",
       "        [ 0.        ,  0.        ],\n",
       "        [-0.28082864,  0.17849947],\n",
       "        [-0.24232469,  0.28514874],\n",
       "        [ 0.36234687,  0.54964027],\n",
       "        [ 0.23914207,  0.0959729 ],\n",
       "        [-0.3597888 ,  0.5937298 ],\n",
       "        [-0.22765953, -0.29414584]],\n",
       "\n",
       "       [[ 0.23719265, -0.11487598],\n",
       "        [ 0.31935884, -0.23928162],\n",
       "        [ 0.53644323,  0.21972364],\n",
       "        [ 0.28082864, -0.17849947],\n",
       "        [ 0.        ,  0.        ],\n",
       "        [ 0.03850394,  0.10664926],\n",
       "        [ 0.64317551,  0.3711408 ],\n",
       "        [ 0.5199707 , -0.08252657],\n",
       "        [-0.07896016,  0.41523033],\n",
       "        [ 0.05316911, -0.47264532]],\n",
       "\n",
       "       [[ 0.1986887 , -0.22152524],\n",
       "        [ 0.2808549 , -0.34593088],\n",
       "        [ 0.49793928,  0.11307437],\n",
       "        [ 0.24232469, -0.28514874],\n",
       "        [-0.03850394, -0.10664926],\n",
       "        [ 0.        ,  0.        ],\n",
       "        [ 0.60467157,  0.26449154],\n",
       "        [ 0.48146676, -0.18917583],\n",
       "        [-0.1174641 ,  0.30858107],\n",
       "        [ 0.01466516, -0.57929458]],\n",
       "\n",
       "       [[-0.40598286, -0.48601678],\n",
       "        [-0.32381667, -0.61042242],\n",
       "        [-0.10673228, -0.15141716],\n",
       "        [-0.36234687, -0.54964027],\n",
       "        [-0.64317551, -0.3711408 ],\n",
       "        [-0.60467157, -0.26449154],\n",
       "        [ 0.        ,  0.        ],\n",
       "        [-0.12320481, -0.45366737],\n",
       "        [-0.72213567,  0.04408953],\n",
       "        [-0.5900064 , -0.84378612]],\n",
       "\n",
       "       [[-0.28277805, -0.03234941],\n",
       "        [-0.20061186, -0.15675505],\n",
       "        [ 0.01647253,  0.30225021],\n",
       "        [-0.23914207, -0.0959729 ],\n",
       "        [-0.5199707 ,  0.08252657],\n",
       "        [-0.48146676,  0.18917583],\n",
       "        [ 0.12320481,  0.45366737],\n",
       "        [ 0.        ,  0.        ],\n",
       "        [-0.59893086,  0.4977569 ],\n",
       "        [-0.4668016 , -0.39011875]],\n",
       "\n",
       "       [[ 0.31615281, -0.53010631],\n",
       "        [ 0.398319  , -0.65451195],\n",
       "        [ 0.61540339, -0.19550669],\n",
       "        [ 0.3597888 , -0.5937298 ],\n",
       "        [ 0.07896016, -0.41523033],\n",
       "        [ 0.1174641 , -0.30858107],\n",
       "        [ 0.72213567, -0.04408953],\n",
       "        [ 0.59893086, -0.4977569 ],\n",
       "        [ 0.        ,  0.        ],\n",
       "        [ 0.13212927, -0.88787565]],\n",
       "\n",
       "       [[ 0.18402354,  0.35776934],\n",
       "        [ 0.26618973,  0.2333637 ],\n",
       "        [ 0.48327412,  0.69236895],\n",
       "        [ 0.22765953,  0.29414584],\n",
       "        [-0.05316911,  0.47264532],\n",
       "        [-0.01466516,  0.57929458],\n",
       "        [ 0.5900064 ,  0.84378612],\n",
       "        [ 0.4668016 ,  0.39011875],\n",
       "        [-0.13212927,  0.88787565],\n",
       "        [ 0.        ,  0.        ]]])"
      ]
     },
     "execution_count": 13,
     "metadata": {},
     "output_type": "execute_result"
    }
   ],
   "source": [
    "a - b"
   ]
  },
  {
   "cell_type": "markdown",
   "metadata": {},
   "source": [
    "On peut calculer la différence au carré pour chaque coordonnée. "
   ]
  },
  {
   "cell_type": "code",
   "execution_count": 25,
   "metadata": {},
   "outputs": [
    {
     "data": {
      "text/plain": [
       "array([[[0.00000000e+00, 0.00000000e+00],\n",
       "        [6.75128308e-03, 1.54767639e-02],\n",
       "        [8.95509099e-02, 1.11956902e-01],\n",
       "        [1.90409960e-03, 4.04794910e-03],\n",
       "        [5.62603517e-02, 1.31964904e-02],\n",
       "        [3.94772011e-02, 4.90734329e-02],\n",
       "        [1.64822086e-01, 2.36212310e-01],\n",
       "        [7.99634283e-02, 1.04648416e-03],\n",
       "        [9.99525969e-02, 2.81012698e-01],\n",
       "        [3.38646635e-02, 1.27998899e-01]],\n",
       "\n",
       "       [[6.75128308e-03, 1.54767639e-02],\n",
       "        [0.00000000e+00, 0.00000000e+00],\n",
       "        [4.71256318e-02, 2.10685826e-01],\n",
       "        [1.48457647e-03, 3.69446947e-03],\n",
       "        [1.01990068e-01, 5.72556941e-02],\n",
       "        [7.88794725e-02, 1.19668177e-01],\n",
       "        [1.04857237e-01, 3.72615533e-01],\n",
       "        [4.02451196e-02, 2.45721457e-02],\n",
       "        [1.58658024e-01, 4.28385893e-01],\n",
       "        [7.08569737e-02, 5.44586146e-02]],\n",
       "\n",
       "       [[8.95509099e-02, 1.11956902e-01],\n",
       "        [4.71256318e-02, 2.10685826e-01],\n",
       "        [0.00000000e+00, 0.00000000e+00],\n",
       "        [6.53388190e-02, 1.58581645e-01],\n",
       "        [2.87771336e-01, 4.82784762e-02],\n",
       "        [2.47943531e-01, 1.27858136e-02],\n",
       "        [1.13917804e-02, 2.29271578e-02],\n",
       "        [2.71344101e-04, 9.13551876e-02],\n",
       "        [3.78721328e-01, 3.82228673e-02],\n",
       "        [2.33553876e-01, 4.79374767e-01]],\n",
       "\n",
       "       [[1.90409960e-03, 4.04794910e-03],\n",
       "        [1.48457647e-03, 3.69446947e-03],\n",
       "        [6.53388190e-02, 1.58581645e-01],\n",
       "        [0.00000000e+00, 0.00000000e+00],\n",
       "        [7.88647231e-02, 3.18620619e-02],\n",
       "        [5.87212572e-02, 8.13098022e-02],\n",
       "        [1.31295257e-01, 3.02104431e-01],\n",
       "        [5.71889273e-02, 9.21079797e-03],\n",
       "        [1.29447978e-01, 3.52515079e-01],\n",
       "        [5.18288618e-02, 8.65217773e-02]],\n",
       "\n",
       "       [[5.62603517e-02, 1.31964904e-02],\n",
       "        [1.01990068e-01, 5.72556941e-02],\n",
       "        [2.87771336e-01, 4.82784762e-02],\n",
       "        [7.88647231e-02, 3.18620619e-02],\n",
       "        [0.00000000e+00, 0.00000000e+00],\n",
       "        [1.48255361e-03, 1.13740655e-02],\n",
       "        [4.13674738e-01, 1.37745494e-01],\n",
       "        [2.70369530e-01, 6.81063491e-03],\n",
       "        [6.23470680e-03, 1.72416227e-01],\n",
       "        [2.82695384e-03, 2.23393595e-01]],\n",
       "\n",
       "       [[3.94772011e-02, 4.90734329e-02],\n",
       "        [7.88794725e-02, 1.19668177e-01],\n",
       "        [2.47943531e-01, 1.27858136e-02],\n",
       "        [5.87212572e-02, 8.13098022e-02],\n",
       "        [1.48255361e-03, 1.13740655e-02],\n",
       "        [0.00000000e+00, 0.00000000e+00],\n",
       "        [3.65627705e-01, 6.99557732e-02],\n",
       "        [2.31810240e-01, 3.57874964e-02],\n",
       "        [1.37978153e-02, 9.52222742e-02],\n",
       "        [2.15067017e-04, 3.35582211e-01]],\n",
       "\n",
       "       [[1.64822086e-01, 2.36212310e-01],\n",
       "        [1.04857237e-01, 3.72615533e-01],\n",
       "        [1.13917804e-02, 2.29271578e-02],\n",
       "        [1.31295257e-01, 3.02104431e-01],\n",
       "        [4.13674738e-01, 1.37745494e-01],\n",
       "        [3.65627705e-01, 6.99557732e-02],\n",
       "        [0.00000000e+00, 0.00000000e+00],\n",
       "        [1.51794251e-02, 2.05814084e-01],\n",
       "        [5.21479927e-01, 1.94388655e-03],\n",
       "        [3.48107558e-01, 7.11975012e-01]],\n",
       "\n",
       "       [[7.99634283e-02, 1.04648416e-03],\n",
       "        [4.02451196e-02, 2.45721457e-02],\n",
       "        [2.71344101e-04, 9.13551876e-02],\n",
       "        [5.71889273e-02, 9.21079797e-03],\n",
       "        [2.70369530e-01, 6.81063491e-03],\n",
       "        [2.31810240e-01, 3.57874964e-02],\n",
       "        [1.51794251e-02, 2.05814084e-01],\n",
       "        [0.00000000e+00, 0.00000000e+00],\n",
       "        [3.58718176e-01, 2.47761932e-01],\n",
       "        [2.17903729e-01, 1.52192636e-01]],\n",
       "\n",
       "       [[9.99525969e-02, 2.81012698e-01],\n",
       "        [1.58658024e-01, 4.28385893e-01],\n",
       "        [3.78721328e-01, 3.82228673e-02],\n",
       "        [1.29447978e-01, 3.52515079e-01],\n",
       "        [6.23470680e-03, 1.72416227e-01],\n",
       "        [1.37978153e-02, 9.52222742e-02],\n",
       "        [5.21479927e-01, 1.94388655e-03],\n",
       "        [3.58718176e-01, 2.47761932e-01],\n",
       "        [0.00000000e+00, 0.00000000e+00],\n",
       "        [1.74581428e-02, 7.88323163e-01]],\n",
       "\n",
       "       [[3.38646635e-02, 1.27998899e-01],\n",
       "        [7.08569737e-02, 5.44586146e-02],\n",
       "        [2.33553876e-01, 4.79374767e-01],\n",
       "        [5.18288618e-02, 8.65217773e-02],\n",
       "        [2.82695384e-03, 2.23393595e-01],\n",
       "        [2.15067017e-04, 3.35582211e-01],\n",
       "        [3.48107558e-01, 7.11975012e-01],\n",
       "        [2.17903729e-01, 1.52192636e-01],\n",
       "        [1.74581428e-02, 7.88323163e-01],\n",
       "        [0.00000000e+00, 0.00000000e+00]]])"
      ]
     },
     "execution_count": 25,
     "metadata": {},
     "output_type": "execute_result"
    }
   ],
   "source": [
    "carre=(a-b)*(a-b)\n",
    "carre"
   ]
  },
  {
   "cell_type": "markdown",
   "metadata": {},
   "source": [
    "La distance au carré est la somme pour toutes ces coordonnées. Donc la somme sur la troisième composante. "
   ]
  },
  {
   "cell_type": "code",
   "execution_count": 46,
   "metadata": {},
   "outputs": [],
   "source": [
    "dist_carre2 = [[carre[:,i][:,0]+carre[:,i][:,1]] for i in range(10)]"
   ]
  },
  {
   "cell_type": "code",
   "execution_count": 51,
   "metadata": {},
   "outputs": [
    {
     "data": {
      "text/plain": [
       "[[array([0.        , 0.02222805, 0.20150781, 0.00595205, 0.06945684,\n",
       "         0.08855063, 0.4010344 , 0.08100991, 0.38096529, 0.16186356])],\n",
       " [array([0.02222805, 0.        , 0.25781146, 0.00517905, 0.15924576,\n",
       "         0.19854765, 0.47747277, 0.06481727, 0.58704392, 0.12531559])],\n",
       " [array([0.20150781, 0.25781146, 0.        , 0.22392046, 0.33604981,\n",
       "         0.26072934, 0.03431894, 0.09162653, 0.4169442 , 0.71292864])],\n",
       " [array([0.00595205, 0.00517905, 0.22392046, 0.        , 0.11072679,\n",
       "         0.14003106, 0.43339969, 0.06639973, 0.48196306, 0.13835064])],\n",
       " [array([0.06945684, 0.15924576, 0.33604981, 0.11072679, 0.        ,\n",
       "         0.01285662, 0.55142023, 0.27718017, 0.17865093, 0.22622055])],\n",
       " [array([0.08855063, 0.19854765, 0.26072934, 0.14003106, 0.01285662,\n",
       "         0.        , 0.43558348, 0.26759774, 0.10902009, 0.33579728])],\n",
       " [array([0.4010344 , 0.47747277, 0.03431894, 0.43339969, 0.55142023,\n",
       "         0.43558348, 0.        , 0.22099351, 0.52342381, 1.06008257])],\n",
       " [array([0.08100991, 0.06481727, 0.09162653, 0.06639973, 0.27718017,\n",
       "         0.26759774, 0.22099351, 0.        , 0.60648011, 0.37009637])],\n",
       " [array([0.38096529, 0.58704392, 0.4169442 , 0.48196306, 0.17865093,\n",
       "         0.10902009, 0.52342381, 0.60648011, 0.        , 0.80578131])],\n",
       " [array([0.16186356, 0.12531559, 0.71292864, 0.13835064, 0.22622055,\n",
       "         0.33579728, 1.06008257, 0.37009637, 0.80578131, 0.        ])]]"
      ]
     },
     "execution_count": 51,
     "metadata": {},
     "output_type": "execute_result"
    }
   ],
   "source": [
    "dist_carre2"
   ]
  },
  {
   "cell_type": "markdown",
   "metadata": {},
   "source": [
    "Quels 2 points les plus proches du point 0 ?  On peut utiliser `np.argsort` sur les distances au premier point... "
   ]
  },
  {
   "cell_type": "code",
   "execution_count": 54,
   "metadata": {},
   "outputs": [],
   "source": [
    "dist0=dist_carre2[0]"
   ]
  },
  {
   "cell_type": "code",
   "execution_count": 55,
   "metadata": {},
   "outputs": [
    {
     "data": {
      "text/plain": [
       "array([[0, 3, 1, 4, 7, 5, 9, 2, 8, 6]])"
      ]
     },
     "execution_count": 55,
     "metadata": {},
     "output_type": "execute_result"
    }
   ],
   "source": [
    "np.argsort(dist0)"
   ]
  },
  {
   "cell_type": "code",
   "execution_count": null,
   "metadata": {},
   "outputs": [],
   "source": []
  },
  {
   "cell_type": "code",
   "execution_count": null,
   "metadata": {},
   "outputs": [],
   "source": []
  },
  {
   "cell_type": "code",
   "execution_count": null,
   "metadata": {},
   "outputs": [],
   "source": []
  }
 ],
 "metadata": {
  "kernelspec": {
   "display_name": "Python 3",
   "language": "python",
   "name": "python3"
  },
  "language_info": {
   "codemirror_mode": {
    "name": "ipython",
    "version": 3
   },
   "file_extension": ".py",
   "mimetype": "text/x-python",
   "name": "python",
   "nbconvert_exporter": "python",
   "pygments_lexer": "ipython3",
   "version": "3.8.3"
  }
 },
 "nbformat": 4,
 "nbformat_minor": 2
}
